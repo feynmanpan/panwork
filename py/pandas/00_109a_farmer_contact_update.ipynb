{
 "metadata": {
  "language_info": {
   "codemirror_mode": {
    "name": "ipython",
    "version": 3
   },
   "file_extension": ".py",
   "mimetype": "text/x-python",
   "name": "python",
   "nbconvert_exporter": "python",
   "pygments_lexer": "ipython3",
   "version": "3.6.8-final"
  },
  "orig_nbformat": 2,
  "kernelspec": {
   "name": "Python 3.6.8 64-bit",
   "display_name": "Python 3.6.8 64-bit",
   "metadata": {
    "interpreter": {
     "hash": "15bb2867f7d3caa9efbd56972aaa8e53078f5711f443e9ed293773eb99e388aa"
    }
   }
  }
 },
 "nbformat": 4,
 "nbformat_minor": 2,
 "cells": [
  {
   "cell_type": "code",
   "execution_count": null,
   "metadata": {},
   "outputs": [],
   "source": [
    "import os\n",
    "import sys\n",
    "import numpy as np\n",
    "import pandas as pd\n",
    "import re\n",
    "import time\n",
    "from datetime import date, datetime\n",
    "# \n",
    "import string\n",
    "import openpyxl\n",
    "from openpyxl import Workbook, load_workbook\n",
    "from openpyxl.styles import Alignment, PatternFill, Font, Border, Side, NamedStyle\n",
    "from openpyxl.utils import get_column_letter"
   ]
  },
  {
   "cell_type": "code",
   "execution_count": null,
   "metadata": {},
   "outputs": [],
   "source": [
    "stime = time.time() "
   ]
  },
  {
   "source": [
    "# 【109 公務資料: 調查名冊聯絡資料更新比對】 >>> 00_調查名冊.csv\n",
    "Dear 韻丞,\n",
    "\n",
    "檢附109年主力農家調查名冊，請查收，謝謝．\n",
    "因為還需要增加一欄調查員及確認那些農戶需要被剔除（排除家庭收支調查樣本戶），所以此檔案之後還會再更新．\n",
    "\n",
    "另外，亦檢附主力及勞動力調查完訪後之農戶基本資料，目的是為了讓調查員拿到最新農戶資料．\n",
    "\n",
    "請以農戶ID碰檔更新農戶電話手機及地址，\n",
    "\n",
    "若無農戶ID者，請以SEQ流水號碰檔更新．然後再請告知我們總共有多少更新的筆數，謝謝．\n",
    "\n",
    "最後一個附檔是主選樣本名冊範本，有問題再請提出討論，感謝．\n",
    "\n",
    "統計室 林楓敏 敬上"
   ],
   "cell_type": "markdown",
   "metadata": {}
  },
  {
   "source": [
    "【刪除】之後新增的欄位 \n",
    "\n",
    "============================================================================================\n",
    "\n",
    "【from】: ID代表以調查名冊的ID能碰到主力勞動力裡的ID，SEQ代表ID碰不到但SEQ有，空白則全碰不到 \n",
    "\n",
    "【tel_u,phone_u,addr_u】: 碰到之後，撈出來的連絡資訊( 年度最新，主力優先) \n",
    "\n",
    "【row_u】: 碰到之後，在主力勞動力excel中的列數\n",
    "\n",
    "【tel_new,phone_new,addr_new】: \n",
    "tel_u,phone_u,addr_u跟調查名冊中的連絡資訊比對後，真正使用的值\n",
    "若後面三個更新欄位不為Y代表沿用，Y代表用主力勞動力 \n",
    "\n",
    "【更新市內,更新手機,更新地址】: Y 代表撈出的連絡資訊不為空，且不等於調查名冊原來的值\n",
    "\n",
    "============================================================================================"
   ],
   "cell_type": "markdown",
   "metadata": {}
  },
  {
   "cell_type": "code",
   "execution_count": null,
   "metadata": {},
   "outputs": [],
   "source": [
    "# 目錄\n",
    "folder_src = ['farmer_income_survey', 'resources']\n",
    "folder_input = folder_src + ['input']\n",
    "folder_output = folder_src + ['output']\n",
    "year = '109'\n",
    "#\n",
    "folder_csv = folder_input + [year, 'csv']\n",
    "folder_raw = folder_input + [year, 'raw']\n",
    "folder_raw_mlin = folder_raw + ['20201006_楓敏_調查名冊']\n",
    "# 路徑\n",
    "csv_survey_name = '109年主力農家調查名冊-20201007(給韻丞更新連結編號10680).csv'\n",
    "csv_update_name = '主力及勞動力調查農戶基本資料(給韻丞).csv'\n",
    "csv_survey_path = os.path.join(*folder_raw_mlin, csv_survey_name)\n",
    "csv_update_path = os.path.join(*folder_raw_mlin, csv_update_name)\n",
    "# 另存excel,csv\n",
    "now = datetime.now().strftime('%Y%m%d_%H%M%S')\n",
    "save_xlsx = f'{year}_調查名冊(更新聯絡資訊)_{now}.xlsx'\n",
    "save_csv = f'01_調查名冊.csv'\n",
    "save_xlsx_path = os.path.join(*folder_raw_mlin, save_xlsx)\n",
    "save_csv_path = os.path.join(*folder_csv, save_csv)"
   ]
  },
  {
   "cell_type": "code",
   "execution_count": null,
   "metadata": {},
   "outputs": [],
   "source": [
    "# 讀取csv檔的共同參數\n",
    "init = {\n",
    "    # 'engine': 'python',\n",
    "    'encoding': 'utf-8',\n",
    "    'sep': ',',\n",
    "    'keep_default_na': False,  # 放棄自動轉NA\n",
    "}\n",
    "# ID欄位的統一字串處理\n",
    "def SE_upper(se):\n",
    "    try:\n",
    "        return se.str.strip().str.replace('[次]', '??').str.replace('[ \\u3000　]','').str.upper()  # 去空白，轉大寫\n",
    "    except:\n",
    "        print(f'{se.name}: SE_upper有問題，dtype={se.dtype}')\n",
    "        return se"
   ]
  },
  {
   "source": [
    "# 0.讀檔"
   ],
   "cell_type": "markdown",
   "metadata": {}
  },
  {
   "source": [
    "## 0-1: 調查名冊"
   ],
   "cell_type": "markdown",
   "metadata": {}
  },
  {
   "cell_type": "code",
   "execution_count": null,
   "metadata": {
    "tags": []
   },
   "outputs": [],
   "source": [
    "usecols = [\n",
    "    'V855', '編號', '層別', '樣本套號', '戶長姓名', '市內電話', '分機', '手機號碼', '地址',\n",
    "    '總銷售收入組距', '非對象註記', '總處連結編號', 'ID', '連結編號', '主備標記', '縣市', '區鄉鎮名稱',\n",
    "    'adcode', '農戶編號', '可耕作地面積', '主要經營型態', '戶內15歲以上人口',\n",
    "    '調查員', '刪除'\n",
    "]\n",
    "dtype = {col: str for col in usecols}\n",
    "# 造idx作唯一編號\n",
    "df_survey = pd.read_csv(csv_survey_path, **init, dtype=dtype, usecols=usecols).reset_index().rename(columns={'V855': 'SEQ', 'index': 'idx'})\n",
    "# 欄位清洗________________________________________\n",
    "cols_clean = ['SEQ', '戶長姓名', '市內電話', '分機', '手機號碼', '地址', 'ID', '連結編號', '農戶編號']\n",
    "for col in cols_clean:\n",
    "    df_survey[col] = SE_upper(df_survey[col])\n",
    "# 電話補0________________________________________\n",
    "cols_tel = ['市內電話', '手機號碼']\n",
    "for col in cols_tel:\n",
    "    df_survey[col] = df_survey[col].str.replace('-', '')  # 去 -\n",
    "    df_survey[col] = df_survey[col].str[0].str.match('[^0]')*'0' + df_survey[col]  # 開頭非0就補0\n",
    "    df_survey[col].fillna('', inplace=True)  # ''在取str[0]時會變nan\n",
    "# 無ID,SEQ者補idx\n",
    "df_survey['ID'] = np.where(df_survey['ID'] == '', 'ZID_'+df_survey['idx'].astype(str), df_survey['ID'])\n",
    "df_survey['SEQ'] = np.where(df_survey['SEQ'] == '', 'ZSEQ_'+df_survey['idx'].astype(str), df_survey['SEQ'])\n",
    "# >>> 去除: 農戶編號空者 <<<\n",
    "where = df_survey['農戶編號'] != \"\"\n",
    "df_survey = df_survey[where]\n",
    "# ===========================================================================\n",
    "print(df_survey.shape)\n",
    "df_survey[:3]"
   ]
  },
  {
   "cell_type": "code",
   "execution_count": null,
   "metadata": {},
   "outputs": [],
   "source": [
    "# 手動補ID，讓劉永昌之後00_109c_farmer_main 時，戶號=ID\n",
    "where = df_survey['戶長姓名'] == '劉永昌'\n",
    "idx = df_survey[where].index\n",
    "df_survey['ID'][idx] = 'T102811151'"
   ]
  },
  {
   "source": [
    "## 0-2: 主力&勞動力"
   ],
   "cell_type": "markdown",
   "metadata": {}
  },
  {
   "cell_type": "code",
   "execution_count": null,
   "metadata": {
    "tags": []
   },
   "outputs": [],
   "source": [
    "cols_map = {\n",
    "    '調查名稱': 's_name',\n",
    "    '年度': 'year',\n",
    "    '農戶ID': 'ID_u',\n",
    "    '受訪人姓名': 'name',\n",
    "    '電話1': 'tel1',\n",
    "    '電話2': 'tel2',\n",
    "    '地址': 'addr',\n",
    "    'SEQ流水號': 'SEQ_u',\n",
    "    'index': 'row'\n",
    "}\n",
    "cols_tar = [\n",
    "    'row',\n",
    "    'ID_u',\n",
    "    'SEQ_u',\n",
    "    'year',\n",
    "    's_name',\n",
    "    'tel', 'phone', 'addr',\n",
    "    'name'  # , 'tel1', 'tel2',\n",
    "]\n",
    "dtype = {col: str for col in cols_map}\n",
    "df_update = pd.read_csv(csv_update_path, **init, dtype=dtype).reset_index().rename(columns=cols_map)\n",
    "# 欄位全部清洗________________________________________\n",
    "for col in df_update.columns:\n",
    "    df_update[col] = SE_upper(df_update[col])\n",
    "# 電話補0________________________________________\n",
    "cols_tel = ['tel1', 'tel2']\n",
    "for col in cols_tel:\n",
    "    df_update[col] = df_update[col].str.replace('-', '')  # 去 -\n",
    "    df_update[col] = df_update[col].str[0].str.match('[^0]')*'0' + df_update[col]  # 開頭非0就補0\n",
    "    df_update[col].fillna('', inplace=True)  # ''在取str[0]時會變nan\n",
    "# tel 1,2 區分市內/手機\n",
    "df_update['tel'] = np.where(df_update['tel1'].str.match('^0[^9]'), df_update['tel1'], '')\n",
    "df_update['tel'] = np.where(df_update['tel2'].str.match('^0[^9]'), df_update['tel2'], df_update['tel'])\n",
    "df_update['phone'] = np.where(df_update['tel1'].str.match('^09'), df_update['tel1'], '')\n",
    "df_update['phone'] = np.where(df_update['tel2'].str.match('^09'), df_update['tel2'], df_update['phone'])\n",
    "# 農戶ID是0的轉''\n",
    "df_update['ID_u'] = df_update['ID_u'].str.replace('^0$', '')\n",
    "# 調查名稱排序用\n",
    "df_update['s_name'] = df_update['s_name'].str.replace('勞動力', '0_L').str.replace('主力', '1_Farmer')\n",
    "# 無ID,SEQ者補index\n",
    "df_update['row'] = df_update['row'] + 2\n",
    "df_update['ID_u'] = np.where(df_update['ID_u'] == '', 'IDu_'+df_update['row'].astype(str), df_update['ID_u'])\n",
    "df_update['SEQ_u'] = np.where(df_update['SEQ_u'] == '', 'SEQu_'+df_update['row'].astype(str), df_update['SEQ_u'])\n",
    "#\n",
    "df_update = df_update[cols_tar]\n",
    "#\n",
    "# ===========================================================================\n",
    "print(df_update.shape)\n",
    "df_update[:3]"
   ]
  },
  {
   "source": [
    "# 1.>>> Join"
   ],
   "cell_type": "markdown",
   "metadata": {}
  },
  {
   "cell_type": "code",
   "execution_count": null,
   "metadata": {},
   "outputs": [],
   "source": [
    "df_s = df_survey[['idx', 'ID', 'SEQ']]\n",
    "df_s[:3]"
   ]
  },
  {
   "source": [
    "## 1-1: 先碰 ID"
   ],
   "cell_type": "markdown",
   "metadata": {}
  },
  {
   "cell_type": "code",
   "execution_count": null,
   "metadata": {
    "tags": []
   },
   "outputs": [],
   "source": [
    "df_s_ID = df_s.merge(df_update, left_on=['ID'], right_on=['ID_u'], how='left')\n",
    "df_s_ID = df_s_ID.sort_values(by=['idx', 'year', 's_name']).drop_duplicates(subset=['idx'], keep='last').reset_index(drop=True)\n",
    "#\n",
    "where = df_s_ID['ID_u'].notna()\n",
    "df_s_ID['from_ID'] = np.where(where, 'Y', '')\n",
    "cols_map = {'tel': 'tel_ID', 'phone': 'phone_ID', 'addr': 'addr_ID', 'row': 'row_ID'}\n",
    "df_s_ID = df_s_ID[['idx', 'ID', 'SEQ', 'from_ID', 'tel', 'phone', 'addr', 'row']].rename(columns=cols_map).fillna('')\n",
    "#\n",
    "print(df_s_ID.shape)\n",
    "df_s_ID"
   ]
  },
  {
   "source": [
    "## 1-2: 再碰 SEQ"
   ],
   "cell_type": "markdown",
   "metadata": {}
  },
  {
   "cell_type": "code",
   "execution_count": null,
   "metadata": {},
   "outputs": [],
   "source": [
    "df_s_SEQ = df_s.merge(df_update, left_on=['SEQ'], right_on=['SEQ_u'], how='left')\n",
    "df_s_SEQ = df_s_SEQ.sort_values(by=['idx', 'year', 's_name']).drop_duplicates(subset=['idx'], keep='last').reset_index(drop=True)\n",
    "#\n",
    "where = df_s_SEQ['SEQ_u'].notna()\n",
    "df_s_SEQ['from_SEQ'] = np.where(where, 'Y', '')\n",
    "cols_map = {'tel': 'tel_SEQ', 'phone': 'phone_SEQ', 'addr': 'addr_SEQ', 'row': 'row_SEQ'}\n",
    "df_s_SEQ = df_s_SEQ[['idx', 'ID', 'SEQ', 'from_SEQ', 'tel', 'phone', 'addr', 'row']].rename(columns=cols_map).fillna('')\n",
    "#\n",
    "print(df_s_SEQ.shape)\n",
    "df_s_SEQ"
   ]
  },
  {
   "source": [
    "## 1-3: df_survey 結合碰完 ID, SEQ"
   ],
   "cell_type": "markdown",
   "metadata": {}
  },
  {
   "cell_type": "code",
   "execution_count": null,
   "metadata": {},
   "outputs": [],
   "source": [
    "where1 = (df_s_ID['from_ID'] == 'Y')\n",
    "where3 = (df_s_ID['from_ID'] == '') & (df_s_SEQ['from_SEQ'] == 'Y')\n",
    "where4 = (df_s_ID['from_ID'] == '') & (df_s_SEQ['from_SEQ'] == '')\n",
    "#\n",
    "df_survey['from'] = np.where(where1, 'ID', '')\n",
    "df_survey['from'] = np.where(where3, 'SEQ', df_survey['from'])\n",
    "# 優先選碰ID來的===================================================================\n",
    "df_survey['tel_u'] = np.where(where1, df_s_ID['tel_ID'], '')\n",
    "df_survey['tel_u'] = np.where(where3, df_s_SEQ['tel_SEQ'], df_survey['tel_u'])\n",
    "#\n",
    "df_survey['phone_u'] = np.where(where1, df_s_ID['phone_ID'], '')\n",
    "df_survey['phone_u'] = np.where(where3, df_s_SEQ['phone_SEQ'], df_survey['phone_u'])\n",
    "#\n",
    "df_survey['addr_u'] = np.where(where1, df_s_ID['addr_ID'], '')\n",
    "df_survey['addr_u'] = np.where(where3, df_s_SEQ['addr_SEQ'], df_survey['addr_u'])\n",
    "#\n",
    "df_survey['row_u'] = np.where(where1, df_s_ID['row_ID'], '')\n",
    "df_survey['row_u'] = np.where(where3, df_s_SEQ['row_SEQ'], df_survey['row_u'])"
   ]
  },
  {
   "source": [
    "## 1-4: 跟調查名冊原始聯絡資訊比對"
   ],
   "cell_type": "markdown",
   "metadata": {}
  },
  {
   "cell_type": "code",
   "execution_count": null,
   "metadata": {},
   "outputs": [],
   "source": [
    "where_tel = (df_survey['tel_u'] != '') & (df_survey['tel_u'] != df_survey['市內電話'])\n",
    "df_survey['tel_new'] = np.where(where_tel, df_survey['tel_u'], df_survey['市內電話'])\n",
    "#\n",
    "where_phone = (df_survey['phone_u'] != '') & (df_survey['phone_u'] != df_survey['手機號碼'])\n",
    "df_survey['phone_new'] = np.where(where_phone, df_survey['phone_u'], df_survey['手機號碼'])\n",
    "#\n",
    "where_addr = (df_survey['addr_u'] != '') & (df_survey['addr_u'] != df_survey['地址'])\n",
    "df_survey['addr_new'] = np.where(where_addr, df_survey['addr_u'], df_survey['地址'])\n",
    "#\n",
    "df_survey['更新市內'] = np.where(where_tel, 'Y', '')\n",
    "df_survey['更新手機'] = np.where(where_phone, 'Y', '')\n",
    "df_survey['更新地址'] = np.where(where_addr, 'Y', '')\n",
    "#\n",
    "# del df_survey['idx']\n",
    "# df_survey['SEQ'] = df_survey['SEQ'].str.replace('^ZSEQ_.+', '')\n",
    "# df_survey['ID'] = df_survey['ID'].str.replace('^ZID_.+', '')\n",
    "#\n",
    "df_survey[:3]"
   ]
  },
  {
   "source": [
    "## 1-5: 調查名冊另存新檔"
   ],
   "cell_type": "markdown",
   "metadata": {}
  },
  {
   "cell_type": "code",
   "execution_count": null,
   "metadata": {},
   "outputs": [],
   "source": [
    "# csv保留ZSEQ,ZID\n",
    "df_survey.to_csv(save_csv_path, index=False)"
   ]
  },
  {
   "cell_type": "code",
   "execution_count": null,
   "metadata": {},
   "outputs": [],
   "source": [
    "del df_survey['idx']\n",
    "df_survey['SEQ'] = df_survey['SEQ'].str.replace('^ZSEQ_.+', '')\n",
    "df_survey['ID'] = df_survey['ID'].str.replace('^ZID_.+', '')\n",
    "# \n",
    "df_survey.to_excel(save_xlsx_path, index=False)"
   ]
  },
  {
   "cell_type": "code",
   "execution_count": null,
   "metadata": {},
   "outputs": [],
   "source": [
    "wb = load_workbook(save_xlsx_path)\n",
    "sheet = wb.active"
   ]
  },
  {
   "cell_type": "code",
   "execution_count": null,
   "metadata": {},
   "outputs": [],
   "source": [
    "fill_G = PatternFill(start_color='D9D9D9', end_color='D9D9D9', fill_type='solid')\n",
    "fill_Y = PatternFill(start_color='FFFF00', end_color='FFFF00', fill_type='solid')\n",
    "side = Side(style='medium')\n",
    "border = Border(left=side)\n",
    "font_red = Font(color='FF0000')\n",
    "#\n",
    "widths = [\n",
    "    15.75, 4.88, 4.88, 8.88, 11.63, 15, 4.88, 12.38, 66.5, 18, 11, 13.25,\n",
    "    11.75, 8.88, 8.88, 8.88, 11, 7.88, 13.25, 21.25, 13.25, 17.75, 8.38, 8.38\n",
    "]\n",
    "widths_rest = [8.43, 15, 12.38, 66.5, 8.43, 15, 12.38, 66.5, 9.3, 9.3, 9.3]\n",
    "ratio = 1.13\n",
    "#\n",
    "cols_AX = list(string.ascii_uppercase)[:24]  # A-X\n",
    "cols_rest = range(25, 36)  # Y-AI\n",
    "# 調整欄寬\n",
    "for idx, col in enumerate(cols_AX):\n",
    "    sheet.column_dimensions[col].width = widths[idx]*ratio\n",
    "    sheet[f'{col}1'].fill = fill_G\n",
    "for col in cols_rest:\n",
    "    sheet.column_dimensions[get_column_letter(col)].width = widths_rest[col-25]*ratio\n",
    "    sheet.cell(row=1, column=col).fill = fill_Y\n",
    "# 加垂直粗線及無SEQ紅字\n",
    "for row in range(1, sheet.max_row+1):\n",
    "    sheet.cell(row=row, column=25).border = border\n",
    "    sheet.cell(row=row, column=30).border = border\n",
    "    sheet.cell(row=row, column=33).border = border\n",
    "    if not sheet.cell(row=row, column=1).value:\n",
    "        for col in range(1,36):\n",
    "            sheet.cell(row=row, column=col).font = font_red\n",
    "# 凍結\n",
    "c = sheet['D2']\n",
    "sheet.freeze_panes = c"
   ]
  },
  {
   "cell_type": "code",
   "execution_count": null,
   "metadata": {},
   "outputs": [],
   "source": [
    "wb.save(save_xlsx_path)"
   ]
  },
  {
   "source": [
    "# 2.調查名冊檢查"
   ],
   "cell_type": "markdown",
   "metadata": {}
  },
  {
   "source": [
    "## 2-1: 【編號】流水號不順\n",
    "\n",
    "查到一筆。excel中，1069列的【編號】為 6668，應為 1068"
   ],
   "cell_type": "markdown",
   "metadata": {}
  },
  {
   "cell_type": "code",
   "execution_count": null,
   "metadata": {},
   "outputs": [],
   "source": [
    "# 名冊中的【編號】有無流水號\n",
    "idx_pair = df_survey['編號'].to_frame().astype(int).reset_index().rename(columns={'index':'idx'})\n",
    "idx_pair['idx'] = idx_pair['idx'] + 1\n",
    "idx_pair['D'] = idx_pair['idx'] - idx_pair['編號']\n",
    "# \n",
    "idx_pair[idx_pair.D!=0]"
   ]
  },
  {
   "source": [
    "## 2-2: 同ID 同套號"
   ],
   "cell_type": "markdown",
   "metadata": {}
  },
  {
   "cell_type": "code",
   "execution_count": null,
   "metadata": {},
   "outputs": [],
   "source": [
    "# 同ID 同套號\n",
    "cols = ['樣本套號','ID']\n",
    "df_pair = df_survey[cols]\n",
    "IDs = df_pair[df_pair.duplicated() & (df_pair.ID!=\"\")].ID\n",
    "df_survey[df_survey.ID.isin(IDs)][cols+['編號']].sort_values(by=['ID','樣本套號'])"
   ]
  },
  {
   "source": [
    "## 2-3: 主力勞動力缺聯絡資訊"
   ],
   "cell_type": "markdown",
   "metadata": {}
  },
  {
   "cell_type": "code",
   "execution_count": null,
   "metadata": {},
   "outputs": [],
   "source": [
    "# 主力勞動力缺聯絡資訊\n",
    "where = True\n",
    "where &= df_update.tel==''\n",
    "where |= df_update.phone==''\n",
    "where |= df_update.addr==''\n",
    "# \n",
    "df_update[where]"
   ]
  },
  {
   "cell_type": "code",
   "execution_count": null,
   "metadata": {},
   "outputs": [],
   "source": [
    "df_update.shape"
   ]
  },
  {
   "source": [
    "## 2-4: 主備選確認"
   ],
   "cell_type": "markdown",
   "metadata": {}
  },
  {
   "cell_type": "code",
   "execution_count": null,
   "metadata": {},
   "outputs": [],
   "source": [
    "cols = ['ID', '樣本套號', '農戶編號', '連結編號', '主備標記']\n",
    "df_tmp = df_survey[cols]\n",
    "df_tmp"
   ]
  },
  {
   "cell_type": "code",
   "execution_count": null,
   "metadata": {},
   "outputs": [],
   "source": [
    "where = df_tmp['農戶編號'] == ''\n",
    "df_tmp[where]"
   ]
  },
  {
   "cell_type": "code",
   "execution_count": null,
   "metadata": {},
   "outputs": [],
   "source": [
    "where = df_tmp['樣本套號'] != df_tmp['農戶編號'].str[-1]\n",
    "df_tmp[where]"
   ]
  },
  {
   "cell_type": "code",
   "execution_count": null,
   "metadata": {},
   "outputs": [],
   "source": [
    "where = df_tmp['農戶編號'].str[-5:] != df_tmp['連結編號'].str.zfill(5)\n",
    "df_tmp[where]"
   ]
  },
  {
   "cell_type": "code",
   "execution_count": null,
   "metadata": {},
   "outputs": [],
   "source": [
    "where = df_tmp['樣本套號'] != df_tmp['連結編號'].str[-1]\n",
    "df_tmp[where]"
   ]
  },
  {
   "cell_type": "code",
   "execution_count": null,
   "metadata": {},
   "outputs": [],
   "source": [
    "where = df_tmp['樣本套號'].str.match('0').astype(object) * '*' != df_tmp['主備標記']\n",
    "df_tmp[where]"
   ]
  },
  {
   "cell_type": "code",
   "execution_count": null,
   "metadata": {},
   "outputs": [],
   "source": [
    "where = df_tmp['ID'] == \"\"\n",
    "df_tmp[where]"
   ]
  },
  {
   "cell_type": "code",
   "execution_count": null,
   "metadata": {},
   "outputs": [],
   "source": [
    "time.time() - stime"
   ]
  }
 ]
}