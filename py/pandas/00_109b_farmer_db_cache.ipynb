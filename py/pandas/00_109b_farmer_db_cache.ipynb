{
 "metadata": {
  "language_info": {
   "codemirror_mode": {
    "name": "ipython",
    "version": 3
   },
   "file_extension": ".py",
   "mimetype": "text/x-python",
   "name": "python",
   "nbconvert_exporter": "python",
   "pygments_lexer": "ipython3",
   "version": "3.6.8-final"
  },
  "orig_nbformat": 2,
  "kernelspec": {
   "name": "Python 3.6.8 64-bit",
   "display_name": "Python 3.6.8 64-bit",
   "metadata": {
    "interpreter": {
     "hash": "15bb2867f7d3caa9efbd56972aaa8e53078f5711f443e9ed293773eb99e388aa"
    }
   }
  }
 },
 "nbformat": 4,
 "nbformat_minor": 2,
 "cells": [
  {
   "cell_type": "code",
   "execution_count": null,
   "metadata": {},
   "outputs": [],
   "source": [
    "import os\n",
    "import sys\n",
    "import pandas as pd\n",
    "import numpy as np\n",
    "import json\n",
    "import time"
   ]
  },
  {
   "cell_type": "code",
   "execution_count": null,
   "metadata": {},
   "outputs": [],
   "source": [
    "stime = time.time()"
   ]
  },
  {
   "source": [
    "# db_cache的資料處理，給公務資料使用"
   ],
   "cell_type": "markdown",
   "metadata": {}
  },
  {
   "cell_type": "code",
   "execution_count": null,
   "metadata": {},
   "outputs": [],
   "source": [
    "# 目錄\n",
    "folder_src = ['farmer_income_survey', 'resources']\n",
    "folder_input = folder_src + ['input']\n",
    "folder_output = folder_src + ['output']\n",
    "year = '109'\n",
    "#\n",
    "folder_raw = folder_input + [year, 'raw']\n",
    "folder_csv = folder_input + [year, 'csv']\n",
    "folder_db_cache = folder_input + [year, 'db_cache']\n",
    "# ====================================================================\n",
    "# 12個db_cache的csv檔名&存檔路徑\n",
    "db_cache_list = [\n",
    "    'household',  # 戶籍檔\n",
    "    'fallow_declare',  # 休耕轉作申報\n",
    "    'fallow_transfer_subsidy',  # 休耕轉作補貼\n",
    "    'small_large_tenant_information_landlord_id',  # 小大地主id\n",
    "    'small_large_tenant_information_tenant_id',  # 小大承租人id\n",
    "    'small_large_tenant_transfer',  # 小大轉作補貼\n",
    "    'small_large_landlord_rent',  # 小大出租給付\n",
    "    'small_large_landlord_retire',  # 小大離農獎勵\n",
    "    'disaster_subsidy',  # 天災救助\n",
    "    'child_scholarship',  # 子女獎助學金\n",
    "    'livestock',  # 畜牧\n",
    "    'elder_allowance',  # 老農津貼\n",
    "]\n",
    "#\n",
    "for name in db_cache_list:\n",
    "    csv_fname = f'db_{name}.csv'\n",
    "    var_name = f'db_{name}_csv'\n",
    "    path_name = f'path_db_{name}_csv'\n",
    "    locals()[var_name] = csv_fname\n",
    "    locals()[path_name] = os.path.join(*folder_db_cache, csv_fname)"
   ]
  },
  {
   "cell_type": "code",
   "execution_count": null,
   "metadata": {},
   "outputs": [],
   "source": [
    "# 讀取csv檔的共同參數\n",
    "init = {\n",
    "    # 'engine': 'python',\n",
    "    'encoding': 'utf-8',\n",
    "    'sep': ',',\n",
    "    'keep_default_na': False,  # 放棄自動轉NA\n",
    "}\n",
    "# ID欄位的統一字串處理\n",
    "def SE_upper(se):\n",
    "    try:\n",
    "        return se.str.strip().str.replace('[次]', '??').str.replace('[ \\u3000　]','').str.upper()  # 去空白，轉大寫\n",
    "    except:\n",
    "        print(f'{se.name}: SE_upper有問題，dtype={se.dtype}')\n",
    "        return se"
   ]
  },
  {
   "source": [
    "# 0.調查名冊"
   ],
   "cell_type": "markdown",
   "metadata": {}
  },
  {
   "cell_type": "code",
   "execution_count": null,
   "metadata": {},
   "outputs": [],
   "source": [
    "csv_survey_path = os.path.join(*folder_csv, '01_調查名冊.csv')\n",
    "cols = [\n",
    "    'SEQ', '編號', '層別', '樣本套號', '戶長姓名', '市內電話', '分機', '手機號碼', '地址',\n",
    "    '總銷售收入組距', '非對象註記', '總處連結編號', 'ID', '連結編號', '主備標記', '縣市', '區鄉鎮名稱',\n",
    "    'adcode', '農戶編號', '可耕作地面積', '主要經營型態', '戶內15歲以上人口',\n",
    "    '調查員', '刪除',\n",
    "    'from', 'tel_u', 'phone_u', 'addr_u', 'row_u', 'tel_new', 'phone_new', 'addr_new', '更新市內', '更新手機', '更新地址'\n",
    "]\n",
    "dtype = {col: str for col in cols}\n",
    "#\n",
    "df_survey = pd.read_csv(csv_survey_path, **init, dtype=dtype)\n",
    "#\n",
    "print(df_survey.shape)\n",
    "df_survey[:3]"
   ]
  },
  {
   "cell_type": "code",
   "execution_count": null,
   "metadata": {},
   "outputs": [],
   "source": [
    "# 調查名冊提供9039個ID(去重複=9027)給內政部\n",
    "where = True\n",
    "where &= ~df_survey['ID'].str.contains('ZID')\n",
    "where &= df_survey['農戶編號'] != ''\n",
    "#\n",
    "tmp = df_survey[where]\n",
    "print('提供=', tmp.shape)\n",
    "#\n",
    "ID_survey = set(tmp['ID'])\n",
    "print('去重=', len(ID_survey))"
   ]
  },
  {
   "source": [
    "# 1.戶籍檔處理 (db_household.csv)"
   ],
   "cell_type": "markdown",
   "metadata": {}
  },
  {
   "source": [
    "## 1-1: 讀內政部原始檔"
   ],
   "cell_type": "markdown",
   "metadata": {}
  },
  {
   "source": [
    "### ---全戶戶籍檔"
   ],
   "cell_type": "markdown",
   "metadata": {}
  },
  {
   "source": [
    "# 109/10/22，佩芬提供\n",
    "folder_raw_household = folder_raw + ['20201022_佩芬_內政部戶籍檔']\n",
    "csv_hh_path = os.path.join(*folder_raw_household, 'coa_d03_10910_utf8.csv')\n",
    "# 13欄(不含第14欄換行符號),最後9欄\n",
    "cols = [\n",
    "    '表頭', '統號', '出生日期', '戶號', 'addr1', 'addr2', 'addr3', 'addr4', 'addr5',\n",
    "    '與戶長關係', '個人註記代碼', '遷出類別', '戶別代碼'\n",
    "]\n",
    "cols_tar = cols[:4] + ['戶籍地址'] + cols[9:]\n",
    "dtype = {col: str for col in cols}  # 全以字串讀入\n",
    "df_hh = pd.read_csv(csv_hh_path, **init, dtype=dtype, usecols=cols)\n",
    "# 欄位清洗\n",
    "for col in cols:\n",
    "    df_hh[col] = SE_upper(df_hh[col])\n",
    "# 戶籍地址5欄合併\n",
    "df_hh['戶籍地址'] = df_hh['addr1']+df_hh['addr2']+df_hh['addr3']+df_hh['addr4']+df_hh['addr5']\n",
    "df_hh = df_hh[cols_tar]\n",
    "# 過濾\n",
    "df_hh.drop_duplicates(inplace=True)  # 會有重複的，因為重複給調查名冊的ID\n",
    "where = ~df_hh['表頭'].isin(['@@', '']) # 最後一行有檔案結束符號\n",
    "df_hh = df_hh[where]  \n",
    "#\n",
    "df_hh"
   ],
   "cell_type": "code",
   "metadata": {},
   "execution_count": null,
   "outputs": []
  },
  {
   "source": [
    "### ---個人戶籍,全戶未轉出"
   ],
   "cell_type": "markdown",
   "metadata": {}
  },
  {
   "cell_type": "code",
   "execution_count": null,
   "metadata": {},
   "outputs": [],
   "source": [
    "# 讀檔\n",
    "csv_p_path = os.path.join(*folder_raw_household, 'coa_d02_10910_utf8.csv')  # 個人資料，ID在第二欄\n",
    "csv_hh_dif_path = os.path.join(*folder_raw_household, 'coa_d03_10910_dif.csv')  # 全戶未轉出，只有一欄ID\n",
    "#\n",
    "df_p = pd.read_csv(csv_p_path, **init, header=None)\n",
    "df_hh_dif = pd.read_csv(csv_hh_dif_path, **init, header=None)\n",
    "# 清ID欄\n",
    "df_p[1] = SE_upper(df_p[1])\n",
    "df_hh_dif[0] = SE_upper(df_hh_dif[0])\n",
    "#\n",
    "where1 = ~df_p[0].isin(['@@', ''])\n",
    "where2 = ~df_hh_dif[0].isin(['@@', ''])\n",
    "df_p = df_p[where1]\n",
    "df_hh_dif = df_hh_dif[where2]"
   ]
  },
  {
   "cell_type": "code",
   "execution_count": null,
   "metadata": {},
   "outputs": [],
   "source": [
    "ID_p = set(df_p[1])\n",
    "ID_hh_dif = set(df_hh_dif[0])\n",
    "ID_hh = set(df_hh['統號'])\n",
    "# 個人戶籍有8920筆，去重8908\n",
    "print(df_p.shape, len(ID_p), len(ID_hh_dif), len(ID_hh), len(ID_survey))"
   ]
  },
  {
   "cell_type": "code",
   "execution_count": null,
   "metadata": {},
   "outputs": [],
   "source": [
    "# 個人戶籍/未轉出的ID應該出自調查名冊\n",
    "print(ID_p.issubset(ID_survey), ID_hh_dif.issubset(ID_survey))\n",
    "# 個人戶籍在全戶籍檔/ 未轉出不在全戶籍檔\n",
    "print(ID_p.issubset(ID_hh), ID_hh_dif & ID_hh, ID_hh_dif & ID_p)\n",
    "# 個人戶籍8908+未轉出119=9027\n",
    "ID_p | ID_hh_dif == ID_survey"
   ]
  },
  {
   "source": [
    "### >>> 全戶戶籍檔所有ID，佩芬要去要勞保資料"
   ],
   "cell_type": "markdown",
   "metadata": {}
  },
  {
   "cell_type": "code",
   "execution_count": null,
   "metadata": {},
   "outputs": [],
   "source": [
    "ID_hh_all = ID_hh | ID_hh_dif\n",
    "df_id_hh_all = pd.DataFrame(ID_hh_all).rename(columns={0: 'ID'}).sort_values(by=['ID']).reset_index(drop=True)\n",
    "#\n",
    "df_id_hh_all"
   ]
  },
  {
   "cell_type": "code",
   "execution_count": null,
   "metadata": {},
   "outputs": [],
   "source": [
    "xlsx_id_hh_all_path = os.path.join(*folder_raw_household, f'{year}_全戶戶籍檔ID(資料檔+未轉出={df_id_hh_all.shape[0]}).xlsx')\n",
    "if not os.path.isfile(xlsx_id_hh_all_path):\n",
    "    df_id_hh_all.to_excel(xlsx_id_hh_all_path, index=None)\n",
    "    print(f'存{xlsx_id_hh_all_path}')"
   ]
  },
  {
   "source": [
    "## 1-2: 三個欄位代碼轉文字 (insert_to_household_statment.sql)"
   ],
   "cell_type": "markdown",
   "metadata": {}
  },
  {
   "cell_type": "code",
   "execution_count": null,
   "metadata": {},
   "outputs": [],
   "source": [
    "# 個人註記代碼\n",
    "df_hh['個人註記代碼'] = df_hh['個人註記代碼'].str.replace('^0$', '現住人口').str.replace('^1$', '死亡').str.replace('^2$', '除口')\n",
    "# 遷出類別，有空字串(最多)跟0，但不知道意義\n",
    "df_hh['遷出類別'] = df_hh['遷出類別'].str.replace('^1$', '國內').str.replace('^2$', '國外').str.replace('^3$', '喪失國籍').str.replace('^4$', '喪失(臺灣地區人民)身分')\n",
    "# 戶別代碼\n",
    "df_hh['戶別代碼'] = df_hh['戶別代碼'].str.replace('^1$', '共同生活戶').str.replace('^2$', '共同事業戶').str.replace('^3$', '單獨生活戶')\n",
    "#\n",
    "df_hh[:3]"
   ]
  },
  {
   "source": [
    "## 1-3: 欄名轉換，存 db_household.csv"
   ],
   "cell_type": "markdown",
   "metadata": {}
  },
  {
   "cell_type": "code",
   "execution_count": null,
   "metadata": {},
   "outputs": [],
   "source": [
    "# 取最後中介檔所需欄位\n",
    "cols_src = ['統號', '出生日期', '戶號', '戶籍地址', '與戶長關係', '個人註記代碼']\n",
    "cols_tar = ['pid', 'birth', 'householdNumber', 'address', 'role', 'annotation']\n",
    "cols_map = dict(zip(cols_src, cols_tar))\n",
    "#\n",
    "df_hh = df_hh.rename(columns=cols_map)[cols_tar]\n",
    "# 存CSV\n",
    "if not os.path.isfile(path_db_household_csv):\n",
    "    df_hh.to_csv(path_db_household_csv, index=None, header=True)\n",
    "    print(f'存{path_db_household_csv}')\n",
    "#\n",
    "df_hh[:3]"
   ]
  },
  {
   "source": [
    "## 1-4: 與DB比對"
   ],
   "cell_type": "markdown",
   "metadata": {}
  },
  {
   "cell_type": "code",
   "execution_count": null,
   "metadata": {},
   "outputs": [],
   "source": [
    "path_db_household_csv_DB = os.path.join(*folder_db_cache, 'db_household_DB.csv')\n",
    "dtype = {col: str for col in cols_tar}  # 全以字串讀入\n",
    "df_hh_db = pd.read_csv(path_db_household_csv_DB, **init, dtype=dtype)\n",
    "# 欄位清洗\n",
    "for col in cols_tar:\n",
    "    df_hh_db[col] = SE_upper(df_hh_db[col])\n",
    "#\n",
    "df_hh_db"
   ]
  },
  {
   "cell_type": "code",
   "execution_count": null,
   "metadata": {},
   "outputs": [],
   "source": [
    "df_hh = df_hh.replace('\\?', '', regex=True)\n",
    "df_hh_db = df_hh_db.replace('\\?', '', regex=True).replace('除戶', '除口')\n",
    "# 逐欄排序\n",
    "df_hh = df_hh.sort_values(by='pid').reset_index(drop=True)\n",
    "df_hh_db = df_hh_db.sort_values(by='pid').reset_index(drop=True)"
   ]
  },
  {
   "cell_type": "code",
   "execution_count": null,
   "metadata": {},
   "outputs": [],
   "source": [
    "# 兩個df直接比對\n",
    "if not df_hh.equals(df_hh_db):\n",
    "    # 逐欄比對\n",
    "    for col in df_hh.columns:\n",
    "        if not df_hh[[col]].equals(df_hh_db[[col]]):\n",
    "            print(col)\n",
    "else:\n",
    "    print('戶籍檔完全一樣')"
   ]
  },
  {
   "cell_type": "code",
   "execution_count": null,
   "metadata": {},
   "outputs": [],
   "source": [
    "time.time() - stime"
   ]
  },
  {
   "source": [
    "# 2.老農津貼 (db_elder_allowance.csv)"
   ],
   "cell_type": "markdown",
   "metadata": {}
  },
  {
   "source": [
    "## 2-1: 讀檔 (今年公務資料用去年整年的)\n",
    "資料裡的身份證字號那欄有被換置過, 2, 3 碼要互換 8, 9 碼互換"
   ],
   "cell_type": "markdown",
   "metadata": {}
  },
  {
   "cell_type": "code",
   "execution_count": null,
   "metadata": {},
   "outputs": [],
   "source": [
    "folder_raw_EA = folder_raw + ['20201026_老農津貼']\n",
    "csv_EA_path = os.path.join(*folder_raw_EA, '10811核付資料.csv')\n",
    "cols_map = {'身分證號': 'pid', '核付金額': 'amount'}\n",
    "df_EA = pd.read_csv(csv_EA_path, **init, usecols=cols_map.keys()).rename(columns=cols_map)\n",
    "# 清pid欄位\n",
    "df_EA['pid'] = SE_upper(df_EA['pid'])\n",
    "# 只挑戶籍檔的ID\n",
    "where = True\n",
    "where &= df_EA['pid'].isin(ID_hh)  # ID_hh_all 不必再加119筆，就算碰得到，也不會顯示在excel\n",
    "df_EA = df_EA[where].sort_values('pid').reset_index(drop=True)\n",
    "# 108年不用互換。107年: 2,3碼要互換，8,9碼互換 > 10位切七段，23段交換，56段交換\n",
    "# df_EA['pid'] = df_EA['pid'].str.replace('^(.)(.)(.)(....)(.)(.)(.)$', r'\\1\\3\\2\\4\\6\\5\\7')\n",
    "#\n",
    "df_EA"
   ]
  },
  {
   "cell_type": "code",
   "execution_count": null,
   "metadata": {},
   "outputs": [],
   "source": [
    "# 存CSV\n",
    "if not os.path.isfile(path_db_elder_allowance_csv):\n",
    "    df_EA.to_csv(path_db_elder_allowance_csv, index=None, header=True)  \n",
    "    print(f'存{path_db_elder_allowance_csv}')"
   ]
  },
  {
   "source": [
    "## 2-2: 與DB比對"
   ],
   "cell_type": "markdown",
   "metadata": {}
  },
  {
   "cell_type": "code",
   "execution_count": null,
   "metadata": {},
   "outputs": [],
   "source": [
    "path_db_elder_allowance_csv_DB = os.path.join(*folder_db_cache, 'db_elder_allowance_DB.csv')\n",
    "df_EA_db = pd.read_csv(path_db_elder_allowance_csv_DB, **init)\n",
    "df_EA_db['pid'] = SE_upper(df_EA_db['pid'])\n",
    "#\n",
    "print(df_EA_db.shape)\n",
    "df_EA_db[:3]"
   ]
  },
  {
   "cell_type": "code",
   "execution_count": null,
   "metadata": {},
   "outputs": [],
   "source": [
    "if not df_EA.equals(df_EA_db):\n",
    "    # 逐欄比對\n",
    "    for col in df_EA.columns:\n",
    "        if not df_EA[[col]].equals(df_EA_db[[col]]):\n",
    "            print(col)\n",
    "else:\n",
    "    print('老農津貼完全一樣')"
   ]
  },
  {
   "source": [
    "# 3.畜牧 (db_livestock.csv)"
   ],
   "cell_type": "markdown",
   "metadata": {}
  },
  {
   "source": [
    "## 3-1: 讀檔"
   ],
   "cell_type": "markdown",
   "metadata": {}
  },
  {
   "cell_type": "code",
   "execution_count": null,
   "metadata": {},
   "outputs": [],
   "source": [
    "folder_raw_LS = folder_raw + ['20201027_畜牧']\n",
    "csv_LS_path_2020 = os.path.join(*folder_raw_LS, '主力農家所得-2020.csv')  # 2020(Q1234 + M5)+2019(M5,M11)\n",
    "dtype = {'FieldId': str}\n",
    "df_LS_2020 = pd.read_csv(csv_LS_path_2020, **init, dtype=dtype)\n",
    "# 清欄位\n",
    "df_LS_2020['FarmerId'] = SE_upper(df_LS_2020['FarmerId'])\n",
    "df_LS_2020['InvSeason'] = SE_upper(df_LS_2020['InvSeason'])\n",
    "df_LS_2020['FieldName'] = SE_upper(df_LS_2020['FieldName'])\n",
    "df_LS_2020['NAME'] = SE_upper(df_LS_2020['NAME'])\n",
    "df_LS_2020['FieldId'] = SE_upper(df_LS_2020['FieldId'])\n",
    "# 2020全要+2019_M11 / 只留ID_hh __________________________________________________________\n",
    "where = True\n",
    "where &= df_LS_2020['InvYear'] == 2020\n",
    "where |= (df_LS_2020['InvYear'] == 2019) & (df_LS_2020['InvSeason'] == 'M11')\n",
    "# 補從冠喻撈出來的劉永昌ID\n",
    "extra_ID = {\"T102811151\"}\n",
    "where &= df_LS_2020['FarmerId'].isin(ID_hh | extra_ID)\n",
    "df_LS = df_LS_2020[where]\n",
    "# 調查年分轉民國年 ========================================================================\n",
    "df_LS['InvYear'] = (df_LS['InvYear'] - 1911).astype(str)\n",
    "# 針對乳牛/羊排序\n",
    "df_LS['nameOrder'] = np.where(df_LS['NAME'] == '泌乳牛', 0, 9)\n",
    "df_LS['nameOrder'] = np.where(df_LS['NAME'] == '乾乳牛', 1, df_LS['nameOrder'])\n",
    "df_LS['nameOrder'] = np.where(df_LS['NAME'] == '未產女牛', 2, df_LS['nameOrder'])\n",
    "df_LS['nameOrder'] = np.where(df_LS['NAME'] == '泌乳羊', 3, df_LS['nameOrder'])\n",
    "df_LS['nameOrder'] = np.where(df_LS['NAME'] == '乾乳羊', 4, df_LS['nameOrder'])\n",
    "df_LS['nameOrder'] = np.where(df_LS['NAME'] == '未產女羊', 5, df_LS['nameOrder'])\n",
    "# 10個欄位轉換\n",
    "cols_src = [\n",
    "    'FarmerId', 'InvYear', 'InvSeason', 'FieldName',\n",
    "    'nameOrder',\n",
    "    'NAME',\n",
    "    'RaiseCount', 'SlaughterCount', 'MilkCount', 'AntlerCount', 'EggCount',\n",
    "    'FieldId',\n",
    "]\n",
    "cols_tar = [\n",
    "    'farmerId', 'investigateYear', 'investigateSeason', 'fieldName',\n",
    "    'nameOrder',\n",
    "    'animalName',\n",
    "    'raiseCount', 'slaughterCount', 'milkCount', 'antlerCount', 'eggCount',\n",
    "    'fieldId',\n",
    "]\n",
    "cols_by = [\n",
    "    'farmerId', 'fieldName',\n",
    "    # 'fieldId', # 同一畜牧場可能有多個id，不可用來分組\n",
    "    'investigateYear', 'investigateSeason',\n",
    "    'nameOrder',\n",
    "    'animalName',\n",
    "]\n",
    "#\n",
    "cols_map = dict(zip(cols_src, cols_tar))\n",
    "# 整理\n",
    "df_LS = df_LS.rename(columns=cols_map)[cols_tar].sort_values(by=cols_by).reset_index(drop=True)\n",
    "df_LS"
   ]
  },
  {
   "cell_type": "code",
   "execution_count": null,
   "metadata": {},
   "outputs": [],
   "source": [
    "# 專門處理今年的畜牧場id，同名畜牧場可能有多個fieldId\n",
    "tmp = df_LS[['farmerId', 'fieldName', 'fieldId']]\n",
    "tmp['fieldId'] = tmp['fieldId'].map(lambda x: [x])\n",
    "tmp = tmp.groupby(by=['farmerId', 'fieldName'], as_index=False).sum()\n",
    "tmp['fieldId'] = tmp['fieldId'].map(lambda x: '_'.join(sorted(list(set(x)))))\n",
    "field_split = tmp['fieldId'].str.split(pat='_', expand=True).fillna('')\n",
    "n = field_split.shape[1]\n",
    "tmp = pd.concat([tmp, field_split], axis=1).drop(columns=['fieldId'])\n",
    "tmp.rename(columns={i: f'fieldId_{i}' for i in range(n)}, inplace=True)\n",
    "#\n",
    "tmp"
   ]
  },
  {
   "source": [
    "## 3-2: 加總"
   ],
   "cell_type": "markdown",
   "metadata": {}
  },
  {
   "cell_type": "code",
   "execution_count": null,
   "metadata": {},
   "outputs": [],
   "source": [
    "df_LS = df_LS.groupby(by=cols_by, as_index=False).sum().reset_index(drop=True).round({'eggCount': 3})\n",
    "#\n",
    "df_LS = df_LS.merge(tmp, on=['farmerId', 'fieldName'], how='left').sort_values(by=cols_by)\n",
    "# nameOrder換成兩種父品項名稱\n",
    "where = df_LS['animalName'].isin(['泌乳牛', '乾乳牛', '未產女牛'])\n",
    "df_LS['nameOrder'] = np.where(where, '乳牛', '')\n",
    "where = df_LS['animalName'].isin(['泌乳羊', '乾乳羊', '未產女羊'])\n",
    "df_LS['nameOrder'] = np.where(where, '乳羊', df_LS['nameOrder'])\n",
    "#\n",
    "df_LS"
   ]
  },
  {
   "source": [
    "## 3-3: 讀取父品項【乳牛】【乳羊】的屠宰量"
   ],
   "cell_type": "markdown",
   "metadata": {}
  },
  {
   "cell_type": "code",
   "execution_count": null,
   "metadata": {},
   "outputs": [],
   "source": [
    "csv_LS_path_2020_0205 = os.path.join(*folder_raw_LS, '主力農家所得-2020_乳牛羊.csv')\n",
    "dtype = {'FieldId': str}\n",
    "usecols = ['InvSeason', 'FieldId', 'FieldName', 'Name', 'SlaughterCount']\n",
    "df_LS_2020_0205 = pd.read_csv(csv_LS_path_2020_0205, **init, dtype=dtype, usecols=usecols)\n",
    "#\n",
    "df_LS_2020_0205['FieldId'] = SE_upper(df_LS_2020_0205['FieldId'])\n",
    "df_LS_2020_0205['FieldName'] = SE_upper(df_LS_2020_0205['FieldName'])\n",
    "df_LS_2020_0205['Name'] = SE_upper(df_LS_2020_0205['Name'])\n",
    "#\n",
    "df_LS_2020_0205"
   ]
  },
  {
   "cell_type": "code",
   "execution_count": null,
   "metadata": {},
   "outputs": [],
   "source": [
    "right_on = ['InvSeason', 'FieldId', 'FieldName', 'Name']\n",
    "df_LS['SC'] = 0\n",
    "# 將父品項屠宰量累積到SC\n",
    "for i in range(n):\n",
    "    left_on = ['investigateSeason', f'fieldId_{i}', 'fieldName', 'nameOrder']\n",
    "    df_LS = df_LS.merge(df_LS_2020_0205, left_on=left_on, right_on=right_on, how='left').drop(columns=right_on+['Name'])\n",
    "    df_LS['SC'] = df_LS['SC'] + df_LS['SlaughterCount'].fillna(0).astype(int)\n",
    "    df_LS.drop(columns=[f'fieldId_{i}', 'SlaughterCount'], inplace=True)\n",
    "# 針對三種乳牛羊的子品項，替換父品項屠宰量 __________________________________________________\n",
    "where = df_LS['animalName'].isin(['泌乳牛', '泌乳羊'])\n",
    "where &= df_LS['slaughterCount'] == 0\n",
    "where &= df_LS['SC'] > 0\n",
    "df_LS['slaughterCount'] = np.where(where, df_LS['SC'], df_LS['slaughterCount'])\n",
    "# 泌乳之外的，顯示空白\n",
    "where = df_LS['animalName'].isin(['乾乳牛', '未產女牛', '乾乳羊', '未產女羊'])\n",
    "where &= df_LS['slaughterCount'] == 0\n",
    "df_LS['slaughterCount'] = np.where(where, '', df_LS['slaughterCount'])\n",
    "#\n",
    "cols_tar.remove('nameOrder')\n",
    "cols_tar.remove('fieldId')\n",
    "df_LS = df_LS.drop(columns=['nameOrder', 'SC'])[cols_tar]\n",
    "#\n",
    "df_LS"
   ]
  },
  {
   "cell_type": "code",
   "execution_count": null,
   "metadata": {},
   "outputs": [],
   "source": [
    "# 存CSV\n",
    "if not os.path.isfile(path_db_livestock_csv):\n",
    "    df_LS.to_csv(path_db_livestock_csv, index=None, header=True)  \n",
    "    print(f'存{path_db_livestock_csv}')"
   ]
  },
  {
   "source": [
    "## 3-4: 與DB比對"
   ],
   "cell_type": "markdown",
   "metadata": {}
  },
  {
   "cell_type": "code",
   "execution_count": null,
   "metadata": {},
   "outputs": [],
   "source": [
    "path_db_livestock_csv_DB = os.path.join(*folder_db_cache, 'db_livestock_DB.csv')\n",
    "dtype = {'investigateYear': str}\n",
    "df_LS_db = pd.read_csv(path_db_livestock_csv_DB, **init, dtype=dtype).round({'eggCount': 3})\n",
    "#\n",
    "df_LS_db['farmerId'] = SE_upper(df_LS_db['farmerId'])  # API的原始資料有小寫\n",
    "df_LS_db['fieldName'] = SE_upper(df_LS_db['fieldName'])  # API的原始資料有空格\n",
    "#\n",
    "df_LS_db = df_LS_db.sort_values(by=cols_tar).reset_index(drop=True)\n",
    "#\n",
    "df_LS_db"
   ]
  },
  {
   "cell_type": "code",
   "execution_count": null,
   "metadata": {},
   "outputs": [],
   "source": [
    "# 去除劉永昌，恢復乳牛羊的屠宰量為0\n",
    "where = df_LS['farmerId'].isin(extra_ID)\n",
    "tmp = df_LS[~where].sort_values(by=cols_tar).reset_index(drop=True)\n",
    "#\n",
    "where = tmp['animalName'].str.contains(\"泌乳|乾乳|未產女\")\n",
    "tmp['slaughterCount'] = np.where(where, 0, tmp['slaughterCount']).astype('int64')\n",
    "#\n",
    "tmp"
   ]
  },
  {
   "cell_type": "code",
   "execution_count": null,
   "metadata": {},
   "outputs": [],
   "source": [
    "if not tmp.equals(df_LS_db):\n",
    "    print('df不一樣，可能欄位順序或dtype不一樣')\n",
    "    # 逐欄比對\n",
    "    for col in tmp.columns:\n",
    "        if not tmp[[col]].equals(df_LS_db[[col]]):\n",
    "            print(col)\n",
    "else:\n",
    "    print('畜牧完全一樣')"
   ]
  },
  {
   "source": [
    "## 3-5: 檢查【畜牧場名稱】有無學校 & 乳品項的屠宰量"
   ],
   "cell_type": "markdown",
   "metadata": {}
  },
  {
   "cell_type": "code",
   "execution_count": null,
   "metadata": {},
   "outputs": [],
   "source": [
    "where = df_LS['fieldName'].str.contains('大學|高中')\n",
    "df_LS[where].fieldName.value_counts()"
   ]
  },
  {
   "cell_type": "code",
   "execution_count": null,
   "metadata": {},
   "outputs": [],
   "source": [
    "# 檢查 乳 的畜牧品項，且屠宰量>0\n",
    "where = df_LS_2020.NAME.str.contains('乳')\n",
    "tmp = df_LS_2020[where]\n",
    "where = tmp.SlaughterCount > 0\n",
    "tmp2 = tmp[where]\n",
    "#\n",
    "tmp2.NAME.value_counts()"
   ]
  },
  {
   "cell_type": "code",
   "execution_count": null,
   "metadata": {},
   "outputs": [],
   "source": [
    "# 碰完戶籍檔，【乳XXX】屠宰量大於0的畜牧場\n",
    "where = df_LS.animalName.isin(['泌乳牛'])\n",
    "tmp = df_LS[where]\n",
    "where = tmp.slaughterCount.isin([0,''])\n",
    "tmp2 = tmp[~where]\n",
    "#\n",
    "tmp2#.fieldName.value_counts()"
   ]
  },
  {
   "cell_type": "code",
   "execution_count": null,
   "metadata": {},
   "outputs": [],
   "source": []
  },
  {
   "cell_type": "code",
   "execution_count": null,
   "metadata": {},
   "outputs": [],
   "source": [
    "time.time() - stime"
   ]
  },
  {
   "cell_type": "code",
   "execution_count": null,
   "metadata": {},
   "outputs": [],
   "source": []
  }
 ]
}