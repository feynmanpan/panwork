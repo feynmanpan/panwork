{
 "metadata": {
  "language_info": {
   "codemirror_mode": {
    "name": "ipython",
    "version": 3
   },
   "file_extension": ".py",
   "mimetype": "text/x-python",
   "name": "python",
   "nbconvert_exporter": "python",
   "pygments_lexer": "ipython3",
   "version": "3.6.8-final"
  },
  "orig_nbformat": 2,
  "kernelspec": {
   "name": "Python 3.6.8 64-bit",
   "display_name": "Python 3.6.8 64-bit",
   "metadata": {
    "interpreter": {
     "hash": "15bb2867f7d3caa9efbd56972aaa8e53078f5711f443e9ed293773eb99e388aa"
    }
   }
  }
 },
 "nbformat": 4,
 "nbformat_minor": 2,
 "cells": [
  {
   "cell_type": "code",
   "execution_count": null,
   "metadata": {},
   "outputs": [],
   "source": [
    "import os\n",
    "from os import mkdir\n",
    "import sys\n",
    "import numpy as np\n",
    "import pandas as pd\n",
    "import re\n",
    "import json\n",
    "import csv\n",
    "import string\n",
    "import time\n",
    "from datetime import date, datetime\n",
    "# \n",
    "import openpyxl\n",
    "from openpyxl import Workbook\n",
    "from openpyxl.styles import Alignment, PatternFill, Font, Border, Side, NamedStyle"
   ]
  },
  {
   "cell_type": "code",
   "execution_count": null,
   "metadata": {},
   "outputs": [],
   "source": [
    "stime = time.time() "
   ]
  },
  {
   "cell_type": "markdown",
   "metadata": {},
   "source": [
    "# 【公務資料: 各套excel產出】\n",
    "根據 df_survey_combine.csv 產生六個資料夾"
   ]
  },
  {
   "cell_type": "markdown",
   "metadata": {},
   "source": [
    "# 1.讀檔"
   ]
  },
  {
   "cell_type": "code",
   "execution_count": null,
   "metadata": {
    "tags": []
   },
   "outputs": [],
   "source": [
    "init = {\n",
    "    # 'engine': 'python',\n",
    "    'encoding': 'utf-8',\n",
    "    'sep': ',',\n",
    "    'keep_default_na': False,  # 放棄自動轉NA\n",
    "    'dtype': {'farmer_num': str, 'link_num': str, 'tel': str}\n",
    "}\n",
    "#\n",
    "df_survey_combine = pd.read_csv('df_survey_combine.csv', **init)\n",
    "#\n",
    "print(df_survey_combine.shape)\n",
    "df_survey_combine[:2]"
   ]
  },
  {
   "cell_type": "markdown",
   "metadata": {},
   "source": [
    "# 2.各種資料整理成23欄"
   ]
  },
  {
   "cell_type": "code",
   "execution_count": null,
   "metadata": {},
   "outputs": [],
   "source": [
    "# 欄位整理，excel需要18欄位(A~R)，最後R欄是身分證\n",
    "cols_3 = ['f_num', 'l_num', 'type']\n",
    "cols_18 = list(string.ascii_uppercase)[:18]\n",
    "cols_21 = cols_3 + cols_18"
   ]
  },
  {
   "cell_type": "markdown",
   "metadata": {},
   "source": [
    "## 2-1: 名冊基本資料 df_info"
   ]
  },
  {
   "cell_type": "code",
   "execution_count": null,
   "metadata": {},
   "outputs": [],
   "source": [
    "cols_info = cols_3 + ['farmer_num', 'B', 'name', 'birth', 'layer', 'link_num', 'G', 'tel', 'I', 'addr'] + list('KLMNOPQR')\n",
    "# 23欄整理\n",
    "df_info = df_survey_combine.reindex(cols_info, axis=1).set_axis(cols_21, axis=1).fillna('')\n",
    "df_info['f_num'] = df_info['A']\n",
    "df_info['l_num'] = df_info['F']\n",
    "df_info['type'] = '0_基本b'\n",
    "#\n",
    "df_info[:3]"
   ]
  },
  {
   "cell_type": "markdown",
   "metadata": {},
   "source": [
    "## 2-2: 戶內人口資料 df_hh"
   ]
  },
  {
   "cell_type": "code",
   "execution_count": null,
   "metadata": {
    "tags": []
   },
   "outputs": [],
   "source": [
    "cols_hh = ['farmer_num', 'link_num', 'household']\n",
    "df_hh = df_survey_combine[cols_hh].rename(columns={'farmer_num': 'f_num', 'link_num': 'l_num'})\n",
    "# 要用json轉回list，再【垂直爆炸】，讓一個戶員一列\n",
    "df_hh['household'] = df_hh['household'].str.replace(\"'\", '\"').map(json.loads)\n",
    "df_hh = df_hh.explode('household').reset_index(drop=True)\n",
    "# household欄位重造為18欄\n",
    "data = df_hh['household'].fillna(0).map(lambda x: x and x or ['']*18).values.tolist()\n",
    "df_18 = pd.DataFrame(data=data, columns=cols_18)\n",
    "# 23欄整理\n",
    "df_hh = pd.concat([df_hh.iloc[:, :4], df_18], axis=1).reindex(cols_21, axis=1)\n",
    "df_hh['type'] = '1_戶籍b'\n",
    "# df_hh.sort_values(by=['f_num', 'A', 'B', 'R'], inplace=True) # 排出生年/角色\n",
    "#\n",
    "print(df_hh.shape)\n",
    "df_hh[:3]"
   ]
  },
  {
   "cell_type": "markdown",
   "metadata": {},
   "source": [
    "## 2-3: 申報核定 df_FD"
   ]
  },
  {
   "cell_type": "code",
   "execution_count": null,
   "metadata": {
    "tags": []
   },
   "outputs": [],
   "source": [
    "cols_FD = ['farmer_num', 'link_num', 'fallow_declare']\n",
    "df_FD = df_survey_combine[cols_FD].rename(columns={'farmer_num': 'f_num', 'link_num': 'l_num', 'fallow_declare': 'B'})\n",
    "# 沒有作物就不要顯示到excel\n",
    "df_FD = df_FD[df_FD.B != '']\n",
    "df_FD = df_FD.reindex(cols_21, axis=1).fillna('')\n",
    "df_FD['A'] = '申報核定'\n",
    "df_FD['type'] = '2_申核b'\n",
    "#\n",
    "print(df_FD.shape)\n",
    "df_FD[:3]"
   ]
  },
  {
   "cell_type": "markdown",
   "metadata": {},
   "source": [
    "## 2-4: 轉作補貼 df_FTS"
   ]
  },
  {
   "cell_type": "code",
   "execution_count": null,
   "metadata": {
    "tags": []
   },
   "outputs": [],
   "source": [
    "cols_FTS = ['farmer_num', 'link_num', 'fallow_transfer_subsidy']\n",
    "df_FTS = df_survey_combine[cols_FTS].rename(columns={'farmer_num': 'f_num', 'link_num': 'l_num', 'fallow_transfer_subsidy': 'FTS'})\n",
    "df_FTS['FTS'] = df_FTS['FTS'].str.replace(\"'\", '\"').map(json.loads)\n",
    "# 沒有補貼就不顯示到excel\n",
    "df_FTS = df_FTS.explode('FTS').dropna().reset_index(drop=True)\n",
    "data = df_FTS['FTS'].map(lambda x: list(x.values())).values.tolist()\n",
    "df_CDE = pd.DataFrame(data=data, columns=list('CDE'))\n",
    "# 23欄整理，B欄用rank加項目編號\n",
    "df_FTS = pd.concat([df_FTS.iloc[:, :4], df_CDE], axis=1).assign(B=0)\n",
    "df_FTS[['B']] = df_FTS[['f_num']].reset_index().rename(columns={'index': 'B'}).groupby('f_num').transform(lambda x: x.rank()).astype(int)\n",
    "df_FTS = df_FTS.reindex(cols_21, axis=1).fillna('')\n",
    "df_FTS['type'] = '3_轉補b'\n",
    "#\n",
    "print(df_FTS.shape)\n",
    "df_FTS[:3]"
   ]
  },
  {
   "cell_type": "markdown",
   "metadata": {},
   "source": [
    "## 2-5: 災害救助 df_DS"
   ]
  },
  {
   "cell_type": "code",
   "execution_count": null,
   "metadata": {
    "tags": []
   },
   "outputs": [],
   "source": [
    "cols_DS = ['farmer_num', 'link_num', 'disaster_subsidy']\n",
    "df_DS = df_survey_combine[cols_DS].rename(columns={'farmer_num': 'f_num', 'link_num': 'l_num', 'disaster_subsidy': 'DS'})\n",
    "df_DS['DS'] = df_DS['DS'].str.replace(\"'\", '\"').map(json.loads)\n",
    "# 沒有補貼就不顯示到excel\n",
    "df_DS = df_DS.explode('DS').dropna().reset_index(drop=True)\n",
    "data = df_DS['DS'].map(lambda x: list(x.values())).values.tolist()\n",
    "df_CDEF = pd.DataFrame(data=data, columns=list('CDEF'))\n",
    "# 23欄整理，B欄用rank加項目編號\n",
    "df_DS = pd.concat([df_DS.iloc[:, :4], df_CDEF], axis=1).assign(B=0, G='DS')\n",
    "df_DS[['B']] = df_DS[['f_num']].reset_index().rename(columns={'index': 'B'}).groupby('f_num').transform(lambda x: x.rank()).astype(int)\n",
    "df_DS = df_DS.reindex(cols_21, axis=1).fillna('')\n",
    "df_DS['type'] = '4_災害b'\n",
    "df_DS = df_DS.round({'E': 4}) # 核定面積 0.651 之前匯出df_survey_combine.csv時變 0.650999999\n",
    "#\n",
    "print(df_DS.shape)\n",
    "df_DS[:3]"
   ]
  },
  {
   "cell_type": "markdown",
   "metadata": {},
   "source": [
    "## 2-6: 畜牧 df_LS"
   ]
  },
  {
   "cell_type": "code",
   "execution_count": null,
   "metadata": {
    "tags": []
   },
   "outputs": [],
   "source": [
    "cols_LS = ['farmer_num', 'link_num', 'livestock']\n",
    "df_LS = df_survey_combine[cols_LS].rename(columns={'farmer_num': 'f_num', 'link_num': 'l_num', 'livestock': 'LS'})\n",
    "df_LS['LS'] = df_LS['LS'].str.replace(\", *'([^',]+?)':\", r\", 'space_\\1': [['','','','','','','']], '\\1':\")  # 兩個畜牧場間加空白行\n",
    "df_LS['LS'] = df_LS['LS'].str.replace(\"'\", '\"').str.replace(\"None\", '\"\"').map(json.loads)  # 要null才能json還原\n",
    "#\n",
    "df_LS['LS'] = df_LS['LS'].map(lambda x: list(zip(x.keys(), x.values())))\n",
    "df_LS = df_LS.explode('LS').dropna()\n",
    "df_LS['LS'] = df_LS['LS'].map(lambda x: [[x[0]]+x[1][0]] + [['']+Ylist for Ylist in x[1][1:]])  # 畜牧場名加在第一筆\n",
    "df_LS = df_LS.explode('LS').dropna().reset_index(drop=True)\n",
    "# LS欄位重造為8欄\n",
    "data = df_LS['LS'].values.tolist()\n",
    "df_8 = pd.DataFrame(data=data, columns=list('ABCDEFGH'))\n",
    "# 23欄整理\n",
    "df_LS = pd.concat([df_LS.iloc[:, :4], df_8], axis=1).reindex(cols_21, axis=1).fillna('')\n",
    "df_LS['A'] = df_LS['A'].str.replace('space.*', '')\n",
    "df_LS['type'] = '5_畜牧b'\n",
    "#\n",
    "print(df_LS.shape)\n",
    "df_LS[:3]"
   ]
  },
  {
   "cell_type": "markdown",
   "metadata": {},
   "source": [
    "## 2-7: 小大 df_SL"
   ]
  },
  {
   "cell_type": "code",
   "execution_count": null,
   "metadata": {
    "tags": []
   },
   "outputs": [],
   "source": [
    "cols_SL = ['farmer_num', 'link_num', 'small_large_data']\n",
    "df_SL = df_survey_combine[cols_SL].rename(columns={'farmer_num': 'f_num', 'link_num': 'l_num', 'small_large_data': 'SL'})\n",
    "df_SL['SL'] = df_SL['SL'].str.replace(\"'\", '\"').map(json.loads)\n",
    "df_SL['SL'] = df_SL['SL'].map(lambda x: [list(mandict.values()) for mandict in x])\n",
    "df_SL = df_SL.explode('SL').dropna().reset_index(drop=True)\n",
    "# SL欄位重造6欄\n",
    "data = df_SL['SL'].values.tolist()\n",
    "df_6 = pd.DataFrame(data=data, columns=list('BCDEFG'))\n",
    "df_SL = pd.concat([df_SL.iloc[:, :4], df_6], axis=1).reindex(cols_21, axis=1).fillna('')\n",
    "df_SL['H'] = 'SL'\n",
    "df_SL['type'] = '6_小大b'\n",
    "#\n",
    "print(df_SL.shape)\n",
    "df_SL[:3]"
   ]
  },
  {
   "cell_type": "markdown",
   "metadata": {},
   "source": [
    "## 2-8: 作物名稱 df_crop"
   ]
  },
  {
   "cell_type": "code",
   "execution_count": null,
   "metadata": {
    "tags": []
   },
   "outputs": [],
   "source": [
    "cols_crop = ['farmer_num', 'link_num', 'crop_name']\n",
    "df_crop = df_survey_combine[cols_crop].rename(columns={'farmer_num': 'f_num', 'link_num': 'l_num', 'crop_name': 'B'})\n",
    "df_crop = df_crop[df_crop['B'] != ''].reindex(cols_21, axis=1).fillna('')\n",
    "df_crop['A'] = '作物名稱'\n",
    "df_crop['type'] = '7_作名b'\n",
    "#\n",
    "print(df_crop.shape)\n",
    "df_crop[:3]"
   ]
  },
  {
   "cell_type": "markdown",
   "metadata": {},
   "source": [
    "## 2-9: 子女獎助金 df_CS"
   ]
  },
  {
   "cell_type": "code",
   "execution_count": null,
   "metadata": {
    "tags": []
   },
   "outputs": [],
   "source": [
    "cols_CS = ['farmer_num', 'link_num', 'child_scholarship']\n",
    "df_CS = df_survey_combine[cols_CS].rename(columns={'farmer_num': 'f_num', 'link_num': 'l_num', 'child_scholarship': 'B'})\n",
    "df_CS = df_CS[df_CS['B'] != ''].reindex(cols_21, axis=1).fillna('')\n",
    "df_CS['A'] = '子女獎助金'\n",
    "df_CS['type'] = '8_子女b'\n",
    "#\n",
    "print(df_CS.shape)\n",
    "df_CS[:3]"
   ]
  },
  {
   "cell_type": "markdown",
   "metadata": {},
   "source": [
    "# 3.每一農戶的各段標題"
   ]
  },
  {
   "cell_type": "markdown",
   "metadata": {},
   "source": [
    "## 3-1: info 標題 (一戶一列)\n"
   ]
  },
  {
   "cell_type": "code",
   "execution_count": null,
   "metadata": {},
   "outputs": [],
   "source": [
    "df_title_info = df_info[cols_3].assign(type='0_基本a').reindex(cols_21, axis=1)\n",
    "# 填充第一列，再前向填充其他列\n",
    "df_title_info.loc[:0, list('ABCDEFHJ')] = ['農戶編號', '序號', '調查姓名', '出生年', '層別', '連結編號', '電話', '地址']\n",
    "df_title_info = df_title_info.fillna(method='ffill').fillna('')\n",
    "#\n",
    "df_title_info[:3]"
   ]
  },
  {
   "cell_type": "markdown",
   "metadata": {},
   "source": [
    "## 3-2: hh 標題 (一戶一列)"
   ]
  },
  {
   "cell_type": "code",
   "execution_count": null,
   "metadata": {},
   "outputs": [],
   "source": [
    "df_title_hh = df_info[cols_3].assign(type='1_戶籍a').reindex(cols_21, axis=1)\n",
    "# 填充第一列，再前向填充其他列\n",
    "hh_title = [\n",
    "    '出生年', '關係', '死亡或\\n除口', '農保/農職', '老農津貼', '國保給付', '勞保給付', '勞退給付', '農保給付',\n",
    "    '住院\\n日數\\n(1-8月)', '門診\\n次數\\n(1-8月)', '健保\\n身分別', '健保被\\n保險人\\n註記', '應繳眷\\n口數', '健保自\\n付金額\\n(1-8月)',\n",
    "    '勞保費\\n8月', '國保實\\n收保費\\n(1-8月)', ''\n",
    "]\n",
    "df_title_hh.iloc[:1, 3:] = hh_title\n",
    "df_title_hh.fillna(method='ffill', inplace=True)\n",
    "#\n",
    "df_title_hh[:3]"
   ]
  },
  {
   "cell_type": "markdown",
   "metadata": {},
   "source": [
    "## 3-3: FTS 轉作補貼標題 (一戶有資料才一列)"
   ]
  },
  {
   "cell_type": "code",
   "execution_count": null,
   "metadata": {},
   "outputs": [],
   "source": [
    "df_title_FTS = df_FTS[cols_3].drop_duplicates().assign(type='3_轉補a').reindex(cols_21, axis=1)\n",
    "# 填充第一列，再前向填充其他列\n",
    "df_title_FTS.loc[:0, list('ABCDE')] = ['轉作補貼', '項目', '作物名稱', '金額', '期別']\n",
    "df_title_FTS = df_title_FTS.fillna(method='ffill').fillna('')\n",
    "#\n",
    "df_title_FTS[:3]"
   ]
  },
  {
   "cell_type": "markdown",
   "metadata": {},
   "source": [
    "## 3-4: DS 災害救助標題 (一戶有資料才一列)"
   ]
  },
  {
   "cell_type": "code",
   "execution_count": null,
   "metadata": {},
   "outputs": [],
   "source": [
    "df_title_DS = df_DS[cols_3].drop_duplicates().assign(type='4_災害a').reindex(cols_21, axis=1)\n",
    "# 填充第一列，再前向填充其他列\n",
    "df_title_DS.loc[:0, list('ABCDEF')] = ['災害', '項目', '災害', '核定作物', '核定面積', '金額']\n",
    "df_title_DS = df_title_DS.fillna(method='ffill').fillna('')\n",
    "#\n",
    "df_title_DS[:3]"
   ]
  },
  {
   "cell_type": "markdown",
   "metadata": {},
   "source": [
    "## 3-5: LS 畜牧標題 (一戶有資料才一列)"
   ]
  },
  {
   "cell_type": "code",
   "execution_count": null,
   "metadata": {},
   "outputs": [],
   "source": [
    "df_title_LS = df_LS[cols_3].drop_duplicates().assign(type='5_畜牧a').reindex(cols_21, axis=1)\n",
    "# 填充第一列，再前向填充其他列\n",
    "df_title_LS.loc[:0, list('ABCDEF')] = ['畜牧資訊', '年份', '調查時間', '畜牧品項', '在養頭數', '供應\\n屠宰數']\n",
    "df_title_LS = df_title_LS.fillna(method='ffill').fillna('')\n",
    "#\n",
    "df_title_LS[:3]"
   ]
  },
  {
   "cell_type": "markdown",
   "metadata": {},
   "source": [
    "### >>> 畜牧【G,H】欄特別處理"
   ]
  },
  {
   "cell_type": "code",
   "execution_count": null,
   "metadata": {},
   "outputs": [],
   "source": [
    "df_LS_and_title = pd.concat([df_LS, df_title_LS]).sort_values(by=['f_num', 'type']).iloc[:, :13]\n",
    "df_LS_and_title[['G']] = df_LS_and_title[['f_num', 'G']].groupby('f_num').transform(max)  # 用max把產乳量字串帶到標題G欄\n",
    "# 把H的產乳量數值帶到G欄\n",
    "where = df_LS_and_title['A'] != '畜牧資訊'\n",
    "df_LS_and_title['G'] = np.where(where, df_LS_and_title['H'], df_LS_and_title['G'])\n",
    "df_LS_and_title['G'] = df_LS_and_title['G'].replace(0, '', regex=True)\n",
    "df_LS_and_title['H'] = np.where(where, 'LS', '') # 故意標註\n",
    "df_LS_and_title = df_LS_and_title.reindex(cols_21, axis=1).fillna('')\n",
    "#\n",
    "# where = df_LS_and_title.f_num == '100040313271'\n",
    "# df_LS_and_title[where]\n",
    "df_LS_and_title[:3].iloc[:,:11]"
   ]
  },
  {
   "cell_type": "markdown",
   "metadata": {},
   "source": [
    "## 3-6: SL 小大標題 (一戶有資料才一列)"
   ]
  },
  {
   "cell_type": "code",
   "execution_count": null,
   "metadata": {},
   "outputs": [],
   "source": [
    "df_title_SL = df_SL[cols_3].drop_duplicates().assign(type='6_小大a').reindex(cols_21, axis=1)\n",
    "# 填充第一列，再前向填充其他列\n",
    "df_title_SL.loc[:0, list('ABCDEFG')] = ['小大補貼', '姓名', '大專業農\\n轉契作', '小地主\\n出租給付', '離農獎勵', '期別', '是否為\\n小大']\n",
    "df_title_SL = df_title_SL.fillna(method='ffill').fillna('')\n",
    "#\n",
    "df_title_SL[:3]"
   ]
  },
  {
   "cell_type": "markdown",
   "metadata": {},
   "source": [
    "## 3-9: 空白行 (用type控制位置)"
   ]
  },
  {
   "cell_type": "code",
   "execution_count": null,
   "metadata": {},
   "outputs": [],
   "source": [
    "# 基本空白行，一戶一行\n",
    "df_space = df_info[cols_3].assign(type='').reindex(cols_21, axis=1).fillna('')\n",
    "# 戶籍標題上一行\n",
    "df_space_hh = df_space.assign(type='1_戶籍0')\n",
    "# 申報核定上一行\n",
    "df_space_FD = df_FD[cols_3].assign(type='2_申核0').reindex(cols_21, axis=1).fillna('')\n",
    "# 轉作補貼上一行\n",
    "df_space_FTS = df_title_FTS[cols_3].assign(type='3_轉補0').reindex(cols_21, axis=1).fillna('')\n",
    "# 災害救助上一行\n",
    "df_space_DS = df_title_DS[cols_3].assign(type='4_災害0').reindex(cols_21, axis=1).fillna('')\n",
    "# 畜牧上一行\n",
    "df_space_LS = df_title_LS[cols_3].assign(type='5_畜牧0').reindex(cols_21, axis=1).fillna('')\n",
    "# 小大上一行\n",
    "df_space_SL = df_title_SL[cols_3].assign(type='6_小大0').reindex(cols_21, axis=1).fillna('')\n",
    "# 作物名稱上一行\n",
    "df_space_crop = df_crop[cols_3].assign(type='7_作名0').reindex(cols_21, axis=1).fillna('')\n",
    "# 子女獎助金上一行\n",
    "df_space_CS = df_CS[cols_3].assign(type='8_子女0').reindex(cols_21, axis=1).fillna('')\n",
    "# 每個農戶最後兩行\n",
    "df_space_last2 = df_space.assign(type='9_空白1').append(df_space.assign(type='9_空白2', A='last'))  # 故意標註末行"
   ]
  },
  {
   "cell_type": "markdown",
   "metadata": {},
   "source": [
    "# 4.輸出Excel"
   ]
  },
  {
   "cell_type": "markdown",
   "metadata": {},
   "source": [
    "## 4-1: 組成excel的樣子"
   ]
  },
  {
   "cell_type": "code",
   "execution_count": null,
   "metadata": {},
   "outputs": [],
   "source": [
    "df_list = [\n",
    "    # 資料\n",
    "    df_info,\n",
    "    df_hh,\n",
    "    df_FD,  # 申報核定\n",
    "    df_FTS,  # 轉作補貼\n",
    "    df_DS,  # 災害救助\n",
    "    df_LS_and_title,  # 畜牧+標題\n",
    "    df_SL,  # 小大\n",
    "    df_crop,  # 作物名稱\n",
    "    df_CS, # 子女獎助金\n",
    "    # 標題\n",
    "    df_title_info,\n",
    "    df_title_hh,\n",
    "    df_title_FTS,\n",
    "    df_title_DS,\n",
    "    df_title_SL,\n",
    "    # 空白行\n",
    "    df_space_hh,\n",
    "    df_space_FD,\n",
    "    df_space_FTS,\n",
    "    df_space_DS,\n",
    "    df_space_LS,\n",
    "    df_space_SL,\n",
    "    df_space_crop,\n",
    "    df_space_CS,\n",
    "    df_space_last2  # 每戶最後兩行\n",
    "]\n",
    "df_final = pd.concat(df_list).sort_values(by=['f_num', 'type']).reset_index(drop=True)"
   ]
  },
  {
   "cell_type": "markdown",
   "metadata": {},
   "source": [
    "## 4-2: 增加排序用的【man/county/addr】"
   ]
  },
  {
   "cell_type": "code",
   "execution_count": null,
   "metadata": {},
   "outputs": [],
   "source": [
    "cols_4 = ['farmer_num', 'man', 'county', 'addr']\n",
    "df_survey_4 = df_survey_combine[cols_4].rename(columns={'farmer_num': 'f_num'})\n",
    "df_final = df_final.merge(df_survey_4, on='f_num', how='left')[cols_4[1:]+cols_21]\n",
    "#\n",
    "df_final[:3]"
   ]
  },
  {
   "cell_type": "markdown",
   "metadata": {},
   "source": [
    "## 4-3: 輸出excel的函數"
   ]
  },
  {
   "cell_type": "code",
   "execution_count": null,
   "metadata": {},
   "outputs": [],
   "source": [
    "def export_excel(df, path_folder_ID='', fn='公務資料_all'):\n",
    "    # 造有ID/無ID之目錄\n",
    "    if path_folder_ID and not os.path.isdir(path_folder_ID):\n",
    "        mkdir(path_folder_ID)\n",
    "    path_folder = path_folder_ID.replace('(有ID) ', '')\n",
    "    if path_folder and not os.path.isdir(path_folder):\n",
    "        mkdir(path_folder)\n",
    "    # 先處理有ID，再另存無ID\n",
    "    path_csv_ID = os.path.join(path_folder_ID, f'{fn} (有ID).csv')\n",
    "    path_xlsx_ID = os.path.join(path_folder_ID, f'{fn} (有ID).xlsx')\n",
    "    path_xlsx = os.path.join(path_folder, f'{fn}.xlsx')\n",
    "    # df先存csv\n",
    "    df.to_csv(path_csv_ID, index=False, header=False)\n",
    "    where = df['A'] == '農戶編號'\n",
    "    total_farmers = df[where].shape[0]  # 此excel檔內的總人數\n",
    "    # 格式設定\n",
    "    alignment = Alignment('left', 'top', wrap_text=True)  # 自動換行\n",
    "    alignment_nowarp = Alignment('left', 'top', wrap_text=False)\n",
    "    align_center = Alignment('center', 'top', wrap_text=True)  # 序號置中\n",
    "    fillY = PatternFill(fill_type='solid', fgColor='FFFF00')\n",
    "    title_fill = PatternFill(start_color='F7F7F7', end_color='F7F7F7', fill_type='solid')\n",
    "    title_font = Font(bold=True)\n",
    "    bottom_border = Border(bottom=Side(border_style='double', color='000000'))\n",
    "    # 集中標題格式\n",
    "    title = NamedStyle(name=\"title\")\n",
    "    title.fill = title_fill\n",
    "    title.font = title_font\n",
    "    title.alignment = alignment\n",
    "    # 整數num\n",
    "    num = NamedStyle(name=\"num\")\n",
    "    num.number_format = \"#,###,##0\"  # 千分位\n",
    "    num.alignment = alignment\n",
    "    # 浮點: 核定面積4位,蛋3位小數\n",
    "    num_f = NamedStyle(name=\"num_f\")\n",
    "    num_f.number_format = \"#,###,##0.####\"\n",
    "    num_f.alignment = alignment\n",
    "    # 欄寬\n",
    "    widths = [\n",
    "        13.29,  9.29,  12.29,  11.29,  10.29, 10.29, 11.29, 10.29, 10.29,  # A-I\n",
    "        7.79, 7.79,  7.79,  7.79,  7.79,  7.79,  7.79, 7.79, 13.29  # J-R\n",
    "    ]\n",
    "    ratio = 1.054\n",
    "    # ==================================================================================\n",
    "    wb = Workbook()\n",
    "    sheet = wb.active\n",
    "    for idx, col in enumerate(cols_18):\n",
    "        sheet.column_dimensions[col].width = widths[idx]*ratio  # 調整欄寬\n",
    "    # 從csv逐列貼資料到excel\n",
    "    with open(path_csv_ID, 'r', encoding='UTF-8') as csv_file:\n",
    "        csv_reader = csv.reader(csv_file, delimiter=',')\n",
    "        list_hh = list(range(4, 11)) + list(range(13, 17))\n",
    "        list_20 = [str(i) for i in list(range(1, 20))]\n",
    "        order_num = 0\n",
    "        for n, row in enumerate(csv_reader, 1):\n",
    "            # 貼數值進去，千分位及小數點格式化才有作用\n",
    "            DS = False\n",
    "            LS = False\n",
    "            SL = False\n",
    "            area_float = False\n",
    "            egg_float = False\n",
    "            last = False\n",
    "            order = False\n",
    "            if row[17]:  # R欄位有ID的戶內人口列(11,12/L,M 不格式化)\n",
    "                for i in list_hh:\n",
    "                    row[i] = row[i] and int(row[i])\n",
    "            elif len(row[0]) > 10 and row[1] == '' and len(row[5]) == 5:\n",
    "                order_num += 1\n",
    "                row[1] = f'{order_num}/{total_farmers}'  # 填充序號\n",
    "                order = True\n",
    "            elif row[1] in list_20:\n",
    "                if row[6] == 'DS':\n",
    "                    DS = True\n",
    "                    area = float(row[4])  # 核定面積\n",
    "                    area_float = bool(area - int(area))\n",
    "                    row[4] = area_float and area or int(area)\n",
    "                    row[5] = int(row[5])  # 災害金額整數\n",
    "                    row[6] = ''\n",
    "                else:\n",
    "                    row[3] = int(row[3])  # 補貼金額整數\n",
    "            elif row[7] == 'LS':\n",
    "                LS = True\n",
    "                row[7] = ''\n",
    "                for i in [4, 5]:  # 在養/屠宰，可能出清及''，'0'仍會以字串貼入\n",
    "                    row[i] = (row[i] not in ['出清', '']) and int(row[i]) or row[i]\n",
    "                if row[6]:\n",
    "                    tmp = float(row[6])\n",
    "                    egg_float = bool(tmp - int(tmp))  # 蛋可能有3位小數\n",
    "                    row[6] = egg_float and tmp or int(tmp)\n",
    "            elif row[7] == 'SL':\n",
    "                SL = True\n",
    "                row[7] = ''\n",
    "                for i in [2, 3, 4]:\n",
    "                    row[i] = row[i] and int(row[i])\n",
    "            elif row[0] == 'last':\n",
    "                last = True\n",
    "                row[0] = ''\n",
    "            ####################################################################\n",
    "            sheet.append(row)\n",
    "            ####################################################################\n",
    "            # (1)標題格式\n",
    "            if row[0] in ['農戶編號', '出生年']:\n",
    "                for col in range(1, 18):\n",
    "                    sheet.cell(row=n, column=col).style = title\n",
    "            elif row[0] in ['申報核定', '作物名稱', '子女獎助金']:\n",
    "                sheet.cell(row=n, column=1).style = title\n",
    "            elif row[0] == '轉作補貼':\n",
    "                for col in range(1, 6):\n",
    "                    sheet.cell(row=n, column=col).style = title\n",
    "            elif row[0] == '災害':\n",
    "                for col in range(1, 7):\n",
    "                    sheet.cell(row=n, column=col).style = title\n",
    "            elif row[0] == '畜牧資訊':\n",
    "                for col in range(1, 7):\n",
    "                    sheet.cell(row=n, column=col).style = title\n",
    "                if row[6]:  # H有產乳量\n",
    "                    sheet.cell(row=n, column=7).style = title\n",
    "            elif row[0] == '小大補貼':\n",
    "                for col in range(1, 8):\n",
    "                    sheet.cell(row=n, column=col).style = title\n",
    "            # (2)千分位及小數格式\n",
    "            elif row[17]:\n",
    "                for col in [i+1 for i in list_hh]:\n",
    "                    if row[col-1] != \"\":\n",
    "                        sheet.cell(row=n, column=col).style = num  # R有ID的戶內人口列\n",
    "            elif order:\n",
    "                sheet.cell(row=n, column=2).alignment = align_center  # 序號置中\n",
    "                sheet.cell(row=n, column=8).alignment = alignment  # 電話要換行\n",
    "                for col in [1, 3, 4, 5, 6, 10]:\n",
    "                    sheet.cell(row=n, column=col).alignment = alignment_nowarp\n",
    "                if row[5][-1] in ['1', '4']:\n",
    "                    sheet.cell(row=n, column=6).fill = fillY  # 1,4套連結編號黃底\n",
    "            elif row[1] in list_20:\n",
    "                if DS:\n",
    "                    for col in [2, 3, 4]:\n",
    "                        sheet.cell(row=n, column=col).alignment = alignment  # 項目/災害/核定作物\n",
    "                    sheet.cell(row=n, column=5).style = area_float and num_f or num  # 核定面積\n",
    "                    sheet.cell(row=n, column=6).style = num  # 災害金額\n",
    "                else:\n",
    "                    for col in [2, 3, 5]:\n",
    "                        sheet.cell(row=n, column=col).alignment = alignment  # 轉作補貼_項目/作物名稱/期別\n",
    "                    sheet.cell(row=n, column=4).style = num  # 轉作補貼_金額\n",
    "            elif LS:\n",
    "                for col in [1, 2, 3, 4]:\n",
    "                    sheet.cell(row=n, column=col).alignment = alignment  # 畜牧場名稱換行\n",
    "                for col in [5, 6]:  # 在養/屠宰 千分位\n",
    "                    sheet.cell(row=n, column=col).style = num\n",
    "                if row[6]:\n",
    "                    sheet.cell(row=n, column=7).style = egg_float and num_f or num\n",
    "            elif SL:\n",
    "                for col in [3, 4, 5]:  # 小大三種錢\n",
    "                    sheet.cell(row=n, column=col).style = num\n",
    "            elif last:\n",
    "                for col in range(1, 18):\n",
    "                    sheet.cell(row=n, column=col).border = bottom_border  # 末列雙底線\n",
    "    # 存excel==================================================================================\n",
    "    wb.save(path_xlsx_ID)\n",
    "    # 砍掉ID/應繳眷口數，另存\n",
    "    sheet.delete_cols(18)  # R\n",
    "    sheet.delete_cols(14)  # N\n",
    "    wb.save(path_xlsx)\n",
    "    #\n",
    "    os.remove(path_csv_ID)"
   ]
  },
  {
   "cell_type": "markdown",
   "metadata": {},
   "source": [
    "## 4-4: 輸出excel的目錄 & 切割各套df"
   ]
  },
  {
   "cell_type": "code",
   "execution_count": null,
   "metadata": {},
   "outputs": [],
   "source": [
    "# 目錄\n",
    "folder_src = ['farmer_income_survey', 'resources']\n",
    "folder_output = folder_src + ['output']\n",
    "year_this = '109'\n",
    "folder_output_thisyear = folder_output + [year_this]\n",
    "path_folder_output_thisyear = os.path.join(*folder_output_thisyear)\n",
    "#\n",
    "if not os.path.isdir(path_folder_output_thisyear):\n",
    "    mkdir(path_folder_output_thisyear)\n",
    "# 七套輸出一個excel\n",
    "folder_7_ID               = folder_output_thisyear + ['(有ID) 七套公務資料']\n",
    "path_folder_7_ID          = os.path.join(*folder_7_ID)\n",
    "# 六個excel目錄: 主選 0, 備選 調查員 123/456, 備選 縣市 123/1-6\n",
    "folder_0_man_ID           = folder_output_thisyear + ['(有ID) 主選0____公務資料(依調查員)']\n",
    "folder_0_county_ID        = folder_output_thisyear + ['(有ID) 主選0____公務資料(依縣市)']\n",
    "folder_123_man_ID         = folder_output_thisyear + ['(有ID) 備選123_公務資料(依調查員)']\n",
    "folder_456_man_ID         = folder_output_thisyear + ['(有ID) 備選456_公務資料(依調查員)']\n",
    "folder_123_county_ID      = folder_output_thisyear + ['(有ID) 備選123_公務資料(依縣市)']\n",
    "folder_1_6_county_ID      = folder_output_thisyear + ['(有ID) 備選123456_公務資料(依縣市)']\n",
    "path_folder_0_man_ID      = os.path.join(*folder_0_man_ID)\n",
    "path_folder_0_county_ID   = os.path.join(*folder_0_county_ID)\n",
    "path_folder_123_man_ID    = os.path.join(*folder_123_man_ID)\n",
    "path_folder_456_man_ID    = os.path.join(*folder_456_man_ID)\n",
    "path_folder_123_county_ID = os.path.join(*folder_123_county_ID)\n",
    "path_folder_1_6_county_ID = os.path.join(*folder_1_6_county_ID)"
   ]
  },
  {
   "cell_type": "code",
   "execution_count": null,
   "metadata": {},
   "outputs": [],
   "source": [
    "# 切主選出來\n",
    "where = df_final['l_num'].str[-1] == '0'\n",
    "df_final_0 = df_final[where]\n",
    "# 切備選123套出來\n",
    "where = df_final['l_num'].str[-1].str.contains('[123]', regex=True)\n",
    "df_final_123 = df_final[where]\n",
    "# 切備選456套出來\n",
    "where = df_final['l_num'].str[-1].str.contains('[456]', regex=True)\n",
    "df_final_456 = df_final[where]\n",
    "# 切備選1-6套出來\n",
    "where = df_final['l_num'].str[-1].str.contains('[123456]', regex=True)\n",
    "df_final_1_6 = df_final[where]"
   ]
  },
  {
   "source": [
    "### 輸出七套"
   ],
   "cell_type": "markdown",
   "metadata": {}
  },
  {
   "cell_type": "code",
   "execution_count": null,
   "metadata": {},
   "outputs": [],
   "source": [
    "export_excel(df_final[cols_18], path_folder_7_ID, f'七套公務資料_{year_this}')"
   ]
  },
  {
   "cell_type": "markdown",
   "metadata": {},
   "source": [
    "## 4-5: 主選 0"
   ]
  },
  {
   "cell_type": "code",
   "execution_count": null,
   "metadata": {
    "tags": []
   },
   "outputs": [],
   "source": [
    "### 依【調查員】/【縣市】切割另存excel，都先地址排序\n",
    "# 依調查員切割df\n",
    "df_final_0.sort_values(by=['man', 'addr', 'f_num', 'type'], inplace=True)\n",
    "man_list = df_final_0['man'].drop_duplicates()\n",
    "for man in man_list:\n",
    "    where = df_final_0['man'] == man\n",
    "    export_excel(df_final_0[where][cols_18], path_folder_0_man_ID, f'{man}_主選公務資料_{year_this}')\n",
    "\n",
    "# 依縣市切割df\n",
    "df_final_0.sort_values(by=['county', 'addr', 'f_num', 'type'], inplace=True)\n",
    "county_list = df_final_0['county'].drop_duplicates()\n",
    "for county in county_list:\n",
    "    where = df_final_0['county'] == county\n",
    "    export_excel(df_final_0[where][cols_18], path_folder_0_county_ID, f'{county}_主選公務資料_{year_this}')\n",
    "#\n",
    "print(f'主選共有{len(man_list)}個調查員excel檔')\n",
    "print(f'主選共有{len(county_list)}個縣市excel檔')"
   ]
  },
  {
   "cell_type": "markdown",
   "metadata": {},
   "source": [
    "## 4-6: 備選【依調查員】_123/456"
   ]
  },
  {
   "cell_type": "code",
   "execution_count": null,
   "metadata": {},
   "outputs": [],
   "source": [
    "# 123 新增以第一套為主的地址欄，2,3結尾者為na\n",
    "# 連結編號排序，前四碼相同者為一組，第五碼2,3者，前向填充第五碼1的地址\n",
    "df_final_123['addr_1'] = np.where(df_final_123['l_num'].str[-1] == '1', df_final_123['addr'], np.nan)\n",
    "df_final_123 = df_final_123.sort_values(by=['l_num'], ascending=True).fillna(method='ffill')\n",
    "# 456 新增以第4套為主的地址欄，5,6結尾者為na\n",
    "# 連結編號排序，前四碼相同者為一組，第五碼5,6者，前向填充第五碼4的地址\n",
    "df_final_456['addr_4'] = np.where(df_final_456['l_num'].str[-1] == '4', df_final_456['addr'], np.nan)\n",
    "df_final_456 = df_final_456.sort_values(by=['l_num'], ascending=True).fillna(method='ffill')"
   ]
  },
  {
   "cell_type": "code",
   "execution_count": null,
   "metadata": {},
   "outputs": [],
   "source": [
    "# A.讓兩組123之間的順序以第一套的地址排序，同組123則以l_num排序\n",
    "df_final_123.sort_values(by=['man', 'addr_1', 'l_num', 'type'], inplace=True)\n",
    "man_list = df_final_123['man'].drop_duplicates()\n",
    "for man in man_list:\n",
    "    where = df_final_123['man'] == man\n",
    "    export_excel(df_final_123[where][cols_18], path_folder_123_man_ID, f'{man}_備選123公務資料_{year_this}')\n",
    "\n",
    "# B.讓兩組456之間的順序以第4套的地址排序，同組456則以l_num排序\n",
    "df_final_456.sort_values(by=['man', 'addr_4', 'l_num', 'type'], inplace=True)\n",
    "man_list = df_final_456['man'].drop_duplicates()\n",
    "for man in man_list:\n",
    "    where = df_final_456['man'] == man\n",
    "    export_excel(df_final_456[where][cols_18], path_folder_456_man_ID, f'{man}_備選456公務資料_{year_this}')"
   ]
  },
  {
   "cell_type": "markdown",
   "metadata": {},
   "source": [
    "## 4-7: 備選【依縣市】_123/1-6"
   ]
  },
  {
   "cell_type": "code",
   "execution_count": null,
   "metadata": {},
   "outputs": [],
   "source": [
    "# 同縣市依連結編號l_num排序\n",
    "# 123依縣市切割df\n",
    "df_final_123.sort_values(by=['county', 'l_num', 'type'], inplace=True)\n",
    "county_list = df_final_123['county'].drop_duplicates()\n",
    "for county in county_list:\n",
    "    where = df_final_123['county'] == county\n",
    "    export_excel(df_final_123[where][cols_18], path_folder_123_county_ID, f'{county}_備選123公務資料_{year_this}')\n",
    "\n",
    "# 123456依縣市切割df\n",
    "df_final_1_6.sort_values(by=['county', 'l_num', 'type'], inplace=True)\n",
    "county_list = df_final_1_6['county'].drop_duplicates()\n",
    "for county in county_list:\n",
    "    where = df_final_1_6['county'] == county\n",
    "    export_excel(df_final_1_6[where][cols_18], path_folder_1_6_county_ID, f'{county}_備選1_6公務資料_{year_this}')"
   ]
  },
  {
   "cell_type": "code",
   "execution_count": null,
   "metadata": {},
   "outputs": [],
   "source": [
    "(time.time() - stime)/60"
   ]
  },
  {
   "cell_type": "code",
   "execution_count": null,
   "metadata": {},
   "outputs": [],
   "source": []
  }
 ]
}