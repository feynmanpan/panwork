{
 "cells": [
  {
   "cell_type": "code",
   "execution_count": 1,
   "metadata": {},
   "outputs": [],
   "source": [
    "import os\n",
    "import sys\n",
    "import pandas as pd\n",
    "import numpy as np\n",
    "import json\n",
    "import time\n",
    "from datetime import datetime, timedelta\n",
    "import decimal\n",
    "from decimal import Decimal\n",
    "context = decimal.getcontext()\n",
    "context.rounding = decimal.ROUND_HALF_UP\n",
    "# #####################\n",
    "import django\n",
    "os.environ.setdefault('DJANGO_SETTINGS_MODULE', 'dashboard.settings')\n",
    "django.setup()\n",
    "# ######################\n",
    "from apps.configs.models import AbstractProduct # 抽象品項\n",
    "from apps.watchlists.models import MonitorProfile, WatchlistItem # 因應措施,監控品項\n",
    "from apps.dailytrans.models import DailyTran # 日交易"
   ]
  },
  {
   "cell_type": "code",
   "execution_count": 2,
   "metadata": {},
   "outputs": [],
   "source": [
    "stime = time.time()"
   ]
  },
  {
   "cell_type": "markdown",
   "metadata": {},
   "source": [
    "# 0. 設定今天日期"
   ]
  },
  {
   "cell_type": "code",
   "execution_count": 3,
   "metadata": {},
   "outputs": [
    {
     "output_type": "execute_result",
     "data": {
      "text/plain": "6"
     },
     "metadata": {},
     "execution_count": 3
    }
   ],
   "source": [
    "# 以今天決定監控清單編號\n",
    "today = '2020-03-29'  # 從request.GET,POST或urls的pattern來的字串\n",
    "year = int(today[0:4])\n",
    "month = int(today[-5:-3])\n",
    "day = int(today[-2:])\n",
    "today = datetime(year, month, day)\n",
    "# day =\n",
    "h = month < 7 and 1 or 2\n",
    "rocY_h = f'{year-1911}_h{h}'\n",
    "#\n",
    "WL_maps = {\n",
    "    '106_h2': 1,\n",
    "    '107_h1': 2,\n",
    "    '107_h2': 3,\n",
    "    '108_h1': 4,\n",
    "    '108_h2': 5,\n",
    "    '109_h1': 6,\n",
    "    '109_h2': 7,\n",
    "}\n",
    "# 監控清單編號\n",
    "WL_id = WL_maps[rocY_h]\n",
    "WL_id"
   ]
  },
  {
   "cell_type": "markdown",
   "metadata": {},
   "source": [
    "# 1.監控清單"
   ]
  },
  {
   "cell_type": "markdown",
   "metadata": {},
   "source": [
    "## 1-1: 抓因應措施 mp-2020h1.yaml\n",
    "SELECT * FROM public.watchlists_monitorprofile"
   ]
  },
  {
   "cell_type": "code",
   "execution_count": 4,
   "metadata": {},
   "outputs": [
    {
     "output_type": "execute_result",
     "data": {
      "text/plain": "   product_id  watchlist_id  type_id  price comparator color info action  \\\n0          15           NaN      NaN    NaN        NaN   NaN  NaN    NaN   \n1          19           NaN      NaN    NaN        NaN   NaN  NaN    NaN   \n2       30002           NaN      NaN    NaN        NaN   NaN  NaN    NaN   \n\n  period  is_active  always_display   row  \n0    NaN        NaN             NaN  10.0  \n1    NaN        NaN             NaN   9.0  \n2    NaN        NaN             NaN  99.0  ",
      "text/html": "<div>\n<style scoped>\n    .dataframe tbody tr th:only-of-type {\n        vertical-align: middle;\n    }\n\n    .dataframe tbody tr th {\n        vertical-align: top;\n    }\n\n    .dataframe thead th {\n        text-align: right;\n    }\n</style>\n<table border=\"1\" class=\"dataframe\">\n  <thead>\n    <tr style=\"text-align: right;\">\n      <th></th>\n      <th>product_id</th>\n      <th>watchlist_id</th>\n      <th>type_id</th>\n      <th>price</th>\n      <th>comparator</th>\n      <th>color</th>\n      <th>info</th>\n      <th>action</th>\n      <th>period</th>\n      <th>is_active</th>\n      <th>always_display</th>\n      <th>row</th>\n    </tr>\n  </thead>\n  <tbody>\n    <tr>\n      <th>0</th>\n      <td>15</td>\n      <td>NaN</td>\n      <td>NaN</td>\n      <td>NaN</td>\n      <td>NaN</td>\n      <td>NaN</td>\n      <td>NaN</td>\n      <td>NaN</td>\n      <td>NaN</td>\n      <td>NaN</td>\n      <td>NaN</td>\n      <td>10.0</td>\n    </tr>\n    <tr>\n      <th>1</th>\n      <td>19</td>\n      <td>NaN</td>\n      <td>NaN</td>\n      <td>NaN</td>\n      <td>NaN</td>\n      <td>NaN</td>\n      <td>NaN</td>\n      <td>NaN</td>\n      <td>NaN</td>\n      <td>NaN</td>\n      <td>NaN</td>\n      <td>9.0</td>\n    </tr>\n    <tr>\n      <th>2</th>\n      <td>30002</td>\n      <td>NaN</td>\n      <td>NaN</td>\n      <td>NaN</td>\n      <td>NaN</td>\n      <td>NaN</td>\n      <td>NaN</td>\n      <td>NaN</td>\n      <td>NaN</td>\n      <td>NaN</td>\n      <td>NaN</td>\n      <td>99.0</td>\n    </tr>\n  </tbody>\n</table>\n</div>"
     },
     "metadata": {},
     "execution_count": 4
    }
   ],
   "source": [
    "where = {\n",
    "    'watchlist_id': WL_id,\n",
    "    # 'row__isnull': False,\n",
    "    # 'product_id': 40040, # 絲瓜\n",
    "}\n",
    "# ORM取出mp-2020h1的因應措施表\n",
    "qs = MonitorProfile.objects.filter(**where).values()\n",
    "df_WL_mp = pd.DataFrame(qs).drop(columns=['id', 'update_time'])\n",
    "# 增加監控品項及列號\n",
    "extra_product = [(15, 10), (19, 9), (30002, 99), (60051, 100), (60066, 103)] # 增加長糯, 稻穀, 全部花卉 L, 火鶴花 FB, 文心蘭 FO3\n",
    "extra_product += [(50063, 73), (59019, 72)] # 香蕉台北一二批發,青香蕉下品()內銷)\n",
    "extra_product += [(60068, 107)] # 香水百合\n",
    "# 整理補齊欄位\n",
    "df_tmp = pd.DataFrame(extra_product, columns=['product_id', 'row'])\n",
    "df_tmp = df_tmp.reindex(columns=df_WL_mp.columns)\n",
    "df_WL_mp = df_WL_mp.append(df_tmp).sort_values('product_id')\n",
    "#\n",
    "df_WL_mp[:3]"
   ]
  },
  {
   "cell_type": "markdown",
   "metadata": {},
   "source": [
    "## 1-2: 抓監控品項 2020h1.yaml\n",
    "SELECT * FROM public.watchlists_watchlistitem\n",
    "\n",
    "SELECT * FROM public.watchlists_watchlistitem_sources"
   ]
  },
  {
   "cell_type": "code",
   "execution_count": 5,
   "metadata": {
    "tags": []
   },
   "outputs": [
    {
     "output_type": "execute_result",
     "data": {
      "text/plain": "       product_id  sources\n0              15      NaN\n1              19      NaN\n2           10006  10001.0\n3           10006  10002.0\n4           10007  10001.0\n...           ...      ...\n10187      120950      NaN\n10188      120954      NaN\n10189      120987      NaN\n10190      121044      NaN\n10191      130001      NaN\n\n[10192 rows x 2 columns]",
      "text/html": "<div>\n<style scoped>\n    .dataframe tbody tr th:only-of-type {\n        vertical-align: middle;\n    }\n\n    .dataframe tbody tr th {\n        vertical-align: top;\n    }\n\n    .dataframe thead th {\n        text-align: right;\n    }\n</style>\n<table border=\"1\" class=\"dataframe\">\n  <thead>\n    <tr style=\"text-align: right;\">\n      <th></th>\n      <th>product_id</th>\n      <th>sources</th>\n    </tr>\n  </thead>\n  <tbody>\n    <tr>\n      <th>0</th>\n      <td>15</td>\n      <td>NaN</td>\n    </tr>\n    <tr>\n      <th>1</th>\n      <td>19</td>\n      <td>NaN</td>\n    </tr>\n    <tr>\n      <th>2</th>\n      <td>10006</td>\n      <td>10001.0</td>\n    </tr>\n    <tr>\n      <th>3</th>\n      <td>10006</td>\n      <td>10002.0</td>\n    </tr>\n    <tr>\n      <th>4</th>\n      <td>10007</td>\n      <td>10001.0</td>\n    </tr>\n    <tr>\n      <th>...</th>\n      <td>...</td>\n      <td>...</td>\n    </tr>\n    <tr>\n      <th>10187</th>\n      <td>120950</td>\n      <td>NaN</td>\n    </tr>\n    <tr>\n      <th>10188</th>\n      <td>120954</td>\n      <td>NaN</td>\n    </tr>\n    <tr>\n      <th>10189</th>\n      <td>120987</td>\n      <td>NaN</td>\n    </tr>\n    <tr>\n      <th>10190</th>\n      <td>121044</td>\n      <td>NaN</td>\n    </tr>\n    <tr>\n      <th>10191</th>\n      <td>130001</td>\n      <td>NaN</td>\n    </tr>\n  </tbody>\n</table>\n<p>10192 rows × 2 columns</p>\n</div>"
     },
     "metadata": {},
     "execution_count": 5
    }
   ],
   "source": [
    "where = {\n",
    "    'parent_id': WL_id,\n",
    "    # 'product_id': 40164,\n",
    "}\n",
    "# 取出對應監控清單的監控品項id及其來源市場\n",
    "qs = WatchlistItem.objects.filter(**where).values('product_id', 'sources')  # 主動指定sources才會join\n",
    "df_WL_items = pd.DataFrame(qs).sort_values('product_id')\n",
    "#\n",
    "# 增加香水百合, 香蕉台北一二批發,青香蕉下品()內銷) 的來源市場\n",
    "extra_product = [\n",
    "    (60068, 30001), (60068, 30002), (60068, 30003), (60068, 30004), (60068, 30005),\n",
    "    (50063, 20001), (50063, 20002), # 香蕉台北一二批發\n",
    "]\n",
    "s1=10030\n",
    "s2=20000\n",
    "id_59019 = 59019 #青香蕉下品(內銷)，注意59004\"青香蕉(內銷)\"是上品用\n",
    "tmp = []\n",
    "for s in range(s1,s2+1):\n",
    "    tmp.append((id_59019,s))\n",
    "extra_product += tmp   \n",
    "# 整理欄位\n",
    "df_tmp = pd.DataFrame(extra_product, columns=['product_id', 'sources'])\n",
    "df_WL_items = df_WL_items.append(df_tmp).sort_values('product_id').reset_index(drop=True)\n",
    "#\n",
    "df_WL_items"
   ]
  },
  {
   "cell_type": "markdown",
   "metadata": {},
   "source": [
    "## 1-3: 抽象品項\n",
    "SELECT * FROM public.configs_abstractproduct"
   ]
  },
  {
   "cell_type": "markdown",
   "metadata": {},
   "source": [
    "### (1)抽象總表_全品項"
   ]
  },
  {
   "cell_type": "code",
   "execution_count": 6,
   "metadata": {},
   "outputs": [
    {
     "output_type": "execute_result",
     "data": {
      "text/plain": "          id            name  parent_id\n0          1              白米        1.0\n1          2          硬種(蓬萊)        1.0\n2          3          硬種(蓬萊)        2.0\n3          4          硬種(蓬萊)        2.0\n4          5          硬秈(在來)        1.0\n...      ...             ...        ...\n2088  130001    肥育乳公牛550公斤以上   130001.0\n2089  130002  乳公架仔牛150-200公斤   130002.0\n2090  130003          肥育肉用母牛   130003.0\n2091  130004             閹公牛   130004.0\n2092  130005           週齡仔公牛   130005.0\n\n[2093 rows x 3 columns]",
      "text/html": "<div>\n<style scoped>\n    .dataframe tbody tr th:only-of-type {\n        vertical-align: middle;\n    }\n\n    .dataframe tbody tr th {\n        vertical-align: top;\n    }\n\n    .dataframe thead th {\n        text-align: right;\n    }\n</style>\n<table border=\"1\" class=\"dataframe\">\n  <thead>\n    <tr style=\"text-align: right;\">\n      <th></th>\n      <th>id</th>\n      <th>name</th>\n      <th>parent_id</th>\n    </tr>\n  </thead>\n  <tbody>\n    <tr>\n      <th>0</th>\n      <td>1</td>\n      <td>白米</td>\n      <td>1.0</td>\n    </tr>\n    <tr>\n      <th>1</th>\n      <td>2</td>\n      <td>硬種(蓬萊)</td>\n      <td>1.0</td>\n    </tr>\n    <tr>\n      <th>2</th>\n      <td>3</td>\n      <td>硬種(蓬萊)</td>\n      <td>2.0</td>\n    </tr>\n    <tr>\n      <th>3</th>\n      <td>4</td>\n      <td>硬種(蓬萊)</td>\n      <td>2.0</td>\n    </tr>\n    <tr>\n      <th>4</th>\n      <td>5</td>\n      <td>硬秈(在來)</td>\n      <td>1.0</td>\n    </tr>\n    <tr>\n      <th>...</th>\n      <td>...</td>\n      <td>...</td>\n      <td>...</td>\n    </tr>\n    <tr>\n      <th>2088</th>\n      <td>130001</td>\n      <td>肥育乳公牛550公斤以上</td>\n      <td>130001.0</td>\n    </tr>\n    <tr>\n      <th>2089</th>\n      <td>130002</td>\n      <td>乳公架仔牛150-200公斤</td>\n      <td>130002.0</td>\n    </tr>\n    <tr>\n      <th>2090</th>\n      <td>130003</td>\n      <td>肥育肉用母牛</td>\n      <td>130003.0</td>\n    </tr>\n    <tr>\n      <th>2091</th>\n      <td>130004</td>\n      <td>閹公牛</td>\n      <td>130004.0</td>\n    </tr>\n    <tr>\n      <th>2092</th>\n      <td>130005</td>\n      <td>週齡仔公牛</td>\n      <td>130005.0</td>\n    </tr>\n  </tbody>\n</table>\n<p>2093 rows × 3 columns</p>\n</div>"
     },
     "metadata": {},
     "execution_count": 6
    }
   ],
   "source": [
    "# 先撈抽象總表\n",
    "qs = AbstractProduct.objects.all().values('id', 'name', 'parent_id')\n",
    "df_abs = pd.DataFrame(qs)\n",
    "# 沒有parent就用自己id\n",
    "where = df_abs['parent_id'].isnull()\n",
    "df_abs['parent_id'] = np.where(where, df_abs['id'], df_abs['parent_id'])\n",
    "#\n",
    "df_abs"
   ]
  },
  {
   "cell_type": "markdown",
   "metadata": {},
   "source": [
    "### (2)抽象總表_四層父子"
   ]
  },
  {
   "cell_type": "code",
   "execution_count": 7,
   "metadata": {},
   "outputs": [
    {
     "output_type": "execute_result",
     "data": {
      "text/plain": "          id            name  parent_id     parent_name  p_parent_id  \\\n0          1              白米        1.0              白米          1.0   \n1          2          硬種(蓬萊)        1.0              白米          1.0   \n2          3          硬種(蓬萊)        2.0          硬種(蓬萊)          1.0   \n3          4          硬種(蓬萊)        2.0          硬種(蓬萊)          1.0   \n4          5          硬秈(在來)        1.0              白米          1.0   \n...      ...             ...        ...             ...          ...   \n2088  130001    肥育乳公牛550公斤以上   130001.0    肥育乳公牛550公斤以上     130001.0   \n2089  130002  乳公架仔牛150-200公斤   130002.0  乳公架仔牛150-200公斤     130002.0   \n2090  130003          肥育肉用母牛   130003.0          肥育肉用母牛     130003.0   \n2091  130004             閹公牛   130004.0             閹公牛     130004.0   \n2092  130005           週齡仔公牛   130005.0           週齡仔公牛     130005.0   \n\n       p_parent_name  p_p_parent_id p_p_parent_name  \n0                 白米            1.0              白米  \n1                 白米            1.0              白米  \n2                 白米            1.0              白米  \n3                 白米            1.0              白米  \n4                 白米            1.0              白米  \n...              ...            ...             ...  \n2088    肥育乳公牛550公斤以上       130001.0    肥育乳公牛550公斤以上  \n2089  乳公架仔牛150-200公斤       130002.0  乳公架仔牛150-200公斤  \n2090          肥育肉用母牛       130003.0          肥育肉用母牛  \n2091             閹公牛       130004.0             閹公牛  \n2092           週齡仔公牛       130005.0           週齡仔公牛  \n\n[2093 rows x 8 columns]",
      "text/html": "<div>\n<style scoped>\n    .dataframe tbody tr th:only-of-type {\n        vertical-align: middle;\n    }\n\n    .dataframe tbody tr th {\n        vertical-align: top;\n    }\n\n    .dataframe thead th {\n        text-align: right;\n    }\n</style>\n<table border=\"1\" class=\"dataframe\">\n  <thead>\n    <tr style=\"text-align: right;\">\n      <th></th>\n      <th>id</th>\n      <th>name</th>\n      <th>parent_id</th>\n      <th>parent_name</th>\n      <th>p_parent_id</th>\n      <th>p_parent_name</th>\n      <th>p_p_parent_id</th>\n      <th>p_p_parent_name</th>\n    </tr>\n  </thead>\n  <tbody>\n    <tr>\n      <th>0</th>\n      <td>1</td>\n      <td>白米</td>\n      <td>1.0</td>\n      <td>白米</td>\n      <td>1.0</td>\n      <td>白米</td>\n      <td>1.0</td>\n      <td>白米</td>\n    </tr>\n    <tr>\n      <th>1</th>\n      <td>2</td>\n      <td>硬種(蓬萊)</td>\n      <td>1.0</td>\n      <td>白米</td>\n      <td>1.0</td>\n      <td>白米</td>\n      <td>1.0</td>\n      <td>白米</td>\n    </tr>\n    <tr>\n      <th>2</th>\n      <td>3</td>\n      <td>硬種(蓬萊)</td>\n      <td>2.0</td>\n      <td>硬種(蓬萊)</td>\n      <td>1.0</td>\n      <td>白米</td>\n      <td>1.0</td>\n      <td>白米</td>\n    </tr>\n    <tr>\n      <th>3</th>\n      <td>4</td>\n      <td>硬種(蓬萊)</td>\n      <td>2.0</td>\n      <td>硬種(蓬萊)</td>\n      <td>1.0</td>\n      <td>白米</td>\n      <td>1.0</td>\n      <td>白米</td>\n    </tr>\n    <tr>\n      <th>4</th>\n      <td>5</td>\n      <td>硬秈(在來)</td>\n      <td>1.0</td>\n      <td>白米</td>\n      <td>1.0</td>\n      <td>白米</td>\n      <td>1.0</td>\n      <td>白米</td>\n    </tr>\n    <tr>\n      <th>...</th>\n      <td>...</td>\n      <td>...</td>\n      <td>...</td>\n      <td>...</td>\n      <td>...</td>\n      <td>...</td>\n      <td>...</td>\n      <td>...</td>\n    </tr>\n    <tr>\n      <th>2088</th>\n      <td>130001</td>\n      <td>肥育乳公牛550公斤以上</td>\n      <td>130001.0</td>\n      <td>肥育乳公牛550公斤以上</td>\n      <td>130001.0</td>\n      <td>肥育乳公牛550公斤以上</td>\n      <td>130001.0</td>\n      <td>肥育乳公牛550公斤以上</td>\n    </tr>\n    <tr>\n      <th>2089</th>\n      <td>130002</td>\n      <td>乳公架仔牛150-200公斤</td>\n      <td>130002.0</td>\n      <td>乳公架仔牛150-200公斤</td>\n      <td>130002.0</td>\n      <td>乳公架仔牛150-200公斤</td>\n      <td>130002.0</td>\n      <td>乳公架仔牛150-200公斤</td>\n    </tr>\n    <tr>\n      <th>2090</th>\n      <td>130003</td>\n      <td>肥育肉用母牛</td>\n      <td>130003.0</td>\n      <td>肥育肉用母牛</td>\n      <td>130003.0</td>\n      <td>肥育肉用母牛</td>\n      <td>130003.0</td>\n      <td>肥育肉用母牛</td>\n    </tr>\n    <tr>\n      <th>2091</th>\n      <td>130004</td>\n      <td>閹公牛</td>\n      <td>130004.0</td>\n      <td>閹公牛</td>\n      <td>130004.0</td>\n      <td>閹公牛</td>\n      <td>130004.0</td>\n      <td>閹公牛</td>\n    </tr>\n    <tr>\n      <th>2092</th>\n      <td>130005</td>\n      <td>週齡仔公牛</td>\n      <td>130005.0</td>\n      <td>週齡仔公牛</td>\n      <td>130005.0</td>\n      <td>週齡仔公牛</td>\n      <td>130005.0</td>\n      <td>週齡仔公牛</td>\n    </tr>\n  </tbody>\n</table>\n<p>2093 rows × 8 columns</p>\n</div>"
     },
     "metadata": {},
     "execution_count": 7
    }
   ],
   "source": [
    "# join三次，共四層id,name，八個欄位\n",
    "df_abs_4 = df_abs.merge(df_abs, left_on='parent_id', right_on='id', how='left', suffixes=('', '_p'))\n",
    "df_abs_4 = df_abs_4.drop(columns=['id_p']).rename(columns={'name_p': 'parent_name', 'parent_id_p': 'p_parent_id'})\n",
    "#\n",
    "df_abs_4 = df_abs_4.merge(df_abs, left_on='p_parent_id', right_on='id', how='left', suffixes=('', '_p'))\n",
    "df_abs_4 = df_abs_4.drop(columns=['id_p']).rename(columns={'name_p': 'p_parent_name', 'parent_id_p': 'p_p_parent_id'})\n",
    "#\n",
    "df_abs_4 = df_abs_4.merge(df_abs, left_on='p_p_parent_id', right_on='id', how='left', suffixes=('', '_p'))\n",
    "df_abs_4 = df_abs_4.drop(columns=['id_p', 'parent_id_p']).rename(columns={'name_p': 'p_p_parent_name'})\n",
    "# \n",
    "df_abs_4"
   ]
  },
  {
   "cell_type": "markdown",
   "metadata": {},
   "source": [
    "### (3)兩個yaml檔所有的大小類品項id"
   ]
  },
  {
   "cell_type": "code",
   "execution_count": 8,
   "metadata": {},
   "outputs": [
    {
     "output_type": "execute_result",
     "data": {
      "text/plain": "         id          name  parent_id   parent_name  p_parent_id p_parent_name  \\\n0         1            白米        1.0            白米          1.0            白米   \n1        14            長糯        1.0            白米          1.0            白米   \n2        15            長糯       14.0            長糯          1.0            白米   \n3        17            稻穀       17.0            稻穀         17.0            稻穀   \n4        18        硬種(蓬萊)       17.0            稻穀         17.0            稻穀   \n..      ...           ...        ...           ...          ...           ...   \n158  120987     300g-375g   120985.0           午仔魚     120040.0       午仔魚(養殖)   \n159  121041           龍虎斑   120001.0           養殖類     120001.0           養殖類   \n160  121043          龍虎斑A   121041.0           龍虎斑     120001.0           養殖類   \n161  121044   0.6-0.9公斤/尾   121043.0          龍虎斑A     121041.0           龍虎斑   \n162  130001  肥育乳公牛550公斤以上   130001.0  肥育乳公牛550公斤以上     130001.0  肥育乳公牛550公斤以上   \n\n     p_p_parent_id p_p_parent_name  \n0              1.0              白米  \n1              1.0              白米  \n2              1.0              白米  \n3             17.0              稻穀  \n4             17.0              稻穀  \n..             ...             ...  \n158       120001.0             養殖類  \n159       120001.0             養殖類  \n160       120001.0             養殖類  \n161       120001.0             養殖類  \n162       130001.0    肥育乳公牛550公斤以上  \n\n[163 rows x 8 columns]",
      "text/html": "<div>\n<style scoped>\n    .dataframe tbody tr th:only-of-type {\n        vertical-align: middle;\n    }\n\n    .dataframe tbody tr th {\n        vertical-align: top;\n    }\n\n    .dataframe thead th {\n        text-align: right;\n    }\n</style>\n<table border=\"1\" class=\"dataframe\">\n  <thead>\n    <tr style=\"text-align: right;\">\n      <th></th>\n      <th>id</th>\n      <th>name</th>\n      <th>parent_id</th>\n      <th>parent_name</th>\n      <th>p_parent_id</th>\n      <th>p_parent_name</th>\n      <th>p_p_parent_id</th>\n      <th>p_p_parent_name</th>\n    </tr>\n  </thead>\n  <tbody>\n    <tr>\n      <th>0</th>\n      <td>1</td>\n      <td>白米</td>\n      <td>1.0</td>\n      <td>白米</td>\n      <td>1.0</td>\n      <td>白米</td>\n      <td>1.0</td>\n      <td>白米</td>\n    </tr>\n    <tr>\n      <th>1</th>\n      <td>14</td>\n      <td>長糯</td>\n      <td>1.0</td>\n      <td>白米</td>\n      <td>1.0</td>\n      <td>白米</td>\n      <td>1.0</td>\n      <td>白米</td>\n    </tr>\n    <tr>\n      <th>2</th>\n      <td>15</td>\n      <td>長糯</td>\n      <td>14.0</td>\n      <td>長糯</td>\n      <td>1.0</td>\n      <td>白米</td>\n      <td>1.0</td>\n      <td>白米</td>\n    </tr>\n    <tr>\n      <th>3</th>\n      <td>17</td>\n      <td>稻穀</td>\n      <td>17.0</td>\n      <td>稻穀</td>\n      <td>17.0</td>\n      <td>稻穀</td>\n      <td>17.0</td>\n      <td>稻穀</td>\n    </tr>\n    <tr>\n      <th>4</th>\n      <td>18</td>\n      <td>硬種(蓬萊)</td>\n      <td>17.0</td>\n      <td>稻穀</td>\n      <td>17.0</td>\n      <td>稻穀</td>\n      <td>17.0</td>\n      <td>稻穀</td>\n    </tr>\n    <tr>\n      <th>...</th>\n      <td>...</td>\n      <td>...</td>\n      <td>...</td>\n      <td>...</td>\n      <td>...</td>\n      <td>...</td>\n      <td>...</td>\n      <td>...</td>\n    </tr>\n    <tr>\n      <th>158</th>\n      <td>120987</td>\n      <td>300g-375g</td>\n      <td>120985.0</td>\n      <td>午仔魚</td>\n      <td>120040.0</td>\n      <td>午仔魚(養殖)</td>\n      <td>120001.0</td>\n      <td>養殖類</td>\n    </tr>\n    <tr>\n      <th>159</th>\n      <td>121041</td>\n      <td>龍虎斑</td>\n      <td>120001.0</td>\n      <td>養殖類</td>\n      <td>120001.0</td>\n      <td>養殖類</td>\n      <td>120001.0</td>\n      <td>養殖類</td>\n    </tr>\n    <tr>\n      <th>160</th>\n      <td>121043</td>\n      <td>龍虎斑A</td>\n      <td>121041.0</td>\n      <td>龍虎斑</td>\n      <td>120001.0</td>\n      <td>養殖類</td>\n      <td>120001.0</td>\n      <td>養殖類</td>\n    </tr>\n    <tr>\n      <th>161</th>\n      <td>121044</td>\n      <td>0.6-0.9公斤/尾</td>\n      <td>121043.0</td>\n      <td>龍虎斑A</td>\n      <td>121041.0</td>\n      <td>龍虎斑</td>\n      <td>120001.0</td>\n      <td>養殖類</td>\n    </tr>\n    <tr>\n      <th>162</th>\n      <td>130001</td>\n      <td>肥育乳公牛550公斤以上</td>\n      <td>130001.0</td>\n      <td>肥育乳公牛550公斤以上</td>\n      <td>130001.0</td>\n      <td>肥育乳公牛550公斤以上</td>\n      <td>130001.0</td>\n      <td>肥育乳公牛550公斤以上</td>\n    </tr>\n  </tbody>\n</table>\n<p>163 rows × 8 columns</p>\n</div>"
     },
     "metadata": {},
     "execution_count": 8
    }
   ],
   "source": [
    "# 兩個yaml檔所有的大小類品項id\n",
    "pids = pd.concat([df_WL_mp['product_id'], df_WL_items['product_id']]).drop_duplicates()\n",
    "# 加上parent_id\n",
    "for _ in range(3):\n",
    "    where = df_abs['id'].isin(pids)\n",
    "    pids = pd.concat([df_abs[where]['parent_id'], pids]).drop_duplicates().dropna()\n",
    "#\n",
    "where = df_abs_4['id'].isin(pids)\n",
    "df_abs_yaml = df_abs_4[where].sort_values('id').reset_index(drop=True)\n",
    "#\n",
    "df_abs_yaml"
   ]
  },
  {
   "cell_type": "markdown",
   "metadata": {},
   "source": [
    "# 2. 日交易表\n",
    "SELECT * FROM public.dailytrans_dailytran"
   ]
  },
  {
   "cell_type": "markdown",
   "metadata": {},
   "source": [
    "## 2-1: 日期處理"
   ]
  },
  {
   "cell_type": "code",
   "execution_count": 9,
   "metadata": {},
   "outputs": [
    {
     "output_type": "execute_result",
     "data": {
      "text/plain": "DatetimeIndex(['2020-03-09', '2020-03-10', '2020-03-11', '2020-03-12',\n               '2020-03-13', '2020-03-14', '2020-03-15', '2020-03-16',\n               '2020-03-17', '2020-03-18', '2020-03-19', '2020-03-20',\n               '2020-03-21', '2020-03-22', '2020-03-23', '2020-03-24',\n               '2020-03-25', '2020-03-26', '2020-03-27', '2020-03-28',\n               '2020-03-29'],\n              dtype='datetime64[ns]', freq='D')"
     },
     "metadata": {},
     "execution_count": 9
    }
   ],
   "source": [
    "# 抓包含 today 前21天，today是最後一天\n",
    "start = today - timedelta(days=20)  # '2020-02-13'\n",
    "end = today - timedelta(days=0)  # '2020-03-04'\n",
    "dates = pd.date_range(start=start, end=end, freq='1D')\n",
    "#\n",
    "dates"
   ]
  },
  {
   "cell_type": "code",
   "execution_count": 10,
   "metadata": {},
   "outputs": [
    {
     "output_type": "execute_result",
     "data": {
      "text/plain": "          date   W\n0   2020-03-09  W1\n1   2020-03-10  W1\n2   2020-03-11  W1\n3   2020-03-12  W1\n4   2020-03-13  W1\n5   2020-03-14  W1\n6   2020-03-15  W1\n7   2020-03-16  W2\n8   2020-03-17  W2\n9   2020-03-18  W2\n10  2020-03-19  W2\n11  2020-03-20  W2\n12  2020-03-21  W2\n13  2020-03-22  W2\n14  2020-03-23  W3\n15  2020-03-24  W3\n16  2020-03-25  W3\n17  2020-03-26  W3\n18  2020-03-27  W3\n19  2020-03-28  W3\n20  2020-03-29  W3",
      "text/html": "<div>\n<style scoped>\n    .dataframe tbody tr th:only-of-type {\n        vertical-align: middle;\n    }\n\n    .dataframe tbody tr th {\n        vertical-align: top;\n    }\n\n    .dataframe thead th {\n        text-align: right;\n    }\n</style>\n<table border=\"1\" class=\"dataframe\">\n  <thead>\n    <tr style=\"text-align: right;\">\n      <th></th>\n      <th>date</th>\n      <th>W</th>\n    </tr>\n  </thead>\n  <tbody>\n    <tr>\n      <th>0</th>\n      <td>2020-03-09</td>\n      <td>W1</td>\n    </tr>\n    <tr>\n      <th>1</th>\n      <td>2020-03-10</td>\n      <td>W1</td>\n    </tr>\n    <tr>\n      <th>2</th>\n      <td>2020-03-11</td>\n      <td>W1</td>\n    </tr>\n    <tr>\n      <th>3</th>\n      <td>2020-03-12</td>\n      <td>W1</td>\n    </tr>\n    <tr>\n      <th>4</th>\n      <td>2020-03-13</td>\n      <td>W1</td>\n    </tr>\n    <tr>\n      <th>5</th>\n      <td>2020-03-14</td>\n      <td>W1</td>\n    </tr>\n    <tr>\n      <th>6</th>\n      <td>2020-03-15</td>\n      <td>W1</td>\n    </tr>\n    <tr>\n      <th>7</th>\n      <td>2020-03-16</td>\n      <td>W2</td>\n    </tr>\n    <tr>\n      <th>8</th>\n      <td>2020-03-17</td>\n      <td>W2</td>\n    </tr>\n    <tr>\n      <th>9</th>\n      <td>2020-03-18</td>\n      <td>W2</td>\n    </tr>\n    <tr>\n      <th>10</th>\n      <td>2020-03-19</td>\n      <td>W2</td>\n    </tr>\n    <tr>\n      <th>11</th>\n      <td>2020-03-20</td>\n      <td>W2</td>\n    </tr>\n    <tr>\n      <th>12</th>\n      <td>2020-03-21</td>\n      <td>W2</td>\n    </tr>\n    <tr>\n      <th>13</th>\n      <td>2020-03-22</td>\n      <td>W2</td>\n    </tr>\n    <tr>\n      <th>14</th>\n      <td>2020-03-23</td>\n      <td>W3</td>\n    </tr>\n    <tr>\n      <th>15</th>\n      <td>2020-03-24</td>\n      <td>W3</td>\n    </tr>\n    <tr>\n      <th>16</th>\n      <td>2020-03-25</td>\n      <td>W3</td>\n    </tr>\n    <tr>\n      <th>17</th>\n      <td>2020-03-26</td>\n      <td>W3</td>\n    </tr>\n    <tr>\n      <th>18</th>\n      <td>2020-03-27</td>\n      <td>W3</td>\n    </tr>\n    <tr>\n      <th>19</th>\n      <td>2020-03-28</td>\n      <td>W3</td>\n    </tr>\n    <tr>\n      <th>20</th>\n      <td>2020-03-29</td>\n      <td>W3</td>\n    </tr>\n  </tbody>\n</table>\n</div>"
     },
     "metadata": {},
     "execution_count": 10
    }
   ],
   "source": [
    "# 21天用qcut均分為三周\n",
    "dates_W = pd.qcut(dates, 3, labels=[\"W1\", \"W2\", \"W3\"])\n",
    "dates_W = pd.DataFrame({'date': dates, 'W': dates_W})\n",
    "dates_W = dates_W.astype(str)\n",
    "#\n",
    "dates_W"
   ]
  },
  {
   "cell_type": "code",
   "execution_count": 11,
   "metadata": {},
   "outputs": [
    {
     "output_type": "execute_result",
     "data": {
      "text/plain": "['2020-03-09\\n2020-03-16\\n2020-03-23',\n '2020-03-10\\n2020-03-17\\n2020-03-24',\n '2020-03-11\\n2020-03-18\\n2020-03-25',\n '2020-03-12\\n2020-03-19\\n2020-03-26',\n '2020-03-13\\n2020-03-20\\n2020-03-27',\n '2020-03-14\\n2020-03-21\\n2020-03-28',\n '2020-03-15\\n2020-03-22\\n2020-03-29']"
     },
     "metadata": {},
     "execution_count": 11
    }
   ],
   "source": [
    "# 七天標題\n",
    "W1_date = dates_W.T.iloc[0,0:7]\n",
    "W2_date = dates_W.T.iloc[0,7:14]\n",
    "W3_date = dates_W.T.iloc[0,14:21]\n",
    "title = list(zip(W1_date,W2_date,W3_date))\n",
    "title = ['\\n'.join(t) for t in title]\n",
    "title"
   ]
  },
  {
   "cell_type": "markdown",
   "metadata": {},
   "source": [
    "## 2-2: 日交易篩選21天及累加過parent的pids"
   ]
  },
  {
   "cell_type": "code",
   "execution_count": 12,
   "metadata": {},
   "outputs": [
    {
     "output_type": "execute_result",
     "data": {
      "text/plain": "            date  product_id  source_id   avg_price  avg_weight   volume  \\\n0     2020-03-09          15        NaN   43.140000         NaN      NaN   \n1     2020-03-09          19        NaN   21.930000         NaN      NaN   \n2     2020-03-09       30002    30001.0   57.247431         NaN  95327.0   \n3     2020-03-09       30002    30002.0   45.473177         NaN  23428.0   \n4     2020-03-09       30002    30003.0   52.328403         NaN  46999.0   \n...          ...         ...        ...         ...         ...      ...   \n2662  2020-03-29      120947        NaN   41.100000         NaN      NaN   \n2663  2020-03-29      120950        NaN  111.100000         NaN      NaN   \n2664  2020-03-29      120954        NaN   82.800000         NaN      NaN   \n2665  2020-03-29      120987        NaN  216.600000         NaN      NaN   \n2666  2020-03-29      121044        NaN  211.200000         NaN      NaN   \n\n             name  parent_id parent_name  p_parent_id p_parent_name  \\\n0              長糯       14.0          長糯          1.0            白米   \n1          硬種(蓬萊)       18.0      硬種(蓬萊)         17.0            稻穀   \n2            全部花卉    30001.0        全部花卉      30001.0          全部花卉   \n3            全部花卉    30001.0        全部花卉      30001.0          全部花卉   \n4            全部花卉    30001.0        全部花卉      30001.0          全部花卉   \n...           ...        ...         ...          ...           ...   \n2662     600-800g   120946.0      吳郭魚105     120007.0           吳郭魚   \n2663    600g-800g   120948.0         金目鱸     120021.0           金目鱸   \n2664      0.6公斤/尾   120953.0       虱目魚晚撈     120198.0           虱目魚   \n2665    300g-375g   120985.0         午仔魚     120040.0       午仔魚(養殖)   \n2666  0.6-0.9公斤/尾   121043.0        龍虎斑A     121041.0           龍虎斑   \n\n      p_p_parent_id p_p_parent_name  \n0               1.0              白米  \n1              17.0              稻穀  \n2           30001.0            全部花卉  \n3           30001.0            全部花卉  \n4           30001.0            全部花卉  \n...             ...             ...  \n2662       120001.0             養殖類  \n2663       120001.0             養殖類  \n2664       120001.0             養殖類  \n2665       120001.0             養殖類  \n2666       120001.0             養殖類  \n\n[2667 rows x 13 columns]",
      "text/html": "<div>\n<style scoped>\n    .dataframe tbody tr th:only-of-type {\n        vertical-align: middle;\n    }\n\n    .dataframe tbody tr th {\n        vertical-align: top;\n    }\n\n    .dataframe thead th {\n        text-align: right;\n    }\n</style>\n<table border=\"1\" class=\"dataframe\">\n  <thead>\n    <tr style=\"text-align: right;\">\n      <th></th>\n      <th>date</th>\n      <th>product_id</th>\n      <th>source_id</th>\n      <th>avg_price</th>\n      <th>avg_weight</th>\n      <th>volume</th>\n      <th>name</th>\n      <th>parent_id</th>\n      <th>parent_name</th>\n      <th>p_parent_id</th>\n      <th>p_parent_name</th>\n      <th>p_p_parent_id</th>\n      <th>p_p_parent_name</th>\n    </tr>\n  </thead>\n  <tbody>\n    <tr>\n      <th>0</th>\n      <td>2020-03-09</td>\n      <td>15</td>\n      <td>NaN</td>\n      <td>43.140000</td>\n      <td>NaN</td>\n      <td>NaN</td>\n      <td>長糯</td>\n      <td>14.0</td>\n      <td>長糯</td>\n      <td>1.0</td>\n      <td>白米</td>\n      <td>1.0</td>\n      <td>白米</td>\n    </tr>\n    <tr>\n      <th>1</th>\n      <td>2020-03-09</td>\n      <td>19</td>\n      <td>NaN</td>\n      <td>21.930000</td>\n      <td>NaN</td>\n      <td>NaN</td>\n      <td>硬種(蓬萊)</td>\n      <td>18.0</td>\n      <td>硬種(蓬萊)</td>\n      <td>17.0</td>\n      <td>稻穀</td>\n      <td>17.0</td>\n      <td>稻穀</td>\n    </tr>\n    <tr>\n      <th>2</th>\n      <td>2020-03-09</td>\n      <td>30002</td>\n      <td>30001.0</td>\n      <td>57.247431</td>\n      <td>NaN</td>\n      <td>95327.0</td>\n      <td>全部花卉</td>\n      <td>30001.0</td>\n      <td>全部花卉</td>\n      <td>30001.0</td>\n      <td>全部花卉</td>\n      <td>30001.0</td>\n      <td>全部花卉</td>\n    </tr>\n    <tr>\n      <th>3</th>\n      <td>2020-03-09</td>\n      <td>30002</td>\n      <td>30002.0</td>\n      <td>45.473177</td>\n      <td>NaN</td>\n      <td>23428.0</td>\n      <td>全部花卉</td>\n      <td>30001.0</td>\n      <td>全部花卉</td>\n      <td>30001.0</td>\n      <td>全部花卉</td>\n      <td>30001.0</td>\n      <td>全部花卉</td>\n    </tr>\n    <tr>\n      <th>4</th>\n      <td>2020-03-09</td>\n      <td>30002</td>\n      <td>30003.0</td>\n      <td>52.328403</td>\n      <td>NaN</td>\n      <td>46999.0</td>\n      <td>全部花卉</td>\n      <td>30001.0</td>\n      <td>全部花卉</td>\n      <td>30001.0</td>\n      <td>全部花卉</td>\n      <td>30001.0</td>\n      <td>全部花卉</td>\n    </tr>\n    <tr>\n      <th>...</th>\n      <td>...</td>\n      <td>...</td>\n      <td>...</td>\n      <td>...</td>\n      <td>...</td>\n      <td>...</td>\n      <td>...</td>\n      <td>...</td>\n      <td>...</td>\n      <td>...</td>\n      <td>...</td>\n      <td>...</td>\n      <td>...</td>\n    </tr>\n    <tr>\n      <th>2662</th>\n      <td>2020-03-29</td>\n      <td>120947</td>\n      <td>NaN</td>\n      <td>41.100000</td>\n      <td>NaN</td>\n      <td>NaN</td>\n      <td>600-800g</td>\n      <td>120946.0</td>\n      <td>吳郭魚105</td>\n      <td>120007.0</td>\n      <td>吳郭魚</td>\n      <td>120001.0</td>\n      <td>養殖類</td>\n    </tr>\n    <tr>\n      <th>2663</th>\n      <td>2020-03-29</td>\n      <td>120950</td>\n      <td>NaN</td>\n      <td>111.100000</td>\n      <td>NaN</td>\n      <td>NaN</td>\n      <td>600g-800g</td>\n      <td>120948.0</td>\n      <td>金目鱸</td>\n      <td>120021.0</td>\n      <td>金目鱸</td>\n      <td>120001.0</td>\n      <td>養殖類</td>\n    </tr>\n    <tr>\n      <th>2664</th>\n      <td>2020-03-29</td>\n      <td>120954</td>\n      <td>NaN</td>\n      <td>82.800000</td>\n      <td>NaN</td>\n      <td>NaN</td>\n      <td>0.6公斤/尾</td>\n      <td>120953.0</td>\n      <td>虱目魚晚撈</td>\n      <td>120198.0</td>\n      <td>虱目魚</td>\n      <td>120001.0</td>\n      <td>養殖類</td>\n    </tr>\n    <tr>\n      <th>2665</th>\n      <td>2020-03-29</td>\n      <td>120987</td>\n      <td>NaN</td>\n      <td>216.600000</td>\n      <td>NaN</td>\n      <td>NaN</td>\n      <td>300g-375g</td>\n      <td>120985.0</td>\n      <td>午仔魚</td>\n      <td>120040.0</td>\n      <td>午仔魚(養殖)</td>\n      <td>120001.0</td>\n      <td>養殖類</td>\n    </tr>\n    <tr>\n      <th>2666</th>\n      <td>2020-03-29</td>\n      <td>121044</td>\n      <td>NaN</td>\n      <td>211.200000</td>\n      <td>NaN</td>\n      <td>NaN</td>\n      <td>0.6-0.9公斤/尾</td>\n      <td>121043.0</td>\n      <td>龍虎斑A</td>\n      <td>121041.0</td>\n      <td>龍虎斑</td>\n      <td>120001.0</td>\n      <td>養殖類</td>\n    </tr>\n  </tbody>\n</table>\n<p>2667 rows × 13 columns</p>\n</div>"
     },
     "metadata": {},
     "execution_count": 12
    }
   ],
   "source": [
    "where = {\n",
    "    'date__gte': start,  # 開始\n",
    "    'date__lte': end,  # 結束\n",
    "    'product_id__in': pids, #yaml檔所有id及其祖先\n",
    "    # 'product_id__in': df_abs['id'], #全品項id\n",
    "    # 'product_id': 40163  # 限定監控品項id\n",
    "}\n",
    "# (1)ORM取出yaml的監控品項之交易行情紀錄\n",
    "cols_tar = ['date', 'product_id', 'source_id', 'avg_price', 'avg_weight', 'volume']\n",
    "qs = DailyTran.objects.filter(**where).values(*cols_tar)\n",
    "df_trans = pd.DataFrame(qs)\n",
    "# (2)從抽象 df_abs_yaml 撈品項name及父類id\n",
    "df_trans = df_trans.merge(df_abs_yaml, left_on='product_id', right_on='id', how='left').drop(columns=['id'])\n",
    "# (3)從監控品項df篩選來源市場\n",
    "left_on = ['product_id', 'source_id']\n",
    "right_on = ['product_id', 'sources']\n",
    "df_trans = df_trans.merge(df_WL_items, left_on=left_on, right_on=right_on, how='inner').drop(columns=['sources'])\n",
    "# (4)date轉str, 重排\n",
    "df_trans['date'] = df_trans['date'].astype(str)\n",
    "df_trans = df_trans.sort_values(by=cols_tar).reset_index(drop=True)\n",
    "# \n",
    "df_trans"
   ]
  },
  {
   "cell_type": "code",
   "execution_count": 13,
   "metadata": {},
   "outputs": [],
   "source": [
    "# where = df_trans['product_id'].isin([50063])\n",
    "# where &= df_trans['date'] == '2018-04-22'\n",
    "# df_trans[where]"
   ]
  },
  {
   "cell_type": "code",
   "execution_count": 14,
   "metadata": {},
   "outputs": [],
   "source": [
    "# where = df_trans['product_id'].isin([59004])\n",
    "# where &= df_trans['date'] >= '2018-04-08'\n",
    "# where &= df_trans['date'] <= '2018-04-14'\n",
    "# df_trans[where]"
   ]
  },
  {
   "cell_type": "markdown",
   "metadata": {},
   "source": [
    "## 2-3: 計算日平均及周平均"
   ]
  },
  {
   "cell_type": "code",
   "execution_count": 15,
   "metadata": {
    "tags": []
   },
   "outputs": [
    {
     "output_type": "execute_result",
     "data": {
      "text/plain": "           id          name   W  W_avg_price  delta_lastW  \\\n0         1.0            白米  W1         43.1          NaN   \n1         1.0            白米  W2         43.2          0.1   \n2         1.0            白米  W3         43.2          0.1   \n0        14.0            長糯  W1         43.1          NaN   \n1        14.0            長糯  W2         43.2          0.1   \n..        ...           ...  ..          ...          ...   \n184  121044.0   0.6-0.9公斤/尾  W2        211.2          0.0   \n185  121044.0   0.6-0.9公斤/尾  W3        211.2          0.0   \n186  130001.0  肥育乳公牛550公斤以上  W1        112.0          NaN   \n187  130001.0  肥育乳公牛550公斤以上  W2        112.0          0.0   \n188  130001.0  肥育乳公牛550公斤以上  W3        112.0          0.0   \n\n     2020-03-09\\n2020-03-16\\n2020-03-23  2020-03-10\\n2020-03-17\\n2020-03-24  \\\n0                                  43.1                                43.1   \n1                                  43.1                                43.2   \n2                                  43.2                                43.2   \n0                                  43.1                                43.1   \n1                                  43.1                                43.2   \n..                                  ...                                 ...   \n184                               211.2                               211.2   \n185                               211.2                               211.2   \n186                               112.0                                 NaN   \n187                               112.0                                 NaN   \n188                               112.0                                 NaN   \n\n     2020-03-11\\n2020-03-18\\n2020-03-25  2020-03-12\\n2020-03-19\\n2020-03-26  \\\n0                                  43.1                                43.1   \n1                                  43.2                                43.2   \n2                                  43.2                                43.2   \n0                                  43.1                                43.1   \n1                                  43.2                                43.2   \n..                                  ...                                 ...   \n184                               211.2                               211.2   \n185                               211.2                               211.2   \n186                                 NaN                                 NaN   \n187                                 NaN                                 NaN   \n188                                 NaN                                 NaN   \n\n     2020-03-13\\n2020-03-20\\n2020-03-27  2020-03-14\\n2020-03-21\\n2020-03-28  \\\n0                                  43.1                                43.1   \n1                                  43.2                                43.2   \n2                                  43.2                                43.2   \n0                                  43.1                                43.1   \n1                                  43.2                                43.2   \n..                                  ...                                 ...   \n184                               211.2                               211.2   \n185                               211.2                               211.2   \n186                                 NaN                                 NaN   \n187                                 NaN                                 NaN   \n188                                 NaN                                 NaN   \n\n     2020-03-15\\n2020-03-22\\n2020-03-29  group_level  \n0                                  43.1  p_parent_id  \n1                                  43.2  p_parent_id  \n2                                  43.2  p_parent_id  \n0                                  43.1    parent_id  \n1                                  43.2    parent_id  \n..                                  ...          ...  \n184                               211.2   product_id  \n185                               211.2   product_id  \n186                                 NaN   product_id  \n187                                 NaN   product_id  \n188                                 NaN   product_id  \n\n[387 rows x 13 columns]",
      "text/html": "<div>\n<style scoped>\n    .dataframe tbody tr th:only-of-type {\n        vertical-align: middle;\n    }\n\n    .dataframe tbody tr th {\n        vertical-align: top;\n    }\n\n    .dataframe thead th {\n        text-align: right;\n    }\n</style>\n<table border=\"1\" class=\"dataframe\">\n  <thead>\n    <tr style=\"text-align: right;\">\n      <th></th>\n      <th>id</th>\n      <th>name</th>\n      <th>W</th>\n      <th>W_avg_price</th>\n      <th>delta_lastW</th>\n      <th>2020-03-09\\n2020-03-16\\n2020-03-23</th>\n      <th>2020-03-10\\n2020-03-17\\n2020-03-24</th>\n      <th>2020-03-11\\n2020-03-18\\n2020-03-25</th>\n      <th>2020-03-12\\n2020-03-19\\n2020-03-26</th>\n      <th>2020-03-13\\n2020-03-20\\n2020-03-27</th>\n      <th>2020-03-14\\n2020-03-21\\n2020-03-28</th>\n      <th>2020-03-15\\n2020-03-22\\n2020-03-29</th>\n      <th>group_level</th>\n    </tr>\n  </thead>\n  <tbody>\n    <tr>\n      <th>0</th>\n      <td>1.0</td>\n      <td>白米</td>\n      <td>W1</td>\n      <td>43.1</td>\n      <td>NaN</td>\n      <td>43.1</td>\n      <td>43.1</td>\n      <td>43.1</td>\n      <td>43.1</td>\n      <td>43.1</td>\n      <td>43.1</td>\n      <td>43.1</td>\n      <td>p_parent_id</td>\n    </tr>\n    <tr>\n      <th>1</th>\n      <td>1.0</td>\n      <td>白米</td>\n      <td>W2</td>\n      <td>43.2</td>\n      <td>0.1</td>\n      <td>43.1</td>\n      <td>43.2</td>\n      <td>43.2</td>\n      <td>43.2</td>\n      <td>43.2</td>\n      <td>43.2</td>\n      <td>43.2</td>\n      <td>p_parent_id</td>\n    </tr>\n    <tr>\n      <th>2</th>\n      <td>1.0</td>\n      <td>白米</td>\n      <td>W3</td>\n      <td>43.2</td>\n      <td>0.1</td>\n      <td>43.2</td>\n      <td>43.2</td>\n      <td>43.2</td>\n      <td>43.2</td>\n      <td>43.2</td>\n      <td>43.2</td>\n      <td>43.2</td>\n      <td>p_parent_id</td>\n    </tr>\n    <tr>\n      <th>0</th>\n      <td>14.0</td>\n      <td>長糯</td>\n      <td>W1</td>\n      <td>43.1</td>\n      <td>NaN</td>\n      <td>43.1</td>\n      <td>43.1</td>\n      <td>43.1</td>\n      <td>43.1</td>\n      <td>43.1</td>\n      <td>43.1</td>\n      <td>43.1</td>\n      <td>parent_id</td>\n    </tr>\n    <tr>\n      <th>1</th>\n      <td>14.0</td>\n      <td>長糯</td>\n      <td>W2</td>\n      <td>43.2</td>\n      <td>0.1</td>\n      <td>43.1</td>\n      <td>43.2</td>\n      <td>43.2</td>\n      <td>43.2</td>\n      <td>43.2</td>\n      <td>43.2</td>\n      <td>43.2</td>\n      <td>parent_id</td>\n    </tr>\n    <tr>\n      <th>...</th>\n      <td>...</td>\n      <td>...</td>\n      <td>...</td>\n      <td>...</td>\n      <td>...</td>\n      <td>...</td>\n      <td>...</td>\n      <td>...</td>\n      <td>...</td>\n      <td>...</td>\n      <td>...</td>\n      <td>...</td>\n      <td>...</td>\n    </tr>\n    <tr>\n      <th>184</th>\n      <td>121044.0</td>\n      <td>0.6-0.9公斤/尾</td>\n      <td>W2</td>\n      <td>211.2</td>\n      <td>0.0</td>\n      <td>211.2</td>\n      <td>211.2</td>\n      <td>211.2</td>\n      <td>211.2</td>\n      <td>211.2</td>\n      <td>211.2</td>\n      <td>211.2</td>\n      <td>product_id</td>\n    </tr>\n    <tr>\n      <th>185</th>\n      <td>121044.0</td>\n      <td>0.6-0.9公斤/尾</td>\n      <td>W3</td>\n      <td>211.2</td>\n      <td>0.0</td>\n      <td>211.2</td>\n      <td>211.2</td>\n      <td>211.2</td>\n      <td>211.2</td>\n      <td>211.2</td>\n      <td>211.2</td>\n      <td>211.2</td>\n      <td>product_id</td>\n    </tr>\n    <tr>\n      <th>186</th>\n      <td>130001.0</td>\n      <td>肥育乳公牛550公斤以上</td>\n      <td>W1</td>\n      <td>112.0</td>\n      <td>NaN</td>\n      <td>112.0</td>\n      <td>NaN</td>\n      <td>NaN</td>\n      <td>NaN</td>\n      <td>NaN</td>\n      <td>NaN</td>\n      <td>NaN</td>\n      <td>product_id</td>\n    </tr>\n    <tr>\n      <th>187</th>\n      <td>130001.0</td>\n      <td>肥育乳公牛550公斤以上</td>\n      <td>W2</td>\n      <td>112.0</td>\n      <td>0.0</td>\n      <td>112.0</td>\n      <td>NaN</td>\n      <td>NaN</td>\n      <td>NaN</td>\n      <td>NaN</td>\n      <td>NaN</td>\n      <td>NaN</td>\n      <td>product_id</td>\n    </tr>\n    <tr>\n      <th>188</th>\n      <td>130001.0</td>\n      <td>肥育乳公牛550公斤以上</td>\n      <td>W3</td>\n      <td>112.0</td>\n      <td>0.0</td>\n      <td>112.0</td>\n      <td>NaN</td>\n      <td>NaN</td>\n      <td>NaN</td>\n      <td>NaN</td>\n      <td>NaN</td>\n      <td>NaN</td>\n      <td>product_id</td>\n    </tr>\n  </tbody>\n</table>\n<p>387 rows × 13 columns</p>\n</div>"
     },
     "metadata": {},
     "execution_count": 15
    }
   ],
   "source": [
    "def g_handle(g_df, by_field):\n",
    "    by_id = g_df[by_field].iloc[0]\n",
    "    # 上品只留59004\n",
    "    if by_id == 50061:\n",
    "        where = g_df['product_id'] == 59004\n",
    "        g_df = g_df[where]\n",
    "    # (1)加總處理===========================================================\n",
    "    # 每日營業額 total_amount = 每日平均價 avg_price * 每日交易量 total_quantity\n",
    "    has_volume = g_df['volume'].count() / g_df['volume'].shape[0] > 0.8\n",
    "    has_weight = g_df['avg_weight'].count() / g_df['avg_weight'].shape[0] > 0.8\n",
    "    if has_volume and has_weight:\n",
    "        g_df['total_quantity'] = g_df['avg_weight']*g_df['volume']\n",
    "        g_df['total_amount'] = g_df['avg_price']*g_df['total_quantity']\n",
    "    elif has_volume:\n",
    "        g_df['total_quantity'] = g_df['volume']\n",
    "        g_df['total_amount'] = g_df['avg_price']*g_df['total_quantity']\n",
    "    else:\n",
    "        g_df['total_quantity'] = g_df['avg_price']/g_df['avg_price']\n",
    "        g_df['total_amount'] = g_df['avg_price']\n",
    "    # 每日每大類，不分子品項/來源市場，的總交易量及總營業額\n",
    "    cols_tar = ['date', by_field, 'total_amount', 'total_quantity']\n",
    "    g_df = g_df[cols_tar].groupby(by=['date', by_field], as_index=False).sum()\n",
    "    # 【每日平均價】________________________________________________________________________________________\n",
    "    g_df['D_avg_price_noround'] = g_df['total_amount']/g_df['total_quantity']\n",
    "    g_df['D_avg_price'] = g_df['D_avg_price_noround'].map(lambda x: float(round(Decimal(x), 1)))  # .round(1)\n",
    "    # date欄位補滿21天\n",
    "    g_df = g_df.set_index('date').reindex(dates_W.date).reset_index().rename(columns={'index': 'date'})\n",
    "    # 三周分組W1,2,3\n",
    "    g_df = g_df.merge(dates_W, on='date')\n",
    "    g_df[by_field] = g_df[by_field].fillna(method='ffill').fillna(method='bfill').astype(int)  # 填充id\n",
    "    # 【每周平均價】________________________________________________________________________________________\n",
    "    if has_volume or has_weight:\n",
    "        g_df_W = g_df.groupby(by=['W'])[['total_amount', 'total_quantity']].transform('sum')\n",
    "        g_df_W.rename(columns={'total_amount': 'W_total_amount', 'total_quantity': 'W_total_quantity'}, inplace=True)\n",
    "        g_df_W['W_avg_price_noround'] = g_df_W['W_total_amount']/g_df_W['W_total_quantity']\n",
    "        g_df_W = g_df_W[['W_avg_price_noround']]\n",
    "    else:\n",
    "        # 周平均直接日平均的平均\n",
    "        g_df_W = g_df.groupby(by=['W'])[['D_avg_price_noround']].transform('mean')\n",
    "        g_df_W.rename(columns={'D_avg_price_noround': 'W_avg_price_noround'}, inplace=True)\n",
    "    # 21天的日平均及每七天的周平均的21列df\n",
    "    g_df = pd.concat([g_df, g_df_W], axis=1)\n",
    "    g_df = g_df[['date', by_field, 'D_avg_price', 'W_avg_price_noround', 'W']].sort_values('date')\n",
    "    # (2)轉置處理===========================================================\n",
    "    # 紀錄三周平均\n",
    "    W_avg_price_noround = g_df['W_avg_price_noround'].iloc[[0, 7, 14]].reset_index(drop=True)\n",
    "    # 日平均轉成三列\n",
    "    g_df_W1 = g_df[g_df['W'] == 'W1'][['D_avg_price']].reset_index(drop=True).T\n",
    "    g_df_W2 = g_df[g_df['W'] == 'W2'][['D_avg_price']].reset_index(drop=True).T\n",
    "    g_df_W3 = g_df[g_df['W'] == 'W3'][['D_avg_price']].reset_index(drop=True).T\n",
    "    # 三列垂直併接\n",
    "    g_df_W123 = pd.concat([g_df_W1, g_df_W2, g_df_W3]).reset_index(drop=True)\n",
    "    g_df_W123[by_field] = by_id\n",
    "    g_df_W123['W_avg_price'] = W_avg_price_noround.map(lambda x: float(round(Decimal(x), 1)))\n",
    "    g_df_W123['W'] = ['W1', 'W2', 'W3']\n",
    "    cols_tar = [by_field, 'W', 'W_avg_price'] + list(range(7))\n",
    "    g_df_W123 = g_df_W123[cols_tar]\n",
    "    # 帶出品項名稱\n",
    "    g_df_W123 = g_df_W123.merge(df_abs[['id', 'name']], left_on=by_field, right_on='id', how='left').drop(columns=['id'])\n",
    "    g_df_W123['group_level'] = by_field\n",
    "    g_df_W123.rename(columns={by_field: 'id'}, inplace=True)\n",
    "    # 與上週比較\n",
    "    g_df_W123['W_avg_price_lastweek'] = W_avg_price_noround.shift()\n",
    "    g_df_W123['delta_lastW'] = (W_avg_price_noround-g_df_W123['W_avg_price_lastweek'])*100/g_df_W123['W_avg_price_lastweek']\n",
    "    g_df_W123['delta_lastW'] = g_df_W123['delta_lastW'].map(lambda x: float(round(Decimal(x), 1)))\n",
    "    g_df_W123.drop(columns=['W_avg_price_lastweek'], inplace=True)\n",
    "    cols_tar = ['id', 'name', 'W', 'W_avg_price', 'delta_lastW'] + list(g_df_W123.columns[3:10]) + ['group_level']\n",
    "    g_df_W123 = g_df_W123[cols_tar]\n",
    "    #\n",
    "    return g_df_W123\n",
    "\n",
    "\n",
    "# ===================================================================================\n",
    "# 四個級別都做一次匯總\n",
    "by_fields = ['product_id', 'parent_id', 'p_parent_id', 'p_p_parent_id']\n",
    "df_trans_W = []\n",
    "for level in range(4):\n",
    "    by_field = by_fields[level]\n",
    "    tmp = df_trans.groupby(by_field).apply(g_handle, by_field=by_field).reset_index(drop=True)\n",
    "    df_trans_W.append(tmp)\n",
    "# ===================================================================================\n",
    "# 帶有三周周平均及21天日平均之df\n",
    "df_trans_W = pd.concat(df_trans_W).sort_values(by=['id', 'group_level'], ascending=[True, False]).rename(columns=dict(enumerate(title)))\n",
    "df_trans_W.drop_duplicates(subset=df_trans_W.columns[:-1], inplace=True)  # 留 group_level最小的\n",
    "df_trans_W"
   ]
  },
  {
   "cell_type": "markdown",
   "metadata": {},
   "source": [
    "## 2-4: 顯示特定品項的三周平均數據"
   ]
  },
  {
   "cell_type": "code",
   "execution_count": 16,
   "metadata": {},
   "outputs": [
    {
     "output_type": "execute_result",
     "data": {
      "text/plain": "         id name   W  W_avg_price  delta_lastW  \\\n48  40163.0   甘藍  W1          8.1          NaN   \n49  40163.0   甘藍  W2          9.2         14.0   \n50  40163.0   甘藍  W3          8.4         -8.2   \n\n    2020-03-09\\n2020-03-16\\n2020-03-23  2020-03-10\\n2020-03-17\\n2020-03-24  \\\n48                                 NaN                                 7.8   \n49                                 NaN                                 9.5   \n50                                 NaN                                 9.5   \n\n    2020-03-11\\n2020-03-18\\n2020-03-25  2020-03-12\\n2020-03-19\\n2020-03-26  \\\n48                                 8.3                                 8.0   \n49                                 8.8                                 8.6   \n50                                 9.2                                 8.4   \n\n    2020-03-13\\n2020-03-20\\n2020-03-27  2020-03-14\\n2020-03-21\\n2020-03-28  \\\n48                                 7.8                                 7.7   \n49                                 8.9                                 9.9   \n50                                 7.9                                 7.6   \n\n    2020-03-15\\n2020-03-22\\n2020-03-29 group_level  \n48                                 9.0   parent_id  \n49                                 9.4   parent_id  \n50                                 7.9   parent_id  ",
      "text/html": "<div>\n<style scoped>\n    .dataframe tbody tr th:only-of-type {\n        vertical-align: middle;\n    }\n\n    .dataframe tbody tr th {\n        vertical-align: top;\n    }\n\n    .dataframe thead th {\n        text-align: right;\n    }\n</style>\n<table border=\"1\" class=\"dataframe\">\n  <thead>\n    <tr style=\"text-align: right;\">\n      <th></th>\n      <th>id</th>\n      <th>name</th>\n      <th>W</th>\n      <th>W_avg_price</th>\n      <th>delta_lastW</th>\n      <th>2020-03-09\\n2020-03-16\\n2020-03-23</th>\n      <th>2020-03-10\\n2020-03-17\\n2020-03-24</th>\n      <th>2020-03-11\\n2020-03-18\\n2020-03-25</th>\n      <th>2020-03-12\\n2020-03-19\\n2020-03-26</th>\n      <th>2020-03-13\\n2020-03-20\\n2020-03-27</th>\n      <th>2020-03-14\\n2020-03-21\\n2020-03-28</th>\n      <th>2020-03-15\\n2020-03-22\\n2020-03-29</th>\n      <th>group_level</th>\n    </tr>\n  </thead>\n  <tbody>\n    <tr>\n      <th>48</th>\n      <td>40163.0</td>\n      <td>甘藍</td>\n      <td>W1</td>\n      <td>8.1</td>\n      <td>NaN</td>\n      <td>NaN</td>\n      <td>7.8</td>\n      <td>8.3</td>\n      <td>8.0</td>\n      <td>7.8</td>\n      <td>7.7</td>\n      <td>9.0</td>\n      <td>parent_id</td>\n    </tr>\n    <tr>\n      <th>49</th>\n      <td>40163.0</td>\n      <td>甘藍</td>\n      <td>W2</td>\n      <td>9.2</td>\n      <td>14.0</td>\n      <td>NaN</td>\n      <td>9.5</td>\n      <td>8.8</td>\n      <td>8.6</td>\n      <td>8.9</td>\n      <td>9.9</td>\n      <td>9.4</td>\n      <td>parent_id</td>\n    </tr>\n    <tr>\n      <th>50</th>\n      <td>40163.0</td>\n      <td>甘藍</td>\n      <td>W3</td>\n      <td>8.4</td>\n      <td>-8.2</td>\n      <td>NaN</td>\n      <td>9.5</td>\n      <td>9.2</td>\n      <td>8.4</td>\n      <td>7.9</td>\n      <td>7.6</td>\n      <td>7.9</td>\n      <td>parent_id</td>\n    </tr>\n  </tbody>\n</table>\n</div>"
     },
     "metadata": {},
     "execution_count": 16
    }
   ],
   "source": [
    "where = True\n",
    "where &= df_trans_W['W'].isin(['W1','W2','W3'])\n",
    "# \n",
    "which =0\n",
    "where &= df_trans_W['id'] == [40163,40422,50227,40163, 14, 40422,40387,15,130001,40002,90004,120198,120311,3001, 60068,50063,59019,50061,59004][which]\n",
    "tmp = df_trans_W[where]\n",
    "tmp"
   ]
  },
  {
   "cell_type": "markdown",
   "metadata": {},
   "source": [
    "## 2-6: 價量日報表"
   ]
  },
  {
   "cell_type": "code",
   "execution_count": 17,
   "metadata": {
    "tags": []
   },
   "outputs": [
    {
     "output_type": "stream",
     "name": "stdout",
     "text": "已存2020-03-29_日報表_pandas.xlsx\n"
    },
    {
     "output_type": "execute_result",
     "data": {
      "text/plain": "    row          name  product_id  W_avg_price  delta_lastW  2020-03-23  \\\n0     9        硬種(蓬萊)          19         22.2          1.1        22.1   \n1    10            長糯          15         43.2          0.1        43.2   \n2    14           NaN       40160          NaN          NaN         NaN   \n3    15           NaN       49002          NaN          NaN         NaN   \n4    16            大蒜       40438         87.9         -1.8        88.5   \n5    17            洋蔥       40422         12.1         -4.2         NaN   \n6    19            甘藍       40163          8.4         -8.2         NaN   \n7    20           包心白       40185          9.2         -5.7         NaN   \n8    21         青蔥-日蔥       40539         59.3        -24.0         NaN   \n9    23    青蔥-粉蔥（含北蔥）       40541         25.8        -20.9         NaN   \n10   24           花椰菜       40016         23.7        -18.3         NaN   \n11   26            胡瓜       40027         16.2        -26.9         NaN   \n12   27           花胡瓜       40030         25.8        -38.1         NaN   \n13   28            蘿蔔       40387          8.6         -6.9         NaN   \n14   31            絲瓜       40040         29.7         -2.6         NaN   \n15   32            茄子       40059         18.1        -25.4         NaN   \n16   33            甘薯       40477         15.4         -2.9        15.8   \n17   39            西瓜       50227         11.6          7.8         NaN   \n18   58           NaN       50182          NaN          NaN         NaN   \n19   59            棗子       50008         71.5         13.3         NaN   \n20   60            椪柑       50076          NaN          NaN         NaN   \n21   61            葡萄       50218        108.8         -2.8         NaN   \n22   63            釋迦       50012         98.0        -11.6         NaN   \n23   65           NaN       50092          NaN          NaN         NaN   \n24   66           NaN       50128          NaN          NaN         NaN   \n25   67           NaN       50288          NaN          NaN         NaN   \n26   68            木瓜       50144         28.3        -14.7         NaN   \n27   69            蓮霧       50202         53.6        -10.2         NaN   \n28   70            芒果       50208         82.6         -8.4         NaN   \n29   71            香蕉       50061         30.1          7.5         NaN   \n30   72     青香蕉下品(內銷)       59019          7.3          3.5         NaN   \n31   73            香蕉       50063         36.8          1.6         NaN   \n32   74            甜橙       50096         28.4         15.1         NaN   \n33   75            鳳梨       50066         16.7         -1.2        16.7   \n34   76           NaN       50102          NaN          NaN         NaN   \n35   79           NaN       50157          NaN          NaN         NaN   \n36   80           番石榴       50195         21.9        -17.6         NaN   \n37   81           NaN       50150          NaN          NaN         NaN   \n38   82           NaN       50016          NaN          NaN         NaN   \n39   88           火龍果       50039        132.6         27.0         NaN   \n40   89           茂谷柑       50080         35.0          7.4         NaN   \n41   99          全部花卉       30002         49.1          2.9        57.6   \n42  100           火鶴花       60051         10.1         16.7        10.6   \n43  103           文心蘭       60066        110.7         41.1        99.7   \n44  107          香水百合       60068        115.7         -4.9       134.0   \n45  115           規格豬       70001         67.4          6.8        67.7   \n46  116  肥育乳公牛550公斤以上      130001        112.0          0.0       112.0   \n47  117      努比亞雜交閹公羊       80001        235.0         -3.7         NaN   \n48  118           土番鴨      100002         68.0          0.0        68.0   \n49  119          紅羽土雞       90004         82.5          0.0        82.5   \n50  120           白肉雞       90006         43.8          1.0        43.3   \n51  121            雞蛋       90007         49.2          0.0        49.2   \n52  122           虱目魚      120198         82.8          0.0        82.8   \n53  123           吳郭魚      120007         41.1          1.4        41.1   \n54  127           龍虎斑      121041        211.2          0.0       211.2   \n55  128           文蛤養      120311        122.1         -0.6       122.8   \n56  129           金目鱸      120021        111.1          0.4       111.1   \n57  130            白蝦      120364        233.3          0.0       233.3   \n58  131       午仔魚(養殖)      120040        216.6          0.0       216.6   \n\n    2020-03-24  2020-03-25  2020-03-26  2020-03-27  2020-03-28  2020-03-29  \n0         22.1        22.2        22.2        22.2        22.2        22.2  \n1         43.2        43.2        43.2        43.2        43.2        43.2  \n2          NaN         NaN         NaN         NaN         NaN         NaN  \n3          NaN         NaN         NaN         NaN         NaN         NaN  \n4         87.8        87.6        87.6        87.6        87.6        88.3  \n5         12.9        12.6        11.7        11.7        11.9        11.7  \n6          9.5         9.2         8.4         7.9         7.6         7.9  \n7         10.6         9.5         8.9         8.5         8.8         8.7  \n8         74.5        66.3        53.6        56.1        53.1        53.8  \n9         31.2        28.6        25.5        24.1        22.3        22.8  \n10        30.3        28.3        23.7        21.2        18.7        18.9  \n11        20.8        20.3        16.8        14.2        12.9        12.5  \n12        32.4        28.1        24.3        24.7        23.7        18.7  \n13         9.2         8.6         8.4         8.1         8.5         8.9  \n14        32.5        32.1        29.8        29.2        28.6        26.2  \n15        24.0        21.9        17.9        16.0        14.4        13.1  \n16        15.8        15.3        14.8        15.3        15.3        15.3  \n17        10.8        12.7        12.0        12.8        11.1        10.2  \n18         NaN         NaN         NaN         NaN         NaN         NaN  \n19        73.7        69.6        68.2        63.2        74.8        81.3  \n20         NaN         NaN         NaN         NaN         NaN         NaN  \n21       114.1       106.9       107.6       109.0       111.9       101.8  \n22       108.6        97.0        92.0        97.9        88.6        96.8  \n23         NaN         NaN         NaN         NaN         NaN         NaN  \n24         NaN         NaN         NaN         NaN         NaN         NaN  \n25         NaN         NaN         NaN         NaN         NaN         NaN  \n26        30.6        29.8        30.4        29.9        26.6        23.0  \n27        59.0        54.6        56.5        49.9        50.9        50.5  \n28        87.5        82.9        79.3        85.2        79.3        79.5  \n29        28.4        28.6        29.8        30.0        31.6        32.0  \n30         7.0         7.0         7.0         7.0         8.0         8.0  \n31        37.5        37.4        36.5        34.8        37.6        36.6  \n32        28.0        28.6        29.3        29.5        27.7        27.9  \n33        16.7        16.6        16.6        17.0        16.6        16.5  \n34         NaN         NaN         NaN         NaN         NaN         NaN  \n35         NaN         NaN         NaN         NaN         NaN         NaN  \n36        26.8        23.8        22.8        22.0        19.2        17.4  \n37         NaN         NaN         NaN         NaN         NaN         NaN  \n38         NaN         NaN         NaN         NaN         NaN         NaN  \n39       132.9       149.9       128.9       130.3       127.6       132.0  \n40        35.2        35.3        33.4        32.8        38.7        35.3  \n41        53.4        52.4        50.3        43.4        42.2        37.3  \n42        10.4        11.7        10.0         8.9         8.3         8.6  \n43        95.5       115.3       126.5       117.6       107.2       106.4  \n44       122.5       142.3       120.1       100.4        87.5        65.1  \n45        68.1        67.3        66.9        66.8        67.5         NaN  \n46         NaN         NaN         NaN         NaN         NaN         NaN  \n47         NaN         NaN       235.0         NaN         NaN         NaN  \n48        68.0        68.0        68.0        68.0        68.0        68.0  \n49        82.5        82.5        82.5        82.5        82.5        82.5  \n50        43.8        43.8        43.8        43.8        43.8        43.8  \n51        49.2        49.2        49.2        49.2        49.2        49.2  \n52        82.8        82.8        82.8        82.8        82.8        82.8  \n53        41.1        41.1        41.1        41.1        41.1        41.1  \n54       211.2       211.2       211.2       211.2       211.2       211.2  \n55       122.8       122.8       122.8       121.1       121.1       121.1  \n56       111.1       111.1       111.1       111.1       111.1       111.1  \n57       233.3       233.3       233.3       233.3       233.3       233.3  \n58       216.6       216.6       216.6       216.6       216.6       216.6  ",
      "text/html": "<div>\n<style scoped>\n    .dataframe tbody tr th:only-of-type {\n        vertical-align: middle;\n    }\n\n    .dataframe tbody tr th {\n        vertical-align: top;\n    }\n\n    .dataframe thead th {\n        text-align: right;\n    }\n</style>\n<table border=\"1\" class=\"dataframe\">\n  <thead>\n    <tr style=\"text-align: right;\">\n      <th></th>\n      <th>row</th>\n      <th>name</th>\n      <th>product_id</th>\n      <th>W_avg_price</th>\n      <th>delta_lastW</th>\n      <th>2020-03-23</th>\n      <th>2020-03-24</th>\n      <th>2020-03-25</th>\n      <th>2020-03-26</th>\n      <th>2020-03-27</th>\n      <th>2020-03-28</th>\n      <th>2020-03-29</th>\n    </tr>\n  </thead>\n  <tbody>\n    <tr>\n      <th>0</th>\n      <td>9</td>\n      <td>硬種(蓬萊)</td>\n      <td>19</td>\n      <td>22.2</td>\n      <td>1.1</td>\n      <td>22.1</td>\n      <td>22.1</td>\n      <td>22.2</td>\n      <td>22.2</td>\n      <td>22.2</td>\n      <td>22.2</td>\n      <td>22.2</td>\n    </tr>\n    <tr>\n      <th>1</th>\n      <td>10</td>\n      <td>長糯</td>\n      <td>15</td>\n      <td>43.2</td>\n      <td>0.1</td>\n      <td>43.2</td>\n      <td>43.2</td>\n      <td>43.2</td>\n      <td>43.2</td>\n      <td>43.2</td>\n      <td>43.2</td>\n      <td>43.2</td>\n    </tr>\n    <tr>\n      <th>2</th>\n      <td>14</td>\n      <td>NaN</td>\n      <td>40160</td>\n      <td>NaN</td>\n      <td>NaN</td>\n      <td>NaN</td>\n      <td>NaN</td>\n      <td>NaN</td>\n      <td>NaN</td>\n      <td>NaN</td>\n      <td>NaN</td>\n      <td>NaN</td>\n    </tr>\n    <tr>\n      <th>3</th>\n      <td>15</td>\n      <td>NaN</td>\n      <td>49002</td>\n      <td>NaN</td>\n      <td>NaN</td>\n      <td>NaN</td>\n      <td>NaN</td>\n      <td>NaN</td>\n      <td>NaN</td>\n      <td>NaN</td>\n      <td>NaN</td>\n      <td>NaN</td>\n    </tr>\n    <tr>\n      <th>4</th>\n      <td>16</td>\n      <td>大蒜</td>\n      <td>40438</td>\n      <td>87.9</td>\n      <td>-1.8</td>\n      <td>88.5</td>\n      <td>87.8</td>\n      <td>87.6</td>\n      <td>87.6</td>\n      <td>87.6</td>\n      <td>87.6</td>\n      <td>88.3</td>\n    </tr>\n    <tr>\n      <th>5</th>\n      <td>17</td>\n      <td>洋蔥</td>\n      <td>40422</td>\n      <td>12.1</td>\n      <td>-4.2</td>\n      <td>NaN</td>\n      <td>12.9</td>\n      <td>12.6</td>\n      <td>11.7</td>\n      <td>11.7</td>\n      <td>11.9</td>\n      <td>11.7</td>\n    </tr>\n    <tr>\n      <th>6</th>\n      <td>19</td>\n      <td>甘藍</td>\n      <td>40163</td>\n      <td>8.4</td>\n      <td>-8.2</td>\n      <td>NaN</td>\n      <td>9.5</td>\n      <td>9.2</td>\n      <td>8.4</td>\n      <td>7.9</td>\n      <td>7.6</td>\n      <td>7.9</td>\n    </tr>\n    <tr>\n      <th>7</th>\n      <td>20</td>\n      <td>包心白</td>\n      <td>40185</td>\n      <td>9.2</td>\n      <td>-5.7</td>\n      <td>NaN</td>\n      <td>10.6</td>\n      <td>9.5</td>\n      <td>8.9</td>\n      <td>8.5</td>\n      <td>8.8</td>\n      <td>8.7</td>\n    </tr>\n    <tr>\n      <th>8</th>\n      <td>21</td>\n      <td>青蔥-日蔥</td>\n      <td>40539</td>\n      <td>59.3</td>\n      <td>-24.0</td>\n      <td>NaN</td>\n      <td>74.5</td>\n      <td>66.3</td>\n      <td>53.6</td>\n      <td>56.1</td>\n      <td>53.1</td>\n      <td>53.8</td>\n    </tr>\n    <tr>\n      <th>9</th>\n      <td>23</td>\n      <td>青蔥-粉蔥（含北蔥）</td>\n      <td>40541</td>\n      <td>25.8</td>\n      <td>-20.9</td>\n      <td>NaN</td>\n      <td>31.2</td>\n      <td>28.6</td>\n      <td>25.5</td>\n      <td>24.1</td>\n      <td>22.3</td>\n      <td>22.8</td>\n    </tr>\n    <tr>\n      <th>10</th>\n      <td>24</td>\n      <td>花椰菜</td>\n      <td>40016</td>\n      <td>23.7</td>\n      <td>-18.3</td>\n      <td>NaN</td>\n      <td>30.3</td>\n      <td>28.3</td>\n      <td>23.7</td>\n      <td>21.2</td>\n      <td>18.7</td>\n      <td>18.9</td>\n    </tr>\n    <tr>\n      <th>11</th>\n      <td>26</td>\n      <td>胡瓜</td>\n      <td>40027</td>\n      <td>16.2</td>\n      <td>-26.9</td>\n      <td>NaN</td>\n      <td>20.8</td>\n      <td>20.3</td>\n      <td>16.8</td>\n      <td>14.2</td>\n      <td>12.9</td>\n      <td>12.5</td>\n    </tr>\n    <tr>\n      <th>12</th>\n      <td>27</td>\n      <td>花胡瓜</td>\n      <td>40030</td>\n      <td>25.8</td>\n      <td>-38.1</td>\n      <td>NaN</td>\n      <td>32.4</td>\n      <td>28.1</td>\n      <td>24.3</td>\n      <td>24.7</td>\n      <td>23.7</td>\n      <td>18.7</td>\n    </tr>\n    <tr>\n      <th>13</th>\n      <td>28</td>\n      <td>蘿蔔</td>\n      <td>40387</td>\n      <td>8.6</td>\n      <td>-6.9</td>\n      <td>NaN</td>\n      <td>9.2</td>\n      <td>8.6</td>\n      <td>8.4</td>\n      <td>8.1</td>\n      <td>8.5</td>\n      <td>8.9</td>\n    </tr>\n    <tr>\n      <th>14</th>\n      <td>31</td>\n      <td>絲瓜</td>\n      <td>40040</td>\n      <td>29.7</td>\n      <td>-2.6</td>\n      <td>NaN</td>\n      <td>32.5</td>\n      <td>32.1</td>\n      <td>29.8</td>\n      <td>29.2</td>\n      <td>28.6</td>\n      <td>26.2</td>\n    </tr>\n    <tr>\n      <th>15</th>\n      <td>32</td>\n      <td>茄子</td>\n      <td>40059</td>\n      <td>18.1</td>\n      <td>-25.4</td>\n      <td>NaN</td>\n      <td>24.0</td>\n      <td>21.9</td>\n      <td>17.9</td>\n      <td>16.0</td>\n      <td>14.4</td>\n      <td>13.1</td>\n    </tr>\n    <tr>\n      <th>16</th>\n      <td>33</td>\n      <td>甘薯</td>\n      <td>40477</td>\n      <td>15.4</td>\n      <td>-2.9</td>\n      <td>15.8</td>\n      <td>15.8</td>\n      <td>15.3</td>\n      <td>14.8</td>\n      <td>15.3</td>\n      <td>15.3</td>\n      <td>15.3</td>\n    </tr>\n    <tr>\n      <th>17</th>\n      <td>39</td>\n      <td>西瓜</td>\n      <td>50227</td>\n      <td>11.6</td>\n      <td>7.8</td>\n      <td>NaN</td>\n      <td>10.8</td>\n      <td>12.7</td>\n      <td>12.0</td>\n      <td>12.8</td>\n      <td>11.1</td>\n      <td>10.2</td>\n    </tr>\n    <tr>\n      <th>18</th>\n      <td>58</td>\n      <td>NaN</td>\n      <td>50182</td>\n      <td>NaN</td>\n      <td>NaN</td>\n      <td>NaN</td>\n      <td>NaN</td>\n      <td>NaN</td>\n      <td>NaN</td>\n      <td>NaN</td>\n      <td>NaN</td>\n      <td>NaN</td>\n    </tr>\n    <tr>\n      <th>19</th>\n      <td>59</td>\n      <td>棗子</td>\n      <td>50008</td>\n      <td>71.5</td>\n      <td>13.3</td>\n      <td>NaN</td>\n      <td>73.7</td>\n      <td>69.6</td>\n      <td>68.2</td>\n      <td>63.2</td>\n      <td>74.8</td>\n      <td>81.3</td>\n    </tr>\n    <tr>\n      <th>20</th>\n      <td>60</td>\n      <td>椪柑</td>\n      <td>50076</td>\n      <td>NaN</td>\n      <td>NaN</td>\n      <td>NaN</td>\n      <td>NaN</td>\n      <td>NaN</td>\n      <td>NaN</td>\n      <td>NaN</td>\n      <td>NaN</td>\n      <td>NaN</td>\n    </tr>\n    <tr>\n      <th>21</th>\n      <td>61</td>\n      <td>葡萄</td>\n      <td>50218</td>\n      <td>108.8</td>\n      <td>-2.8</td>\n      <td>NaN</td>\n      <td>114.1</td>\n      <td>106.9</td>\n      <td>107.6</td>\n      <td>109.0</td>\n      <td>111.9</td>\n      <td>101.8</td>\n    </tr>\n    <tr>\n      <th>22</th>\n      <td>63</td>\n      <td>釋迦</td>\n      <td>50012</td>\n      <td>98.0</td>\n      <td>-11.6</td>\n      <td>NaN</td>\n      <td>108.6</td>\n      <td>97.0</td>\n      <td>92.0</td>\n      <td>97.9</td>\n      <td>88.6</td>\n      <td>96.8</td>\n    </tr>\n    <tr>\n      <th>23</th>\n      <td>65</td>\n      <td>NaN</td>\n      <td>50092</td>\n      <td>NaN</td>\n      <td>NaN</td>\n      <td>NaN</td>\n      <td>NaN</td>\n      <td>NaN</td>\n      <td>NaN</td>\n      <td>NaN</td>\n      <td>NaN</td>\n      <td>NaN</td>\n    </tr>\n    <tr>\n      <th>24</th>\n      <td>66</td>\n      <td>NaN</td>\n      <td>50128</td>\n      <td>NaN</td>\n      <td>NaN</td>\n      <td>NaN</td>\n      <td>NaN</td>\n      <td>NaN</td>\n      <td>NaN</td>\n      <td>NaN</td>\n      <td>NaN</td>\n      <td>NaN</td>\n    </tr>\n    <tr>\n      <th>25</th>\n      <td>67</td>\n      <td>NaN</td>\n      <td>50288</td>\n      <td>NaN</td>\n      <td>NaN</td>\n      <td>NaN</td>\n      <td>NaN</td>\n      <td>NaN</td>\n      <td>NaN</td>\n      <td>NaN</td>\n      <td>NaN</td>\n      <td>NaN</td>\n    </tr>\n    <tr>\n      <th>26</th>\n      <td>68</td>\n      <td>木瓜</td>\n      <td>50144</td>\n      <td>28.3</td>\n      <td>-14.7</td>\n      <td>NaN</td>\n      <td>30.6</td>\n      <td>29.8</td>\n      <td>30.4</td>\n      <td>29.9</td>\n      <td>26.6</td>\n      <td>23.0</td>\n    </tr>\n    <tr>\n      <th>27</th>\n      <td>69</td>\n      <td>蓮霧</td>\n      <td>50202</td>\n      <td>53.6</td>\n      <td>-10.2</td>\n      <td>NaN</td>\n      <td>59.0</td>\n      <td>54.6</td>\n      <td>56.5</td>\n      <td>49.9</td>\n      <td>50.9</td>\n      <td>50.5</td>\n    </tr>\n    <tr>\n      <th>28</th>\n      <td>70</td>\n      <td>芒果</td>\n      <td>50208</td>\n      <td>82.6</td>\n      <td>-8.4</td>\n      <td>NaN</td>\n      <td>87.5</td>\n      <td>82.9</td>\n      <td>79.3</td>\n      <td>85.2</td>\n      <td>79.3</td>\n      <td>79.5</td>\n    </tr>\n    <tr>\n      <th>29</th>\n      <td>71</td>\n      <td>香蕉</td>\n      <td>50061</td>\n      <td>30.1</td>\n      <td>7.5</td>\n      <td>NaN</td>\n      <td>28.4</td>\n      <td>28.6</td>\n      <td>29.8</td>\n      <td>30.0</td>\n      <td>31.6</td>\n      <td>32.0</td>\n    </tr>\n    <tr>\n      <th>30</th>\n      <td>72</td>\n      <td>青香蕉下品(內銷)</td>\n      <td>59019</td>\n      <td>7.3</td>\n      <td>3.5</td>\n      <td>NaN</td>\n      <td>7.0</td>\n      <td>7.0</td>\n      <td>7.0</td>\n      <td>7.0</td>\n      <td>8.0</td>\n      <td>8.0</td>\n    </tr>\n    <tr>\n      <th>31</th>\n      <td>73</td>\n      <td>香蕉</td>\n      <td>50063</td>\n      <td>36.8</td>\n      <td>1.6</td>\n      <td>NaN</td>\n      <td>37.5</td>\n      <td>37.4</td>\n      <td>36.5</td>\n      <td>34.8</td>\n      <td>37.6</td>\n      <td>36.6</td>\n    </tr>\n    <tr>\n      <th>32</th>\n      <td>74</td>\n      <td>甜橙</td>\n      <td>50096</td>\n      <td>28.4</td>\n      <td>15.1</td>\n      <td>NaN</td>\n      <td>28.0</td>\n      <td>28.6</td>\n      <td>29.3</td>\n      <td>29.5</td>\n      <td>27.7</td>\n      <td>27.9</td>\n    </tr>\n    <tr>\n      <th>33</th>\n      <td>75</td>\n      <td>鳳梨</td>\n      <td>50066</td>\n      <td>16.7</td>\n      <td>-1.2</td>\n      <td>16.7</td>\n      <td>16.7</td>\n      <td>16.6</td>\n      <td>16.6</td>\n      <td>17.0</td>\n      <td>16.6</td>\n      <td>16.5</td>\n    </tr>\n    <tr>\n      <th>34</th>\n      <td>76</td>\n      <td>NaN</td>\n      <td>50102</td>\n      <td>NaN</td>\n      <td>NaN</td>\n      <td>NaN</td>\n      <td>NaN</td>\n      <td>NaN</td>\n      <td>NaN</td>\n      <td>NaN</td>\n      <td>NaN</td>\n      <td>NaN</td>\n    </tr>\n    <tr>\n      <th>35</th>\n      <td>79</td>\n      <td>NaN</td>\n      <td>50157</td>\n      <td>NaN</td>\n      <td>NaN</td>\n      <td>NaN</td>\n      <td>NaN</td>\n      <td>NaN</td>\n      <td>NaN</td>\n      <td>NaN</td>\n      <td>NaN</td>\n      <td>NaN</td>\n    </tr>\n    <tr>\n      <th>36</th>\n      <td>80</td>\n      <td>番石榴</td>\n      <td>50195</td>\n      <td>21.9</td>\n      <td>-17.6</td>\n      <td>NaN</td>\n      <td>26.8</td>\n      <td>23.8</td>\n      <td>22.8</td>\n      <td>22.0</td>\n      <td>19.2</td>\n      <td>17.4</td>\n    </tr>\n    <tr>\n      <th>37</th>\n      <td>81</td>\n      <td>NaN</td>\n      <td>50150</td>\n      <td>NaN</td>\n      <td>NaN</td>\n      <td>NaN</td>\n      <td>NaN</td>\n      <td>NaN</td>\n      <td>NaN</td>\n      <td>NaN</td>\n      <td>NaN</td>\n      <td>NaN</td>\n    </tr>\n    <tr>\n      <th>38</th>\n      <td>82</td>\n      <td>NaN</td>\n      <td>50016</td>\n      <td>NaN</td>\n      <td>NaN</td>\n      <td>NaN</td>\n      <td>NaN</td>\n      <td>NaN</td>\n      <td>NaN</td>\n      <td>NaN</td>\n      <td>NaN</td>\n      <td>NaN</td>\n    </tr>\n    <tr>\n      <th>39</th>\n      <td>88</td>\n      <td>火龍果</td>\n      <td>50039</td>\n      <td>132.6</td>\n      <td>27.0</td>\n      <td>NaN</td>\n      <td>132.9</td>\n      <td>149.9</td>\n      <td>128.9</td>\n      <td>130.3</td>\n      <td>127.6</td>\n      <td>132.0</td>\n    </tr>\n    <tr>\n      <th>40</th>\n      <td>89</td>\n      <td>茂谷柑</td>\n      <td>50080</td>\n      <td>35.0</td>\n      <td>7.4</td>\n      <td>NaN</td>\n      <td>35.2</td>\n      <td>35.3</td>\n      <td>33.4</td>\n      <td>32.8</td>\n      <td>38.7</td>\n      <td>35.3</td>\n    </tr>\n    <tr>\n      <th>41</th>\n      <td>99</td>\n      <td>全部花卉</td>\n      <td>30002</td>\n      <td>49.1</td>\n      <td>2.9</td>\n      <td>57.6</td>\n      <td>53.4</td>\n      <td>52.4</td>\n      <td>50.3</td>\n      <td>43.4</td>\n      <td>42.2</td>\n      <td>37.3</td>\n    </tr>\n    <tr>\n      <th>42</th>\n      <td>100</td>\n      <td>火鶴花</td>\n      <td>60051</td>\n      <td>10.1</td>\n      <td>16.7</td>\n      <td>10.6</td>\n      <td>10.4</td>\n      <td>11.7</td>\n      <td>10.0</td>\n      <td>8.9</td>\n      <td>8.3</td>\n      <td>8.6</td>\n    </tr>\n    <tr>\n      <th>43</th>\n      <td>103</td>\n      <td>文心蘭</td>\n      <td>60066</td>\n      <td>110.7</td>\n      <td>41.1</td>\n      <td>99.7</td>\n      <td>95.5</td>\n      <td>115.3</td>\n      <td>126.5</td>\n      <td>117.6</td>\n      <td>107.2</td>\n      <td>106.4</td>\n    </tr>\n    <tr>\n      <th>44</th>\n      <td>107</td>\n      <td>香水百合</td>\n      <td>60068</td>\n      <td>115.7</td>\n      <td>-4.9</td>\n      <td>134.0</td>\n      <td>122.5</td>\n      <td>142.3</td>\n      <td>120.1</td>\n      <td>100.4</td>\n      <td>87.5</td>\n      <td>65.1</td>\n    </tr>\n    <tr>\n      <th>45</th>\n      <td>115</td>\n      <td>規格豬</td>\n      <td>70001</td>\n      <td>67.4</td>\n      <td>6.8</td>\n      <td>67.7</td>\n      <td>68.1</td>\n      <td>67.3</td>\n      <td>66.9</td>\n      <td>66.8</td>\n      <td>67.5</td>\n      <td>NaN</td>\n    </tr>\n    <tr>\n      <th>46</th>\n      <td>116</td>\n      <td>肥育乳公牛550公斤以上</td>\n      <td>130001</td>\n      <td>112.0</td>\n      <td>0.0</td>\n      <td>112.0</td>\n      <td>NaN</td>\n      <td>NaN</td>\n      <td>NaN</td>\n      <td>NaN</td>\n      <td>NaN</td>\n      <td>NaN</td>\n    </tr>\n    <tr>\n      <th>47</th>\n      <td>117</td>\n      <td>努比亞雜交閹公羊</td>\n      <td>80001</td>\n      <td>235.0</td>\n      <td>-3.7</td>\n      <td>NaN</td>\n      <td>NaN</td>\n      <td>NaN</td>\n      <td>235.0</td>\n      <td>NaN</td>\n      <td>NaN</td>\n      <td>NaN</td>\n    </tr>\n    <tr>\n      <th>48</th>\n      <td>118</td>\n      <td>土番鴨</td>\n      <td>100002</td>\n      <td>68.0</td>\n      <td>0.0</td>\n      <td>68.0</td>\n      <td>68.0</td>\n      <td>68.0</td>\n      <td>68.0</td>\n      <td>68.0</td>\n      <td>68.0</td>\n      <td>68.0</td>\n    </tr>\n    <tr>\n      <th>49</th>\n      <td>119</td>\n      <td>紅羽土雞</td>\n      <td>90004</td>\n      <td>82.5</td>\n      <td>0.0</td>\n      <td>82.5</td>\n      <td>82.5</td>\n      <td>82.5</td>\n      <td>82.5</td>\n      <td>82.5</td>\n      <td>82.5</td>\n      <td>82.5</td>\n    </tr>\n    <tr>\n      <th>50</th>\n      <td>120</td>\n      <td>白肉雞</td>\n      <td>90006</td>\n      <td>43.8</td>\n      <td>1.0</td>\n      <td>43.3</td>\n      <td>43.8</td>\n      <td>43.8</td>\n      <td>43.8</td>\n      <td>43.8</td>\n      <td>43.8</td>\n      <td>43.8</td>\n    </tr>\n    <tr>\n      <th>51</th>\n      <td>121</td>\n      <td>雞蛋</td>\n      <td>90007</td>\n      <td>49.2</td>\n      <td>0.0</td>\n      <td>49.2</td>\n      <td>49.2</td>\n      <td>49.2</td>\n      <td>49.2</td>\n      <td>49.2</td>\n      <td>49.2</td>\n      <td>49.2</td>\n    </tr>\n    <tr>\n      <th>52</th>\n      <td>122</td>\n      <td>虱目魚</td>\n      <td>120198</td>\n      <td>82.8</td>\n      <td>0.0</td>\n      <td>82.8</td>\n      <td>82.8</td>\n      <td>82.8</td>\n      <td>82.8</td>\n      <td>82.8</td>\n      <td>82.8</td>\n      <td>82.8</td>\n    </tr>\n    <tr>\n      <th>53</th>\n      <td>123</td>\n      <td>吳郭魚</td>\n      <td>120007</td>\n      <td>41.1</td>\n      <td>1.4</td>\n      <td>41.1</td>\n      <td>41.1</td>\n      <td>41.1</td>\n      <td>41.1</td>\n      <td>41.1</td>\n      <td>41.1</td>\n      <td>41.1</td>\n    </tr>\n    <tr>\n      <th>54</th>\n      <td>127</td>\n      <td>龍虎斑</td>\n      <td>121041</td>\n      <td>211.2</td>\n      <td>0.0</td>\n      <td>211.2</td>\n      <td>211.2</td>\n      <td>211.2</td>\n      <td>211.2</td>\n      <td>211.2</td>\n      <td>211.2</td>\n      <td>211.2</td>\n    </tr>\n    <tr>\n      <th>55</th>\n      <td>128</td>\n      <td>文蛤養</td>\n      <td>120311</td>\n      <td>122.1</td>\n      <td>-0.6</td>\n      <td>122.8</td>\n      <td>122.8</td>\n      <td>122.8</td>\n      <td>122.8</td>\n      <td>121.1</td>\n      <td>121.1</td>\n      <td>121.1</td>\n    </tr>\n    <tr>\n      <th>56</th>\n      <td>129</td>\n      <td>金目鱸</td>\n      <td>120021</td>\n      <td>111.1</td>\n      <td>0.4</td>\n      <td>111.1</td>\n      <td>111.1</td>\n      <td>111.1</td>\n      <td>111.1</td>\n      <td>111.1</td>\n      <td>111.1</td>\n      <td>111.1</td>\n    </tr>\n    <tr>\n      <th>57</th>\n      <td>130</td>\n      <td>白蝦</td>\n      <td>120364</td>\n      <td>233.3</td>\n      <td>0.0</td>\n      <td>233.3</td>\n      <td>233.3</td>\n      <td>233.3</td>\n      <td>233.3</td>\n      <td>233.3</td>\n      <td>233.3</td>\n      <td>233.3</td>\n    </tr>\n    <tr>\n      <th>58</th>\n      <td>131</td>\n      <td>午仔魚(養殖)</td>\n      <td>120040</td>\n      <td>216.6</td>\n      <td>0.0</td>\n      <td>216.6</td>\n      <td>216.6</td>\n      <td>216.6</td>\n      <td>216.6</td>\n      <td>216.6</td>\n      <td>216.6</td>\n      <td>216.6</td>\n    </tr>\n  </tbody>\n</table>\n</div>"
     },
     "metadata": {},
     "execution_count": 17
    }
   ],
   "source": [
    "# 只留因應措施中有row的品項\n",
    "tmp = df_WL_mp[['product_id', 'row']][df_WL_mp['row'].notna()].astype({'row':int})\n",
    "df_DailyReport = df_trans_W.merge(tmp, left_on='id', right_on='product_id', how='right')\n",
    "df_DailyReport = df_DailyReport.drop(columns=['id', 'group_level'])\n",
    "cols_tar = ['row', 'name', 'product_id', 'W', 'W_avg_price', 'delta_lastW'] + list(df_DailyReport.columns[4:11])\n",
    "# # 只留第三周\n",
    "where = df_DailyReport['W'].isin([np.nan, 'W3'])\n",
    "df_DailyReport = df_DailyReport[where][cols_tar].drop(columns=['W']).sort_values('row').reset_index(drop=True)\n",
    "df_DailyReport.columns = list(df_DailyReport.columns[:5]) + W3_date.tolist()\n",
    "# # 存excel\n",
    "fn = f'{today.date()}_日報表_pandas.xlsx'\n",
    "df_DailyReport.replace(np.nan,'-').astype(str).to_excel(fn) \n",
    "print(f'已存{fn}')\n",
    "# \n",
    "df_DailyReport"
   ]
  },
  {
   "cell_type": "code",
   "execution_count": 18,
   "metadata": {},
   "outputs": [
    {
     "output_type": "execute_result",
     "data": {
      "text/plain": "13.588887453079224"
     },
     "metadata": {},
     "execution_count": 18
    }
   ],
   "source": [
    "time.time()-stime"
   ]
  },
  {
   "cell_type": "markdown",
   "metadata": {},
   "source": [
    "# 3. 單一品項測試 g_handle"
   ]
  },
  {
   "cell_type": "code",
   "execution_count": null,
   "metadata": {},
   "outputs": [],
   "source": [
    "# 大類甘藍40163，三小類LA1,LA2,LA7\n",
    "by_field = 'parent_id' \n",
    "_id = [40163, 14, 40422,40387,50061][-1]\n",
    "# \n",
    "where = True\n",
    "where &= df_trans[by_field] == _id\n",
    "if _id == 50061:\n",
    "    where &= df_trans['product_id']==59004\n",
    "g_df = df_trans[where]\n",
    "#\n",
    "# (1)加總處理===========================================================\n",
    "has_volume = g_df['volume'].count() / g_df['volume'].shape[0] > 0.8\n",
    "has_weight = g_df['avg_weight'].count() / g_df['avg_weight'].shape[0] > 0.8\n",
    "# 每日營業額 total_amount = 每日平均價 avg_price * 每日交易量 total_quantity\n",
    "if has_volume and has_weight:\n",
    "    g_df['total_quantity'] = g_df['avg_weight']*g_df['volume']\n",
    "    g_df['total_amount'] = g_df['avg_price']*g_df['total_quantity']\n",
    "elif has_volume:\n",
    "    g_df['total_quantity'] = g_df['volume']\n",
    "    g_df['total_amount'] = g_df['avg_price']*g_df['total_quantity']\n",
    "else:\n",
    "    g_df['total_quantity'] = g_df['avg_price']/g_df['avg_price']\n",
    "    g_df['total_amount'] = g_df['avg_price']\n",
    "# 每日每大類，不分子品項/來源市場，的總交易量及總營業額\n",
    "cols_tar = ['date', by_field, 'total_amount', 'total_quantity']\n",
    "g_df = g_df[cols_tar].groupby(by=['date', by_field], as_index=False).sum()\n",
    "# 【每日平均價】____________________\n",
    "g_df['D_avg_price'] = (g_df['total_amount']/g_df['total_quantity']).round(1)\n",
    "# date欄位補滿21天\n",
    "g_df = g_df.set_index('date').reindex(dates_W.date).reset_index().rename(columns={'index': 'date'})\n",
    "# 三周分組W1,2,3\n",
    "g_df = g_df.merge(dates_W, on='date')\n",
    "g_df[by_field] = g_df[by_field].fillna(method='ffill').fillna(method='bfill').astype(int)\n",
    "# # 【每周平均價】____________________\n",
    "g_df_W = g_df.groupby(by=['W'])[['total_amount', 'total_quantity']].transform('sum')\n",
    "g_df_W.rename(columns={'total_amount': 'W_total_amount', 'total_quantity': 'W_total_quantity'}, inplace=True)\n",
    "g_df = pd.concat([g_df, g_df_W], axis=1)\n",
    "g_df['W_avg_price'] = (g_df['W_total_amount'].round(2)/g_df['W_total_quantity']).round(1)\n",
    "# # #\n",
    "# g_df = g_df[['date', by_field, 'D_avg_price', 'W_avg_price', 'W']].sort_values('date')\n",
    "# g_df_W = g_df.groupby(by=['W'])[['D_avg_price']].transform('mean')\n",
    "# g_df_W.rename(columns={'D_avg_price': 'W_avg_price'}, inplace=True)\n",
    "# g_df = pd.concat([g_df, g_df_W], axis=1)\n",
    "# g_df = g_df[['date', by_field, 'D_avg_price', 'W_avg_price', 'W']].sort_values('date')\n",
    "# \n",
    "g_df"
   ]
  },
  {
   "cell_type": "code",
   "execution_count": null,
   "metadata": {},
   "outputs": [],
   "source": [
    "# (2)轉置處理===========================================================\n",
    "by_id = g_df[by_field][0]\n",
    "W_avg_price = g_df[['W_avg_price']].iloc[[0, 7, 14], ].values  # array([15. , 14.5,  9.3])\n",
    "#\n",
    "g_df_W1 = g_df[g_df['W'] == 'W1'][['D_avg_price']].reset_index(drop=True).T\n",
    "g_df_W2 = g_df[g_df['W'] == 'W2'][['D_avg_price']].reset_index(drop=True).T\n",
    "g_df_W3 = g_df[g_df['W'] == 'W3'][['D_avg_price']].reset_index(drop=True).T\n",
    "#\n",
    "g_df_W123 = pd.concat([g_df_W1, g_df_W2, g_df_W3]).reset_index(drop=True)\n",
    "g_df_W123[by_field] = by_id\n",
    "g_df_W123['W_avg_price'] = W_avg_price\n",
    "g_df_W123['W'] = ['W1', 'W2', 'W3']\n",
    "cols_tar = [by_field, 'W', 'W_avg_price'] + list(range(7))\n",
    "g_df_W123 = g_df_W123[cols_tar]\n",
    "# #\n",
    "g_df_W123 = g_df_W123.merge(df_abs[['id', 'name']], left_on=by_field, right_on='id', how='left').drop(columns=['id'])\n",
    "g_df_W123['group_level'] = by_field\n",
    "g_df_W123.rename(columns={by_field: 'id'}, inplace=True)\n",
    "# \n",
    "g_df_W123"
   ]
  },
  {
   "cell_type": "code",
   "execution_count": null,
   "metadata": {},
   "outputs": [],
   "source": []
  }
 ],
 "metadata": {
  "language_info": {
   "codemirror_mode": {
    "name": "ipython",
    "version": 3
   },
   "file_extension": ".py",
   "mimetype": "text/x-python",
   "name": "python",
   "nbconvert_exporter": "python",
   "pygments_lexer": "ipython3",
   "version": "3.6.8-final"
  },
  "orig_nbformat": 2,
  "kernelspec": {
   "name": "python36864bit3c7856d2eb4347589437f99440521106",
   "display_name": "Python 3.6.8 64-bit"
  }
 },
 "nbformat": 4,
 "nbformat_minor": 2
}