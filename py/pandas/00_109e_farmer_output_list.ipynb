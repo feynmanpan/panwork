{
 "metadata": {
  "language_info": {
   "codemirror_mode": {
    "name": "ipython",
    "version": 3
   },
   "file_extension": ".py",
   "mimetype": "text/x-python",
   "name": "python",
   "nbconvert_exporter": "python",
   "pygments_lexer": "ipython3",
   "version": "3.6.8-final"
  },
  "orig_nbformat": 2,
  "kernelspec": {
   "name": "Python 3.6.8 64-bit",
   "display_name": "Python 3.6.8 64-bit",
   "metadata": {
    "interpreter": {
     "hash": "15bb2867f7d3caa9efbd56972aaa8e53078f5711f443e9ed293773eb99e388aa"
    }
   }
  }
 },
 "nbformat": 4,
 "nbformat_minor": 2,
 "cells": [
  {
   "cell_type": "code",
   "execution_count": null,
   "metadata": {},
   "outputs": [],
   "source": [
    "import os\n",
    "from os import mkdir\n",
    "import sys\n",
    "import numpy as np\n",
    "import pandas as pd\n",
    "import re\n",
    "import json\n",
    "import csv\n",
    "import string\n",
    "import time\n",
    "from datetime import date, datetime\n",
    "#\n",
    "import openpyxl\n",
    "from openpyxl import Workbook\n",
    "from openpyxl.styles import Alignment, PatternFill, Font, Border, Side, NamedStyle"
   ]
  },
  {
   "cell_type": "code",
   "execution_count": null,
   "metadata": {},
   "outputs": [],
   "source": [
    "stime = time.time() "
   ]
  },
  {
   "cell_type": "markdown",
   "metadata": {},
   "source": [
    "#  【樣本名冊: 清單Excel產出】"
   ]
  },
  {
   "cell_type": "code",
   "execution_count": null,
   "metadata": {},
   "outputs": [],
   "source": [
    "# 目錄\n",
    "folder_src = ['farmer_income_survey', 'resources']\n",
    "folder_input = folder_src + ['input']\n",
    "folder_output = folder_src + ['output']\n",
    "year_this = '109'\n",
    "# 今年的目錄\n",
    "folder_input_thisyear  = folder_input + [year_this]\n",
    "folder_output_thisyear = folder_output + [year_this]\n",
    "# \n",
    "folder_csv             = folder_input_thisyear + ['csv']\n",
    "folder_0_man           = folder_output_thisyear + ['樣本名冊_主選000【依調查員】']\n",
    "folder_123_man         = folder_output_thisyear + ['樣本名冊_備選123【依調查員】']\n",
    "folder_123_county      = folder_output_thisyear + ['樣本名冊_備選123【依縣市】']\n",
    "# path\n",
    "path_survey_csv        = os.path.join(*folder_csv, '01_調查名冊.csv')\n",
    "path_folder_0_man      = os.path.join(*folder_0_man)\n",
    "path_folder_123_man    = os.path.join(*folder_123_man)\n",
    "path_folder_123_county = os.path.join(*folder_123_county)"
   ]
  },
  {
   "cell_type": "code",
   "execution_count": null,
   "metadata": {},
   "outputs": [],
   "source": [
    "init = {\n",
    "    # 'engine': 'python',\n",
    "    'encoding': 'utf-8',\n",
    "    'sep': ',',\n",
    "    'keep_default_na': False,  # 放棄自動轉NA\n",
    "}"
   ]
  },
  {
   "cell_type": "markdown",
   "metadata": {},
   "source": [
    "# 1. 讀檔"
   ]
  },
  {
   "cell_type": "markdown",
   "metadata": {},
   "source": [
    "## 1-1: 讀取【01_調查名冊.csv】四個欄位"
   ]
  },
  {
   "cell_type": "code",
   "execution_count": null,
   "metadata": {
    "tags": []
   },
   "outputs": [],
   "source": [
    "dtype = {'農戶編號': str}\n",
    "# usecols = ['農戶編號', '主要經營型態', '可耕作地面積', '有無外僱']\n",
    "# 109年取消外僱欄位\n",
    "usecols = ['農戶編號', '主要經營型態', '可耕作地面積']\n",
    "cols_map = {'主要經營型態': '經營種類'}\n",
    "df_survey = pd.read_csv(path_survey_csv, **init, dtype=dtype, usecols=usecols).rename(columns=cols_map)\n",
    "df_survey['有無外僱'] = '無'\n",
    "#\n",
    "print(df_survey.shape)\n",
    "df_survey[:3]"
   ]
  },
  {
   "cell_type": "markdown",
   "metadata": {},
   "source": [
    "## 1-2: 讀取【df_survey_combine.csv】"
   ]
  },
  {
   "cell_type": "code",
   "execution_count": null,
   "metadata": {
    "tags": []
   },
   "outputs": [],
   "source": [
    "dtype = {'farmer_num': str, 'link_num': str, 'tel': str, 'layer': str}\n",
    "cols_map = {\n",
    "    'farmer_num': '農戶編號',\n",
    "    'link_num': '連結編號',\n",
    "    'name': '戶長姓名',\n",
    "    'tel': '電話',\n",
    "    'addr': '地址',\n",
    "    'layer': '層別',\n",
    "    'man': 'man',\n",
    "    'county': 'county',\n",
    "}\n",
    "#\n",
    "df_survey_combine = pd.read_csv('df_survey_combine.csv', **init, dtype=dtype, usecols=cols_map.keys())\n",
    "df_survey_combine = df_survey_combine.rename(columns=cols_map)[cols_map.values()]\n",
    "df_survey_combine['樣本套號'] = df_survey_combine['連結編號'].str[-1]\n",
    "#\n",
    "print(df_survey_combine.shape)\n",
    "df_survey_combine[:2]"
   ]
  },
  {
   "cell_type": "markdown",
   "metadata": {},
   "source": [
    "## 1-3: join組成Excel所需的12欄(A-L)資料"
   ]
  },
  {
   "cell_type": "code",
   "execution_count": null,
   "metadata": {
    "tags": []
   },
   "outputs": [],
   "source": [
    "cols_n = 11\n",
    "cols_12 = list(string.ascii_uppercase)[:cols_n]  # A-K\n",
    "cols_14 = ['man', 'county'] + cols_12\n",
    "#\n",
    "cols_tar = [\n",
    "    'man', 'county',\n",
    "    '序號', '樣本套號', '農戶編號', '連結編號', '戶長姓名', '電話', '地址', '層別',\n",
    "    '經營種類', '可耕作地面積', '成功打勾', \n",
    "    # '有無外僱'\n",
    "]\n",
    "#\n",
    "df_survey_list = df_survey_combine.merge(df_survey, on='農戶編號', how='left').reindex(cols_tar, axis=1).fillna('')\n",
    "df_survey_list = df_survey_list.sort_values(by=['man', '樣本套號', '地址']).reset_index(drop=True)\n",
    "#\n",
    "print(df_survey_list.shape)\n",
    "df_survey_list[:3]"
   ]
  },
  {
   "cell_type": "markdown",
   "metadata": {},
   "source": [
    "# 2. 樣本名冊處理"
   ]
  },
  {
   "cell_type": "markdown",
   "metadata": {},
   "source": [
    "## 2-1: 輸出excel的函數"
   ]
  },
  {
   "cell_type": "code",
   "execution_count": null,
   "metadata": {},
   "outputs": [],
   "source": [
    "def export_excel(df, path_folder, fn):\n",
    "    # 儲存目錄\n",
    "    if path_folder and not os.path.isdir(path_folder):\n",
    "        mkdir(path_folder)\n",
    "    # 儲存檔名\n",
    "    path_csv = os.path.join(path_folder, f'{fn}.csv')\n",
    "    path_xlsx = os.path.join(path_folder, f'{fn}.xlsx')\n",
    "    # 先存csv\n",
    "    df.to_csv(path_csv, index=False, header=False)\n",
    "    # ==================================================================================\n",
    "    # widths = [5.29, 5.29, 13.29, 9.29, 11.29, 12.29, 50.29, 4.29, 10.29, 20.29, 5.29, 5.29]\n",
    "    widths = [5.29, 5.29, 13.29, 9.29, 11.29, 12.29, 50.29+5.29, 4.29, 10.29, 20.29, 5.29] # 109 改11欄\n",
    "    ratio = 1.13\n",
    "    # 格式\n",
    "    title_fill = PatternFill(start_color='F7F7F7', end_color='F7F7F7', fill_type='solid')\n",
    "    title_font = Font(bold=True)\n",
    "    fillY = PatternFill(fill_type='solid', fgColor='FFFF00')\n",
    "    align_center = Alignment(horizontal='center', vertical='center', wrap_text=True)\n",
    "    align_right = Alignment(horizontal='right', vertical='center', wrap_text=True)\n",
    "    align_left = Alignment(horizontal='left', vertical='center', wrap_text=True)\n",
    "    align_top = Alignment(horizontal='left', vertical='top', wrap_text=True)\n",
    "    side_medium = Side(style='medium')\n",
    "    side_thin = Side(style='thin')\n",
    "    border_4m = Border(top=side_medium, right=side_medium, bottom=side_medium, left=side_medium)\n",
    "    border_4t = Border(top=side_thin, right=side_thin, bottom=side_thin, left=side_thin)\n",
    "    # 樣式\n",
    "    title = NamedStyle(name=\"title\")\n",
    "    title.alignment = align_center\n",
    "    title.border = border_4t\n",
    "    title.fill = title_fill\n",
    "    title.font = title_font\n",
    "    order_bold = NamedStyle(name=\"order_bold\")\n",
    "    order_bold.font = title_font\n",
    "    order_bold.alignment = align_center\n",
    "    order_bold.border = border_4t\n",
    "    CB = NamedStyle(name=\"CB\")\n",
    "    CB.alignment = align_center\n",
    "    CB.border = border_4t\n",
    "    CBY = NamedStyle(name=\"CBY\")\n",
    "    CBY.alignment = align_center\n",
    "    CBY.border = border_4t\n",
    "    CBY.fill = fillY\n",
    "    LB = NamedStyle(name=\"LB\")\n",
    "    LB.alignment = align_left\n",
    "    LB.border = border_4t\n",
    "    TB = NamedStyle(name=\"TB\")\n",
    "    TB.alignment = align_top\n",
    "    TB.border = border_4t\n",
    "    #\n",
    "    wb = Workbook()\n",
    "    sheet = wb.active\n",
    "    for idx, col in enumerate(cols_12):\n",
    "        sheet.column_dimensions[col].width = widths[idx]*ratio  # 調整欄寬\n",
    "    # 從csv逐列貼資料到excel\n",
    "    with open(path_csv, 'r', encoding='UTF-8') as csv_file:\n",
    "        csv_reader = csv.reader(csv_file, delimiter=',')\n",
    "        fillY_YN = -1  # 123套間隔加黃底，不一定有3，可能只有12\n",
    "        link_num_pre = None\n",
    "        for n, row in enumerate(csv_reader, 1):\n",
    "            ##########################################\n",
    "            sheet.append(row)\n",
    "            ##########################################\n",
    "            if n in [1, 2, 3]:\n",
    "                sheet.merge_cells(start_row=n, end_row=n, start_column=1, end_column=cols_n)  # 從 A 欄併到 K 欄\n",
    "                sheet.cell(row=n, column=1).alignment = (n < 3) and align_center or align_right  # 前兩列置中，第三列靠右\n",
    "            elif n == 4:\n",
    "                sheet.merge_cells(start_row=n, end_row=n, start_column=1, end_column=cols_n)\n",
    "                for col in range(1, cols_n+1):\n",
    "                    sheet.cell(row=n, column=col).border = border_4t  # 空白列\n",
    "            elif n == 5:\n",
    "                for col in range(1, cols_n+1):\n",
    "                    sheet.cell(row=n, column=col).style = title  # 表頭列\n",
    "            elif n > 5:\n",
    "                sheet.row_dimensions[n].height = 1.95 * 17.153\n",
    "                # 以連結編號前四碼判斷組別，同組123間隔加黃底，同縣市不一定有123，可能只有12，或只有3\n",
    "                if row[3][-1] != '0':\n",
    "                    if row[3][:4] != link_num_pre:\n",
    "                        fillY_YN = -1*fillY_YN\n",
    "                        link_num_pre = row[3][:4]\n",
    "                sheet.cell(row=n, column=2).style = (fillY_YN > 0) and CBY or CB\n",
    "                sheet.cell(row=n, column=1).style = order_bold\n",
    "                for col in [11]:\n",
    "                    sheet.cell(row=n, column=col).style = CB # 最後一欄要框線\n",
    "                for col in [3, 4, 5, 6, 7, 8, 9, 10]:\n",
    "                    sheet.cell(row=n, column=col).style = TB  # 戶長姓名/電話/地址靠上，多些空間註記\n",
    "                # for col in [9, 10]:\n",
    "                #     sheet.cell(row=n, column=col).style = LB\n",
    "\n",
    "    #\n",
    "    wb.save(path_xlsx)\n",
    "    os.remove(path_csv)"
   ]
  },
  {
   "cell_type": "code",
   "execution_count": null,
   "metadata": {},
   "outputs": [],
   "source": [
    "# 主備選excel前三列文字\n",
    "title_a = f'{year_this}年主力農家所得調查樣本名冊─主選'\n",
    "title_b = '本頁已完成調查戶數：_____'\n",
    "title_c = '失敗戶請填寫失敗訪視紀錄表'\n",
    "#\n",
    "title_0   = [title_a, title_b, title_c]\n",
    "title_123 = [title_a.replace('主選', '備選'), title_b, title_c]"
   ]
  },
  {
   "cell_type": "markdown",
   "metadata": {},
   "source": [
    "## 2-2: 主選 0【依調查員】"
   ]
  },
  {
   "cell_type": "code",
   "execution_count": null,
   "metadata": {},
   "outputs": [],
   "source": [
    "# 切出主選\n",
    "where = df_survey_list['樣本套號'] == '0'\n",
    "df_survey_list_0 = df_survey_list[where].sort_values(by=['man', '地址']).reset_index(drop=True)\n",
    "#\n",
    "# (1) 主要資料 type = 9 ___________________________________\n",
    "# 地址排序後，每個調查員負責的農戶做rank當序號，欄位更新為A-L\n",
    "df_survey_list_0[['序號']] = df_survey_list_0[['man']].reset_index().groupby('man').transform(lambda x: x.rank()).astype(int)  # 去小數點\n",
    "df_survey_list_0 = df_survey_list_0.set_axis(cols_14, axis=1).assign(type=9)\n",
    "# (2) 每個調查員excel的檔頭前5列 ___________________________________\n",
    "df_man_0 = df_survey_list_0[['man']].drop_duplicates().reset_index(drop=True)\n",
    "# A.前三列 type = 0\n",
    "df_title_0 = df_man_0.assign(A=[title_0]*df_man_0.shape[0]).explode('A').reindex(cols_14, axis=1).fillna('').assign(type=0)\n",
    "# B.第四列空白行 type = 1\n",
    "df_space_0 = df_man_0.reindex(cols_14, axis=1).fillna('').assign(type=1)\n",
    "# C.第五列粗黑標題 type = 2\n",
    "df_cols_0 = df_man_0.reindex(cols_14, axis=1)\n",
    "df_cols_0.iloc[:1, 2:] = cols_tar[2:]\n",
    "df_cols_0 = df_cols_0.fillna(method='ffill').fillna('').assign(type=2)\n",
    "# (3) 前五列+資料 ___________________________________\n",
    "df_list = [df_survey_list_0, df_title_0, df_space_0, df_cols_0]\n",
    "df_survey_list_0 = pd.concat(df_list).sort_values(by=['man', 'type'])\n",
    "#\n",
    "df_survey_list_0[:3]"
   ]
  },
  {
   "cell_type": "code",
   "execution_count": null,
   "metadata": {
    "tags": []
   },
   "outputs": [],
   "source": [
    "# 依調查員逐一切割主選df，並匯出excel\n",
    "for man in df_man_0['man']:\n",
    "    where = df_survey_list_0['man'] == man\n",
    "    export_excel(df_survey_list_0[where][cols_12], path_folder_0_man, f'{man}_主選樣本名冊_{year_this}')"
   ]
  },
  {
   "cell_type": "markdown",
   "metadata": {},
   "source": [
    "## 2-3: 備選 123【依調查員】"
   ]
  },
  {
   "cell_type": "code",
   "execution_count": null,
   "metadata": {
    "tags": []
   },
   "outputs": [],
   "source": [
    "# 切出備選123\n",
    "where = df_survey_list['樣本套號'].str.contains('[123]', regex=True)\n",
    "df_survey_list_123_src = df_survey_list[where]\n",
    "df_survey_list_123 = df_survey_list_123_src.sort_values(by=['連結編號']).reset_index(drop=True)\n",
    "# (1) 主要資料 type = 9 ___________________________________\n",
    "# 123 新增以第一套為主的地址欄，2,3結尾者為na\n",
    "# 連結編號排序，前四碼相同者為一組，第五碼2,3者，前向填充第五碼1的地址\n",
    "df_survey_list_123['addr_1'] = np.where(df_survey_list_123['樣本套號'] == '1', df_survey_list_123['地址'], np.nan)\n",
    "df_survey_list_123 = df_survey_list_123.fillna(method='ffill').sort_values(by=['man', 'addr_1', '連結編號']).reset_index(drop=True)\n",
    "# addr_1/連結編號 排序後，每個調查員負責的農戶做rank當序號，欄位更新為A-L\n",
    "df_survey_list_123[['序號']] = df_survey_list_123[['man']].reset_index().groupby('man').transform(lambda x: x.rank()).astype(int)  # 去小數點\n",
    "del df_survey_list_123['addr_1']\n",
    "df_survey_list_123 = df_survey_list_123.set_axis(cols_14, axis=1).assign(type=9)\n",
    "# (2) 每個調查員excel的檔頭前5列 ___________________________________\n",
    "df_man_123 = df_survey_list_123[['man']].drop_duplicates().reset_index(drop=True)\n",
    "# A.前三列 type = 0\n",
    "df_title_123 = df_man_123.assign(A=[title_123]*df_man_123.shape[0]).explode('A').reindex(cols_14, axis=1).fillna('').assign(type=0)\n",
    "# B.第四列空白行 type = 1\n",
    "df_space_123 = df_man_123.reindex(cols_14, axis=1).fillna('').assign(type=1)\n",
    "# C.第五列粗黑標題 type = 2\n",
    "df_cols_123 = df_man_123.reindex(cols_14, axis=1)\n",
    "df_cols_123.iloc[:1, 2:] = cols_tar[2:]\n",
    "df_cols_123 = df_cols_123.fillna(method='ffill').fillna('').assign(type=2)\n",
    "# (3) 前五列+資料 ___________________________________\n",
    "df_list = [df_survey_list_123, df_title_123, df_space_123, df_cols_123]\n",
    "df_survey_list_123 = pd.concat(df_list).sort_values(by=['man', 'type'])\n",
    "#\n",
    "print(df_survey_list_123.shape)\n",
    "df_survey_list_123[:3]"
   ]
  },
  {
   "cell_type": "code",
   "execution_count": null,
   "metadata": {},
   "outputs": [],
   "source": [
    "# 依調查員逐一切割備選df，並匯出excel\n",
    "for man in df_man_123['man']:\n",
    "    where = df_survey_list_123['man'] == man\n",
    "    export_excel(df_survey_list_123[where][cols_12], path_folder_123_man, f'{man}_備選123樣本名冊_{year_this}')"
   ]
  },
  {
   "cell_type": "markdown",
   "metadata": {},
   "source": [
    "## 2-4: 備選 123【依縣市】"
   ]
  },
  {
   "cell_type": "code",
   "execution_count": null,
   "metadata": {
    "tags": []
   },
   "outputs": [],
   "source": [
    "df_survey_list_123 = df_survey_list_123_src.sort_values(by=['county', '連結編號']).reset_index(drop=True)\n",
    "#\n",
    "# (1) 主要資料 type = 9 ___________________________________\n",
    "# 排序後，每個縣市的農戶做rank當序號，欄位更新為A-L\n",
    "df_survey_list_123[['序號']] = df_survey_list_123[['county']].reset_index().groupby('county').transform(lambda x: x.rank()).astype(int)\n",
    "df_survey_list_123 = df_survey_list_123.set_axis(cols_14, axis=1).assign(type=9)\n",
    "# (2) 每個縣市 excel的檔頭前5列 ___________________________________\n",
    "df_county_123 = df_survey_list_123[['county']].drop_duplicates().reset_index(drop=True)\n",
    "# A.前三列 type = 0\n",
    "df_title_123 = df_county_123.assign(A=[title_123]*df_county_123.shape[0]).explode('A').reindex(cols_14, axis=1).fillna('').assign(type=0)\n",
    "# B.第四列空白行 type = 1\n",
    "df_space_123 = df_county_123.reindex(cols_14, axis=1).fillna('').assign(type=1)\n",
    "# C.第五列粗黑標題 type = 2\n",
    "df_cols_123 = df_county_123.reindex(cols_14, axis=1)\n",
    "df_cols_123.iloc[:1, 2:] = cols_tar[2:]\n",
    "df_cols_123 = df_cols_123.fillna(method='ffill').fillna('').assign(type=2)\n",
    "# (3) 前五列+資料 ___________________________________\n",
    "df_list = [df_survey_list_123, df_title_123, df_space_123, df_cols_123]\n",
    "df_survey_list_123 = pd.concat(df_list).sort_values(by=['county', 'type'])\n",
    "#\n",
    "print(df_survey_list_123.shape)\n",
    "df_survey_list_123[:3]"
   ]
  },
  {
   "cell_type": "code",
   "execution_count": null,
   "metadata": {},
   "outputs": [],
   "source": [
    "# 依縣市逐一切割備選df，並匯出excel\n",
    "for county in df_county_123['county']:\n",
    "    where = df_survey_list_123['county'] == county\n",
    "    export_excel(df_survey_list_123[where][cols_12], path_folder_123_county, f'{county}_備選123樣本名冊_{year_this}')"
   ]
  },
  {
   "cell_type": "code",
   "execution_count": null,
   "metadata": {},
   "outputs": [],
   "source": [
    "time.time() - stime"
   ]
  }
 ]
}